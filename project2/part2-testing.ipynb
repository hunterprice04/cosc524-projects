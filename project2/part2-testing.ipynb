{
 "cells": [
  {
   "cell_type": "code",
   "execution_count": 3,
   "metadata": {
    "collapsed": true
   },
   "outputs": [
    {
     "name": "stdout",
     "output_type": "stream",
     "text": [
      "The autoreload extension is already loaded. To reload it, use:\n",
      "  %reload_ext autoreload\n",
      "The tensorboard extension is already loaded. To reload it, use:\n",
      "  %reload_ext tensorboard\n"
     ]
    }
   ],
   "source": [
    "%load_ext autoreload\n",
    "%autoreload 2\n",
    "%load_ext tensorboard\n"
   ]
  },
  {
   "cell_type": "markdown",
   "source": [
    "---\n",
    "# Project 2 - Part 2\n",
    "For Part 2, attempt to fine-tune the question-answering with your questions and answers intended to offer greater resolution than the answers in Part 1.\n",
    "    To do this, you will need to generate your own custom SQuAD-compatible QA dataset using the sections of your choice, the questions, and the answers which you will add to the squad dataset downloadable from Hugging Face, [which is described in this article](https://huggingface.co/transformers/v3.2.0/custom_datasets.html).  Note: custom training can take a very long time on Google Colab, so be prepared for that."
   ],
   "metadata": {
    "collapsed": false
   }
  },
  {
   "cell_type": "code",
   "execution_count": 4,
   "outputs": [
    {
     "name": "stderr",
     "output_type": "stream",
     "text": [
      "2022-10-31 10:14:19.870887: I tensorflow/core/platform/cpu_feature_guard.cc:193] This TensorFlow binary is optimized with oneAPI Deep Neural Network Library (oneDNN) to use the following CPU instructions in performance-critical operations:  AVX2 AVX_VNNI FMA\n",
      "To enable them in other operations, rebuild TensorFlow with the appropriate compiler flags.\n",
      "2022-10-31 10:14:19.949031: I tensorflow/core/util/util.cc:169] oneDNN custom operations are on. You may see slightly different numerical results due to floating-point round-off errors from different computation orders. To turn them off, set the environment variable `TF_ENABLE_ONEDNN_OPTS=0`.\n",
      "2022-10-31 10:14:19.983571: E tensorflow/stream_executor/cuda/cuda_blas.cc:2981] Unable to register cuBLAS factory: Attempting to register factory for plugin cuBLAS when one has already been registered\n",
      "2022-10-31 10:14:20.442490: W tensorflow/stream_executor/platform/default/dso_loader.cc:64] Could not load dynamic library 'libnvinfer.so.7'; dlerror: libnvinfer.so.7: cannot open shared object file: No such file or directory\n",
      "2022-10-31 10:14:20.442524: W tensorflow/stream_executor/platform/default/dso_loader.cc:64] Could not load dynamic library 'libnvinfer_plugin.so.7'; dlerror: libnvinfer_plugin.so.7: cannot open shared object file: No such file or directory\n",
      "2022-10-31 10:14:20.442527: W tensorflow/compiler/tf2tensorrt/utils/py_utils.cc:38] TF-TRT Warning: Cannot dlopen some TensorRT libraries. If you would like to use Nvidia GPU with TensorRT, please make sure the missing libraries mentioned above are installed properly.\n"
     ]
    }
   ],
   "source": [
    "import os\n",
    "from pprint import pprint\n",
    "from transformers import pipeline\n",
    "from transformers import DistilBertTokenizerFast, TFDistilBertForQuestionAnswering\n",
    "\n",
    "from custom_squad import *  # creating and loading in custom squad questions and answers\n",
    "from question_answering import *  # automating the question answering process"
   ],
   "metadata": {
    "collapsed": false
   }
  },
  {
   "cell_type": "markdown",
   "source": [
    "---\n",
    "# Load in Finetuned Distilbert"
   ],
   "metadata": {
    "collapsed": false
   }
  },
  {
   "cell_type": "code",
   "execution_count": 5,
   "outputs": [
    {
     "name": "stderr",
     "output_type": "stream",
     "text": [
      "2022-10-31 10:14:22.748114: I tensorflow/stream_executor/cuda/cuda_gpu_executor.cc:980] successful NUMA node read from SysFS had negative value (-1), but there must be at least one NUMA node, so returning NUMA node zero\n",
      "2022-10-31 10:14:22.818577: I tensorflow/stream_executor/cuda/cuda_gpu_executor.cc:980] successful NUMA node read from SysFS had negative value (-1), but there must be at least one NUMA node, so returning NUMA node zero\n",
      "2022-10-31 10:14:22.818672: I tensorflow/stream_executor/cuda/cuda_gpu_executor.cc:980] successful NUMA node read from SysFS had negative value (-1), but there must be at least one NUMA node, so returning NUMA node zero\n",
      "2022-10-31 10:14:22.819055: I tensorflow/core/platform/cpu_feature_guard.cc:193] This TensorFlow binary is optimized with oneAPI Deep Neural Network Library (oneDNN) to use the following CPU instructions in performance-critical operations:  AVX2 AVX_VNNI FMA\n",
      "To enable them in other operations, rebuild TensorFlow with the appropriate compiler flags.\n",
      "2022-10-31 10:14:22.820190: I tensorflow/stream_executor/cuda/cuda_gpu_executor.cc:980] successful NUMA node read from SysFS had negative value (-1), but there must be at least one NUMA node, so returning NUMA node zero\n",
      "2022-10-31 10:14:22.820274: I tensorflow/stream_executor/cuda/cuda_gpu_executor.cc:980] successful NUMA node read from SysFS had negative value (-1), but there must be at least one NUMA node, so returning NUMA node zero\n",
      "2022-10-31 10:14:22.820319: I tensorflow/stream_executor/cuda/cuda_gpu_executor.cc:980] successful NUMA node read from SysFS had negative value (-1), but there must be at least one NUMA node, so returning NUMA node zero\n",
      "2022-10-31 10:14:23.239634: I tensorflow/stream_executor/cuda/cuda_gpu_executor.cc:980] successful NUMA node read from SysFS had negative value (-1), but there must be at least one NUMA node, so returning NUMA node zero\n",
      "2022-10-31 10:14:23.246642: I tensorflow/stream_executor/cuda/cuda_gpu_executor.cc:980] successful NUMA node read from SysFS had negative value (-1), but there must be at least one NUMA node, so returning NUMA node zero\n",
      "2022-10-31 10:14:23.246707: I tensorflow/stream_executor/cuda/cuda_gpu_executor.cc:980] successful NUMA node read from SysFS had negative value (-1), but there must be at least one NUMA node, so returning NUMA node zero\n",
      "2022-10-31 10:14:23.246759: I tensorflow/core/common_runtime/gpu/gpu_device.cc:1616] Created device /job:localhost/replica:0/task:0/device:GPU:0 with 7164 MB memory:  -> device: 0, name: NVIDIA GeForce RTX 3080, pci bus id: 0000:01:00.0, compute capability: 8.6\n",
      "2022-10-31 10:14:24.233908: I tensorflow/stream_executor/cuda/cuda_blas.cc:1614] TensorFloat-32 will be used for the matrix multiplication. This will only be logged once.\n",
      "All model checkpoint layers were used when initializing TFDistilBertForQuestionAnswering.\n",
      "\n",
      "All the layers of TFDistilBertForQuestionAnswering were initialized from the model checkpoint at model-weights.\n",
      "If your task is similar to the task the model of the checkpoint was trained on, you can already use TFDistilBertForQuestionAnswering for predictions without further training.\n"
     ]
    }
   ],
   "source": [
    "tokenizer = DistilBertTokenizerFast.from_pretrained('distilbert-base-uncased')\n",
    "model = TFDistilBertForQuestionAnswering.from_pretrained('model-weights')\n",
    "generator = pipeline(task=\"question-answering\", model=model, tokenizer=tokenizer)\n"
   ],
   "metadata": {
    "collapsed": false
   }
  },
  {
   "cell_type": "markdown",
   "source": [
    "---\n",
    "# Load in Custom Questions"
   ],
   "metadata": {
    "collapsed": false
   }
  },
  {
   "cell_type": "code",
   "execution_count": 7,
   "outputs": [],
   "source": [
    "samples = create_samples()\n"
   ],
   "metadata": {
    "collapsed": false
   }
  },
  {
   "cell_type": "code",
   "execution_count": 8,
   "outputs": [
    {
     "name": "stdout",
     "output_type": "stream",
     "text": [
      "Num Samples: 25\n",
      "Sample Keys: dict_keys(['id', 'title', 'context', 'question', 'answers'])\n"
     ]
    }
   ],
   "source": [
    "# peek at a samples\n",
    "print(f'Num Samples: {len(samples)}')\n",
    "print(f'Sample Keys: {samples[0].keys()}')\n"
   ],
   "metadata": {
    "collapsed": false
   }
  },
  {
   "cell_type": "code",
   "execution_count": 9,
   "outputs": [
    {
     "name": "stdout",
     "output_type": "stream",
     "text": [
      "sample[0]:\n",
      "{'answers': {'answer_start': [608], 'text': ['practitioner']},\n",
      " 'context': 'Mr. Sherlock Holmes, who was usually very late in the mornings, '\n",
      "            'save upon those not infrequent occasions when he was up all '\n",
      "            'night, was seated at the breakfast table. I stood upon the '\n",
      "            'hearth-rug and picked up the stick which our visitor had left '\n",
      "            'behind him the night before. It was a fine, thick piece of wood, '\n",
      "            'bulbous-headed, of the sort which is known as a \\\\\"Penang '\n",
      "            'lawyer.\\\\\" Just under the head was a broad silver band nearly an '\n",
      "            'inch across. \\\\\"To James Mortimer, M.R.C.S., from his friends of '\n",
      "            'the C.C.H.,\\\\\" was engraved upon it, with the date \\\\\"1884.\\\\\" It '\n",
      "            'was just such a stick as the old-fashioned family practitioner '\n",
      "            'used to carry—dignified, solid, and reassuring. \\\\\"Well, Watson, '\n",
      "            'what do you make of it?\\\\\" Holmes was sitting with his back to '\n",
      "            'me, and I had given him no sign of my occupation. \\\\\"How did you '\n",
      "            'know what I was doing? I believe you have eyes in the back of '\n",
      "            'your head.\\\\\" \\\\\"I have, at least, a well-polished, silver-plated '\n",
      "            'coffee-pot in front of me,\\\\\" said he. \\\\\"But, tell me, Watson, '\n",
      "            \"what do you make of our visitor's stick? Since we have been so \"\n",
      "            'unfortunate as to miss him and have no notion of his errand, this '\n",
      "            'accidental souvenir becomes of importance. Let me hear you '\n",
      "            'reconstruct the man by an examination of it.\\\\\" \\\\\"I think,\\\\\" '\n",
      "            'said I, following as far as I could the methods of my companion, '\n",
      "            '\\\\\"that Dr. Mortimer is a successful, elderly medical man, '\n",
      "            'well-esteemed since those who know him give him this mark of '\n",
      "            'their appreciation.\\\\\" \\\\\"Good!\\\\\" said Holmes. \\\\\"Excellent!\\\\\" '\n",
      "            '\\\\\"I think also that the probability is in favour of his being a '\n",
      "            'country practitioner who does a great deal of his visiting on '\n",
      "            'foot.\\\\\" \\\\\"Why so?\\\\\" \\\\\"Because this stick, though originally a '\n",
      "            'very handsome one has',\n",
      " 'id': 'abcdefg',\n",
      " 'question': 'What is the guests occupation?',\n",
      " 'title': 'The Hound of the Baskervilles'}\n"
     ]
    }
   ],
   "source": [
    "print(f'sample[0]:')\n",
    "pprint(samples[0])\n"
   ],
   "metadata": {
    "collapsed": false
   }
  },
  {
   "cell_type": "markdown",
   "source": [
    "---\n",
    "# Test QA"
   ],
   "metadata": {
    "collapsed": false
   }
  },
  {
   "cell_type": "code",
   "execution_count": 10,
   "outputs": [
    {
     "name": "stdout",
     "output_type": "stream",
     "text": [
      "QUESTION: \"What is the guests occupation?\"\n",
      "GROUND TRUTH: \"practitioner\"\n",
      "PREDICTED: \"country practitioner\"\n",
      "SCORE: \"0.5441751480102539\"\n"
     ]
    }
   ],
   "source": [
    "# Test pipeline generator\n",
    "_ = qa(generator, samples[0], verbose=True)\n"
   ],
   "metadata": {
    "collapsed": false
   }
  },
  {
   "cell_type": "markdown",
   "source": [
    "---\n",
    "# Finetuned Question vs Answers With 500 Word Contexts"
   ],
   "metadata": {
    "collapsed": false
   }
  },
  {
   "cell_type": "code",
   "execution_count": 11,
   "outputs": [],
   "source": [
    "# Run all of the samples through the generator\n",
    "predicted = list(map(lambda s: qa(generator, s, verbose=False), samples))\n",
    "\n",
    "# Package the sample with the predicted\n",
    "questions_answers = list(zip(samples, predicted))\n"
   ],
   "metadata": {
    "collapsed": false
   }
  },
  {
   "cell_type": "code",
   "execution_count": 12,
   "outputs": [
    {
     "name": "stdout",
     "output_type": "stream",
     "text": [
      "****************************************************************************************************\n",
      "\n",
      "QUESTION #0:\n",
      "\"What is the guests occupation?\"\n",
      "\n",
      "GROUND TRUTH ANSWER:\n",
      "\"practitioner\"\n",
      "\n",
      "PREDICTED ANSWER (score=0.5441751480102539):\n",
      "\"country practitioner\"\n",
      "\n",
      "****************************************************************************************************\n",
      "\n",
      "QUESTION #1:\n",
      "\"How did Sherlock Holmes see Watson?\"\n",
      "\n",
      "GROUND TRUTH ANSWER:\n",
      "\"well-polished, silver-plated coffee-pot\"\n",
      "\n",
      "PREDICTED ANSWER (score=0.08912938088178635):\n",
      "\"an examination of it\"\n",
      "\n",
      "****************************************************************************************************\n",
      "\n",
      "QUESTION #2:\n",
      "\"What did Holmes and Watson inspect?\"\n",
      "\n",
      "GROUND TRUTH ANSWER:\n",
      "\"visitor's stick\"\n",
      "\n",
      "PREDICTED ANSWER (score=0.09732741862535477):\n",
      "\"our visitor's stick\"\n",
      "\n",
      "****************************************************************************************************\n",
      "\n",
      "QUESTION #3:\n",
      "\"Where was Sherlock Holmes sitting?\"\n",
      "\n",
      "GROUND TRUTH ANSWER:\n",
      "\"at the breakfast table\"\n",
      "\n",
      "PREDICTED ANSWER (score=0.5598424673080444):\n",
      "\"breakfast table\"\n",
      "\n",
      "****************************************************************************************************\n",
      "\n",
      "QUESTION #4:\n",
      "\"When does Sherlock Holmes usually wake up?\"\n",
      "\n",
      "GROUND TRUTH ANSWER:\n",
      "\"very late in the mornings\"\n",
      "\n",
      "PREDICTED ANSWER (score=0.46840688586235046):\n",
      "\"very late in the mornings\"\n",
      "\n",
      "****************************************************************************************************\n",
      "\n",
      "QUESTION #5:\n",
      "\"What habit does Sir Charles of Baskerville have?\"\n",
      "\n",
      "GROUND TRUTH ANSWER:\n",
      "\"in the habit every night before going to bed of walking down the famous yew alley of Baskerville Hall\"\n",
      "\n",
      "PREDICTED ANSWER (score=0.7550292611122131):\n",
      "\"smoking a cigar\"\n",
      "\n",
      "****************************************************************************************************\n",
      "\n",
      "QUESTION #6:\n",
      "\"What was Sir Charles doing the night of his murder?\"\n",
      "\n",
      "GROUND TRUTH ANSWER:\n",
      "\"That night he went out as usual for his nocturnal walk, in the course of which he was in the habit of smoking a cigar\"\n",
      "\n",
      "PREDICTED ANSWER (score=0.26509684324264526):\n",
      "\"smoking a cigar\"\n",
      "\n",
      "****************************************************************************************************\n",
      "\n",
      "QUESTION #7:\n",
      "\"How was Sir Charles's body found?\"\n",
      "\n",
      "GROUND TRUTH ANSWER:\n",
      "\"Charles's footmarks were easily traced down the alley.\"\n",
      "\n",
      "PREDICTED ANSWER (score=0.05957905948162079):\n",
      "\"lighting a lantern, went in search of his master\"\n",
      "\n",
      "****************************************************************************************************\n",
      "\n",
      "QUESTION #8:\n",
      "\"Did anyone hear what happened to Sir Charles?\"\n",
      "\n",
      "GROUND TRUTH ANSWER:\n",
      "\"heard cries but is unable to state from what direction they came\"\n",
      "\n",
      "PREDICTED ANSWER (score=0.06489619612693787):\n",
      "\"He declares that he heard cries\"\n",
      "\n",
      "****************************************************************************************************\n",
      "\n",
      "QUESTION #9:\n",
      "\"Was there anything interesting about the victims body?\"\n",
      "\n",
      "GROUND TRUTH ANSWER:\n",
      "\"No signs of violence were to be discovered upon Sir Charles's person, and though the doctor's evidence pointed to an almost incredible facial distortion\"\n",
      "\n",
      "PREDICTED ANSWER (score=0.11242527514696121):\n",
      "\"incredible facial distortion\"\n",
      "\n",
      "****************************************************************************************************\n",
      "\n",
      "QUESTION #10:\n",
      "\"How did Sir Charles die?\"\n",
      "\n",
      "GROUND TRUTH ANSWER:\n",
      "\"affection of the heart\"\n",
      "\n",
      "PREDICTED ANSWER (score=0.05788976326584816):\n",
      "\"changes of colour, breathlessness, and acute attacks of nervous depression\"\n",
      "\n",
      "****************************************************************************************************\n",
      "\n",
      "QUESTION #11:\n",
      "\"Who died?\"\n",
      "\n",
      "GROUND TRUTH ANSWER:\n",
      "\"Sir Charles\"\n",
      "\n",
      "PREDICTED ANSWER (score=0.9561865925788879):\n",
      "\"Sir Charles\"\n",
      "\n",
      "****************************************************************************************************\n",
      "\n",
      "QUESTION #12:\n",
      "\"Was there any sign of foul play?\"\n",
      "\n",
      "GROUND TRUTH ANSWER:\n",
      "\"no reason whatever to suspect foul play\"\n",
      "\n",
      "PREDICTED ANSWER (score=0.11724153161048889):\n",
      "\"no reason whatever to suspect foul play\"\n",
      "\n",
      "****************************************************************************************************\n",
      "\n",
      "QUESTION #13:\n",
      "\"Who corroborated the doctor's findings?\"\n",
      "\n",
      "GROUND TRUTH ANSWER:\n",
      "\"several friends\"\n",
      "\n",
      "PREDICTED ANSWER (score=0.5820416212081909):\n",
      "\"several friends\"\n",
      "\n",
      "****************************************************************************************************\n",
      "\n",
      "QUESTION #14:\n",
      "\"What did the doctor say about the body?\"\n",
      "\n",
      "GROUND TRUTH ANSWER:\n",
      "\"natural causes\"\n",
      "\n",
      "PREDICTED ANSWER (score=0.016444038599729538):\n",
      "\"natural causes\"\n",
      "\n",
      "****************************************************************************************************\n",
      "\n",
      "QUESTION #15:\n",
      "\"What ideology does Stapleton follow?\"\n",
      "\n",
      "GROUND TRUTH ANSWER:\n",
      "\"naturalist.\"\n",
      "\n",
      "PREDICTED ANSWER (score=0.8643761277198792):\n",
      "\"naturalist\"\n",
      "\n",
      "****************************************************************************************************\n",
      "\n",
      "QUESTION #16:\n",
      "\"How did Stapleton know Sherlock Holmes?\"\n",
      "\n",
      "GROUND TRUTH ANSWER:\n",
      "\"I have been calling on Mortimer, and he pointed you out to me\"\n",
      "\n",
      "PREDICTED ANSWER (score=0.048186734318733215):\n",
      "\"naturalist\"\n",
      "\n",
      "****************************************************************************************************\n",
      "\n",
      "QUESTION #17:\n",
      "\"Who did Stapleton ask about?\"\n",
      "\n",
      "GROUND TRUTH ANSWER:\n",
      "\"Sir Henry\"\n",
      "\n",
      "PREDICTED ANSWER (score=0.057505909353494644):\n",
      "\"peasants\"\n",
      "\n",
      "****************************************************************************************************\n",
      "\n",
      "QUESTION #18:\n",
      "\"What did Stapleton know about Sir Charles?\"\n",
      "\n",
      "GROUND TRUTH ANSWER:\n",
      "\"his heart was weak\"\n",
      "\n",
      "PREDICTED ANSWER (score=0.3454119861125946):\n",
      "\"naturalist\"\n",
      "\n",
      "****************************************************************************************************\n",
      "\n",
      "QUESTION #19:\n",
      "\"What house did Stapleton live in?\"\n",
      "\n",
      "GROUND TRUTH ANSWER:\n",
      "\"Merripit House\"\n",
      "\n",
      "PREDICTED ANSWER (score=0.9522716999053955):\n",
      "\"Merripit House\"\n",
      "\n",
      "****************************************************************************************************\n",
      "\n",
      "QUESTION #20:\n",
      "\"How did Stapleton kill Sir Charles?\"\n",
      "\n",
      "GROUND TRUTH ANSWER:\n",
      "\"get his hound, to treat it with his infernal paint, and to bring the beast round to the gate at which he had reason to expect that he would find the old gentleman waiting. The dog, incited by its master, sprang over the wicket-gate and pursued the unfortunate baronet, who fled screaming down the yew alley. In that gloomy tunnel it must indeed have been a dreadful sight to see that huge black creature, with its flaming jaws and blazing eyes, bounding after its victim.\"\n",
      "\n",
      "PREDICTED ANSWER (score=0.013398672454059124):\n",
      "\"his infernal paint\"\n",
      "\n",
      "****************************************************************************************************\n",
      "\n",
      "QUESTION #21:\n",
      "\"Who did Stapleton hope would lure Sir Charles out?\"\n",
      "\n",
      "GROUND TRUTH ANSWER:\n",
      "\"his wife\"\n",
      "\n",
      "PREDICTED ANSWER (score=0.6647582054138184):\n",
      "\"his wife\"\n",
      "\n",
      "****************************************************************************************************\n",
      "\n",
      "QUESTION #22:\n",
      "\"What did Stapleton do to the hound?\"\n",
      "\n",
      "GROUND TRUTH ANSWER:\n",
      "\"treat it with his infernal paint\"\n",
      "\n",
      "PREDICTED ANSWER (score=0.07393182069063187):\n",
      "\"treat it with his infernal paint\"\n",
      "\n",
      "****************************************************************************************************\n",
      "\n",
      "QUESTION #23:\n",
      "\"How did the hound get to the victim?\"\n",
      "\n",
      "GROUND TRUTH ANSWER:\n",
      "\"sprang over the wicket-gate and pursued\"\n",
      "\n",
      "PREDICTED ANSWER (score=0.05641280487179756):\n",
      "\"Driving back in the evening from Coombe Tracey\"\n",
      "\n",
      "****************************************************************************************************\n",
      "\n",
      "QUESTION #24:\n",
      "\"What did Stapleton do at first?\"\n",
      "\n",
      "GROUND TRUTH ANSWER:\n",
      "\"lurked about with his hound, but without avail\"\n",
      "\n",
      "PREDICTED ANSWER (score=0.0900484025478363):\n",
      "\"prevented her from going\"\n",
      "\n",
      "****************************************************************************************************\n"
     ]
    }
   ],
   "source": [
    "n = len(questions_answers)\n",
    "\n",
    "# print predictions to console for quick inspection\n",
    "for i, answer in enumerate(questions_answers):\n",
    "    print_answer(i, questions_answers[i], n=n)\n",
    "\n",
    "# write predictions to a file for later\n",
    "with open(os.path.join('results', 'fine-tuned-500-word-context.txt'), 'w') as f:\n",
    "    for i, answer in enumerate(questions_answers):\n",
    "        print_answer(i, questions_answers[i], n=n, file=f)\n"
   ],
   "metadata": {
    "collapsed": false
   }
  },
  {
   "cell_type": "markdown",
   "source": [
    "---\n",
    "# Finetuned Question vs Answers With Whole Book As Context"
   ],
   "metadata": {
    "collapsed": false
   }
  },
  {
   "cell_type": "code",
   "execution_count": 13,
   "outputs": [],
   "source": [
    "# read in whole book\n",
    "context = clean_context(os.path.join('text', 'the-hound-of-the-baskervilles.txt'))\n",
    "\n",
    "# change samples contexts to full book\n",
    "samples_large_context = samples.copy()\n",
    "for i in range(len(samples_large_context)):\n",
    "    samples_large_context[i]['context'] = context\n"
   ],
   "metadata": {
    "collapsed": false
   }
  },
  {
   "cell_type": "code",
   "execution_count": 11,
   "outputs": [],
   "source": [
    "# Run all of the samples through the generator\n",
    "predicted = list(map(lambda s: qa(generator, s, verbose=False), samples_large_context))\n",
    "\n",
    "# Package the sample with the predicted\n",
    "questions_answers = list(zip(samples_large_context, predicted))\n"
   ],
   "metadata": {
    "collapsed": false
   }
  },
  {
   "cell_type": "code",
   "execution_count": 13,
   "outputs": [
    {
     "name": "stdout",
     "output_type": "stream",
     "text": [
      "****************************************************************************************************\n",
      "\n",
      "QUESTION #0:\n",
      "\"What is the guests occupation?\"\n",
      "\n",
      "GROUND TRUTH ANSWER:\n",
      "\"practitioner\"\n",
      "\n",
      "PREDICTED ANSWER (score=0.8862924575805664):\n",
      "\"a second cab\"\n",
      "\n",
      "****************************************************************************************************\n",
      "\n",
      "QUESTION #1:\n",
      "\"How did Sherlock Holmes see Watson?\"\n",
      "\n",
      "GROUND TRUTH ANSWER:\n",
      "\"well-polished, silver-plated coffee-pot\"\n",
      "\n",
      "PREDICTED ANSWER (score=0.576500654220581):\n",
      "\"murder\"\n",
      "\n",
      "****************************************************************************************************\n",
      "\n",
      "QUESTION #2:\n",
      "\"What did Holmes and Watson inspect?\"\n",
      "\n",
      "GROUND TRUTH ANSWER:\n",
      "\"visitor's stick\"\n",
      "\n",
      "PREDICTED ANSWER (score=0.9183873534202576):\n",
      "\"the Nets\"\n",
      "\n",
      "****************************************************************************************************\n",
      "\n",
      "QUESTION #3:\n",
      "\"Where was Sherlock Holmes sitting?\"\n",
      "\n",
      "GROUND TRUTH ANSWER:\n",
      "\"at the breakfast table\"\n",
      "\n",
      "PREDICTED ANSWER (score=0.8491075038909912):\n",
      "\"Frankland's house\"\n",
      "\n",
      "****************************************************************************************************\n",
      "\n",
      "QUESTION #4:\n",
      "\"When does Sherlock Holmes usually wake up?\"\n",
      "\n",
      "GROUND TRUTH ANSWER:\n",
      "\"very late in the mornings\"\n",
      "\n",
      "PREDICTED ANSWER (score=0.8206108212471008):\n",
      "\"yesterday evening\"\n",
      "\n",
      "****************************************************************************************************\n",
      "\n",
      "QUESTION #5:\n",
      "\"What habit does Sir Charles of Baskerville have?\"\n",
      "\n",
      "GROUND TRUTH ANSWER:\n",
      "\"in the habit every night before going to bed of walking down the famous yew alley of Baskerville Hall\"\n",
      "\n",
      "PREDICTED ANSWER (score=0.7042295336723328):\n",
      "\"smoking a cigar\"\n",
      "\n",
      "****************************************************************************************************\n",
      "\n",
      "QUESTION #6:\n",
      "\"What was Sir Charles doing the night of his murder?\"\n",
      "\n",
      "GROUND TRUTH ANSWER:\n",
      "\"That night he went out as usual for his nocturnal walk, in the course of which he was in the habit of smoking a cigar\"\n",
      "\n",
      "PREDICTED ANSWER (score=0.6095444560050964):\n",
      "\"wept\"\n",
      "\n",
      "****************************************************************************************************\n",
      "\n",
      "QUESTION #7:\n",
      "\"How was Sir Charles's body found?\"\n",
      "\n",
      "GROUND TRUTH ANSWER:\n",
      "\"Charles's footmarks were easily traced down the alley.\"\n",
      "\n",
      "PREDICTED ANSWER (score=0.5744177103042603):\n",
      "\"over the moor to our house\"\n",
      "\n",
      "****************************************************************************************************\n",
      "\n",
      "QUESTION #8:\n",
      "\"Did anyone hear what happened to Sir Charles?\"\n",
      "\n",
      "GROUND TRUTH ANSWER:\n",
      "\"heard cries but is unable to state from what direction they came\"\n",
      "\n",
      "PREDICTED ANSWER (score=0.43346619606018066):\n",
      "\"Twenty-four hours\"\n",
      "\n",
      "****************************************************************************************************\n",
      "\n",
      "QUESTION #9:\n",
      "\"Was there anything interesting about the victims body?\"\n",
      "\n",
      "GROUND TRUTH ANSWER:\n",
      "\"No signs of violence were to be discovered upon Sir Charles's person, and though the doctor's evidence pointed to an almost incredible facial distortion\"\n",
      "\n",
      "PREDICTED ANSWER (score=0.7688685059547424):\n",
      "\"Twenty-four hours\"\n",
      "\n",
      "****************************************************************************************************\n",
      "\n",
      "QUESTION #10:\n",
      "\"How did Sir Charles die?\"\n",
      "\n",
      "GROUND TRUTH ANSWER:\n",
      "\"affection of the heart\"\n",
      "\n",
      "PREDICTED ANSWER (score=0.901461660861969):\n",
      "\"yellow fever\"\n",
      "\n",
      "****************************************************************************************************\n",
      "\n",
      "QUESTION #11:\n",
      "\"Who died?\"\n",
      "\n",
      "GROUND TRUTH ANSWER:\n",
      "\"Sir Charles\"\n",
      "\n",
      "PREDICTED ANSWER (score=0.9543296098709106):\n",
      "\"Selden\"\n",
      "\n",
      "****************************************************************************************************\n",
      "\n",
      "QUESTION #12:\n",
      "\"Was there any sign of foul play?\"\n",
      "\n",
      "GROUND TRUTH ANSWER:\n",
      "\"no reason whatever to suspect foul play\"\n",
      "\n",
      "PREDICTED ANSWER (score=0.5170738101005554):\n",
      "\"Twenty-four hours\"\n",
      "\n",
      "****************************************************************************************************\n",
      "\n",
      "QUESTION #13:\n",
      "\"Who corroborated the doctor's findings?\"\n",
      "\n",
      "GROUND TRUTH ANSWER:\n",
      "\"several friends\"\n",
      "\n",
      "PREDICTED ANSWER (score=0.8767285943031311):\n",
      "\"Stapleton\"\n",
      "\n",
      "****************************************************************************************************\n",
      "\n",
      "QUESTION #14:\n",
      "\"What did the doctor say about the body?\"\n",
      "\n",
      "GROUND TRUTH ANSWER:\n",
      "\"natural causes\"\n",
      "\n",
      "PREDICTED ANSWER (score=0.4805416762828827):\n",
      "\"implicit obedience\"\n",
      "\n",
      "****************************************************************************************************\n",
      "\n",
      "QUESTION #15:\n",
      "\"What ideology does Stapleton follow?\"\n",
      "\n",
      "GROUND TRUTH ANSWER:\n",
      "\"naturalist.\"\n",
      "\n",
      "PREDICTED ANSWER (score=0.8913465738296509):\n",
      "\"naturalist\"\n",
      "\n",
      "****************************************************************************************************\n",
      "\n",
      "QUESTION #16:\n",
      "\"How did Stapleton know Sherlock Holmes?\"\n",
      "\n",
      "GROUND TRUTH ANSWER:\n",
      "\"I have been calling on Mortimer, and he pointed you out to me\"\n",
      "\n",
      "PREDICTED ANSWER (score=0.43686607480049133):\n",
      "\"Dr. Watson\"\n",
      "\n",
      "****************************************************************************************************\n",
      "\n",
      "QUESTION #17:\n",
      "\"Who did Stapleton ask about?\"\n",
      "\n",
      "GROUND TRUTH ANSWER:\n",
      "\"Sir Henry\"\n",
      "\n",
      "PREDICTED ANSWER (score=0.8686040043830872):\n",
      "\"Holmes\"\n",
      "\n",
      "****************************************************************************************************\n",
      "\n",
      "QUESTION #18:\n",
      "\"What did Stapleton know about Sir Charles?\"\n",
      "\n",
      "GROUND TRUTH ANSWER:\n",
      "\"his heart was weak\"\n",
      "\n",
      "PREDICTED ANSWER (score=0.7749101519584656):\n",
      "\"generosity\"\n",
      "\n",
      "****************************************************************************************************\n",
      "\n",
      "QUESTION #19:\n",
      "\"What house did Stapleton live in?\"\n",
      "\n",
      "GROUND TRUTH ANSWER:\n",
      "\"Merripit House\"\n",
      "\n",
      "PREDICTED ANSWER (score=0.9524179697036743):\n",
      "\"Merripit House\"\n",
      "\n",
      "****************************************************************************************************\n",
      "\n",
      "QUESTION #20:\n",
      "\"How did Stapleton kill Sir Charles?\"\n",
      "\n",
      "GROUND TRUTH ANSWER:\n",
      "\"get his hound, to treat it with his infernal paint, and to bring the beast round to the gate at which he had reason to expect that he would find the old gentleman waiting. The dog, incited by its master, sprang over the wicket-gate and pursued the unfortunate baronet, who fled screaming down the yew alley. In that gloomy tunnel it must indeed have been a dreadful sight to see that huge black creature, with its flaming jaws and blazing eyes, bounding after its victim.\"\n",
      "\n",
      "PREDICTED ANSWER (score=0.36240899562835693):\n",
      "\"his death\"\n",
      "\n",
      "****************************************************************************************************\n",
      "\n",
      "QUESTION #21:\n",
      "\"Who did Stapleton hope would lure Sir Charles out?\"\n",
      "\n",
      "GROUND TRUTH ANSWER:\n",
      "\"his wife\"\n",
      "\n",
      "PREDICTED ANSWER (score=0.8981977701187134):\n",
      "\"his wife\"\n",
      "\n",
      "****************************************************************************************************\n",
      "\n",
      "QUESTION #22:\n",
      "\"What did Stapleton do to the hound?\"\n",
      "\n",
      "GROUND TRUTH ANSWER:\n",
      "\"treat it with his infernal paint\"\n",
      "\n",
      "PREDICTED ANSWER (score=0.8561798930168152):\n",
      "\"laughed\"\n",
      "\n",
      "****************************************************************************************************\n",
      "\n",
      "QUESTION #23:\n",
      "\"How did the hound get to the victim?\"\n",
      "\n",
      "GROUND TRUTH ANSWER:\n",
      "\"sprang over the wicket-gate and pursued\"\n",
      "\n",
      "PREDICTED ANSWER (score=0.49194979667663574):\n",
      "\"cut out in one piece\"\n",
      "\n",
      "****************************************************************************************************\n",
      "\n",
      "QUESTION #24:\n",
      "\"What did Stapleton do at first?\"\n",
      "\n",
      "GROUND TRUTH ANSWER:\n",
      "\"lurked about with his hound, but without avail\"\n",
      "\n",
      "PREDICTED ANSWER (score=0.942234456539154):\n",
      "\"laughed\"\n",
      "\n",
      "****************************************************************************************************\n"
     ]
    }
   ],
   "source": [
    "n = len(questions_answers)\n",
    "\n",
    "# print predictions to console for quick inspection\n",
    "for i, answer in enumerate(questions_answers):\n",
    "    print_answer(i, questions_answers[i], n=n)\n",
    "\n",
    "# write predictions to a file for later\n",
    "with open(os.path.join('results', 'fine-tuned-book-context.txt'), 'w') as f:\n",
    "    for i, answer in enumerate(questions_answers):\n",
    "        print_answer(i, questions_answers[i], n=n, file=f)"
   ],
   "metadata": {
    "collapsed": false
   }
  },
  {
   "cell_type": "code",
   "execution_count": 14,
   "outputs": [
    {
     "data": {
      "text/plain": "{'score': 0.9347644448280334,\n 'start': 223321,\n 'end': 223331,\n 'answer': 'Dr. Watson'}"
     },
     "execution_count": 14,
     "metadata": {},
     "output_type": "execute_result"
    }
   ],
   "source": [
    "generator(question='Who is the protagonist?', context=context)\n"
   ],
   "metadata": {
    "collapsed": false
   }
  },
  {
   "cell_type": "code",
   "execution_count": 15,
   "outputs": [
    {
     "data": {
      "text/plain": "{'score': 0.872819721698761,\n 'start': 77842,\n 'end': 77851,\n 'answer': 'Barrymore'}"
     },
     "execution_count": 15,
     "metadata": {},
     "output_type": "execute_result"
    }
   ],
   "source": [
    "generator(question='Who is the perpetrator?', context=context)\n"
   ],
   "metadata": {
    "collapsed": false
   }
  },
  {
   "cell_type": "code",
   "execution_count": 16,
   "outputs": [
    {
     "data": {
      "text/plain": "{'score': 0.7306256294250488,\n 'start': 157214,\n 'end': 157228,\n 'answer': 'Merripit House'}"
     },
     "execution_count": 16,
     "metadata": {},
     "output_type": "execute_result"
    }
   ],
   "source": [
    "generator(question='What is the setting of the crime?', context=context)\n"
   ],
   "metadata": {
    "collapsed": false
   }
  },
  {
   "cell_type": "code",
   "execution_count": 17,
   "outputs": [
    {
     "data": {
      "text/plain": "{'score': 0.6493549346923828,\n 'start': 49655,\n 'end': 49674,\n 'answer': 'he avoided the moor'}"
     },
     "execution_count": 17,
     "metadata": {},
     "output_type": "execute_result"
    }
   ],
   "source": [
    "generator(question='What is the evidence against the perpetrator?', context=context)\n"
   ],
   "metadata": {
    "collapsed": false
   }
  },
  {
   "cell_type": "code",
   "execution_count": null,
   "outputs": [],
   "source": [],
   "metadata": {
    "collapsed": false
   }
  }
 ],
 "metadata": {
  "kernelspec": {
   "display_name": "Python 3",
   "language": "python",
   "name": "python3"
  },
  "language_info": {
   "codemirror_mode": {
    "name": "ipython",
    "version": 2
   },
   "file_extension": ".py",
   "mimetype": "text/x-python",
   "name": "python",
   "nbconvert_exporter": "python",
   "pygments_lexer": "ipython2",
   "version": "2.7.6"
  }
 },
 "nbformat": 4,
 "nbformat_minor": 0
}
