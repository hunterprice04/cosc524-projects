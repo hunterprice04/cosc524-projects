{
 "cells": [
  {
   "cell_type": "code",
   "execution_count": 1,
   "metadata": {
    "collapsed": true
   },
   "outputs": [],
   "source": [
    "import re\n",
    "import os\n"
   ]
  },
  {
   "cell_type": "code",
   "execution_count": 22,
   "outputs": [],
   "source": [
    "def clean_text(filename):\n",
    "    with open(filename, 'r', encoding=\"utf8\") as f:\n",
    "        text = f.read()\n",
    "    text = re.sub(\"\\\\n\", ' ',text, re.ASCII)\n",
    "    text = re.sub(\"\\s{2,}\", ' ',text, re.ASCII)\n",
    "    text = re.sub(\"“|”\", '\"',text, re.ASCII)\n",
    "    text = re.sub(\"‘|’\", '\"',text, re.ASCII)\n",
    "    text = re.sub(\"\\\"\", '\\\\\"',text, re.ASCII)\n",
    "    text = re.sub(\"_\", '',text, re.ASCII)\n",
    "    text = re.sub(\"\\s{2,}\", ' ',text, re.ASCII)\n",
    "    text = text.strip()\n",
    "    # print(text)\n",
    "    return text\n",
    "def fwrite(text, filename):\n",
    "    with open(filename, 'w', encoding='utf8') as f:\n",
    "        f.write(text)\n"
   ],
   "metadata": {
    "collapsed": false
   }
  },
  {
   "cell_type": "code",
   "execution_count": 23,
   "outputs": [],
   "source": [
    "fwrite(clean_text('text/antagonist.txt'), 'text/antagonist-clean.txt')\n",
    "fwrite(clean_text('text/crimescene.txt'), 'text/crimescene-clean.txt')\n",
    "fwrite(clean_text('text/evidence.txt'), 'text/evidence-clean.txt')\n",
    "fwrite(clean_text('text/protaganists.txt'), 'text/protaganists-clean.txt')\n",
    "fwrite(clean_text('text/resolution.txt'), 'text/resolution-clean.txt')\n"
   ],
   "metadata": {
    "collapsed": false
   }
  },
  {
   "cell_type": "code",
   "execution_count": null,
   "outputs": [],
   "source": [],
   "metadata": {
    "collapsed": false
   }
  }
 ],
 "metadata": {
  "kernelspec": {
   "display_name": "Python 3",
   "language": "python",
   "name": "python3"
  },
  "language_info": {
   "codemirror_mode": {
    "name": "ipython",
    "version": 2
   },
   "file_extension": ".py",
   "mimetype": "text/x-python",
   "name": "python",
   "nbconvert_exporter": "python",
   "pygments_lexer": "ipython2",
   "version": "2.7.6"
  }
 },
 "nbformat": 4,
 "nbformat_minor": 0
}
