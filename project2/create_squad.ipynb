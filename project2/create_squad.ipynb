{
 "cells": [
  {
   "cell_type": "code",
   "execution_count": 1,
   "outputs": [],
   "source": [
    "%load_ext autoreload\n",
    "%autoreload 2"
   ],
   "metadata": {
    "collapsed": false
   }
  },
  {
   "cell_type": "code",
   "execution_count": 12,
   "metadata": {
    "collapsed": true
   },
   "outputs": [],
   "source": [
    "from datasets import load_dataset\n",
    "import re\n",
    "import os"
   ]
  },
  {
   "cell_type": "code",
   "execution_count": 9,
   "outputs": [
    {
     "name": "stderr",
     "output_type": "stream",
     "text": [
      "Found cached dataset squad_v2 (/home/hp/.cache/huggingface/datasets/squad_v2/squad_v2/2.0.0/09187c73c1b837c95d9a249cd97c2c3f1cebada06efe667b4427714b27639b1d)\n"
     ]
    },
    {
     "data": {
      "text/plain": "  0%|          | 0/2 [00:00<?, ?it/s]",
      "application/vnd.jupyter.widget-view+json": {
       "version_major": 2,
       "version_minor": 0,
       "model_id": "cd8bad42182e4372a4f570382e366559"
      }
     },
     "metadata": {},
     "output_type": "display_data"
    }
   ],
   "source": [
    "dataset = load_dataset(\"squad_v2\")"
   ],
   "metadata": {
    "collapsed": false
   }
  },
  {
   "cell_type": "code",
   "execution_count": 58,
   "outputs": [
    {
     "data": {
      "text/plain": "DatasetDict({\n    train: Dataset({\n        features: ['id', 'title', 'context', 'question', 'answers'],\n        num_rows: 130319\n    })\n    validation: Dataset({\n        features: ['id', 'title', 'context', 'question', 'answers'],\n        num_rows: 11873\n    })\n})"
     },
     "execution_count": 58,
     "metadata": {},
     "output_type": "execute_result"
    }
   ],
   "source": [
    "dataset"
   ],
   "metadata": {
    "collapsed": false
   }
  },
  {
   "cell_type": "code",
   "execution_count": 59,
   "outputs": [],
   "source": [
    "dataset_train = dataset['train']\n",
    "dataset_val = dataset['validation']\n"
   ],
   "metadata": {
    "collapsed": false
   }
  },
  {
   "cell_type": "code",
   "execution_count": 27,
   "outputs": [
    {
     "data": {
      "text/plain": "[{'id': 'abcdefg',\n  'title': 'Programming',\n  'context': 'Python programming is fun.',\n  'question': 'What is Python?',\n  'answers': {'text': ['fun.'], 'answer_start': [22]}}]"
     },
     "execution_count": 27,
     "metadata": {},
     "output_type": "execute_result"
    }
   ],
   "source": [
    "# Create a custom sample in the squad format\n",
    "def add_squad_sample(samples, title, context, question, answer):\n",
    "    if answer not in context:\n",
    "        print(f'Could not find answer({answer}) in context')\n",
    "        return samples\n",
    "    answer_start = context.index(answer)\n",
    "    id = \"abcdefg\"  # IDK what to do with the id here\n",
    "    d =  {\n",
    "        'id': id,\n",
    "        'title': title,\n",
    "        'context': context,\n",
    "        'question': question,\n",
    "        'answers': {\n",
    "            'text': [answer],\n",
    "            'answer_start': [answer_start]\n",
    "        }\n",
    "    }\n",
    "    samples.append(d)\n",
    "    return samples\n",
    "\n",
    "add_squad_sample([],\"Programming\", \"Python programming is fun.\", \"What is Python?\", \"fun.\")"
   ],
   "metadata": {
    "collapsed": false
   }
  },
  {
   "cell_type": "code",
   "execution_count": 39,
   "outputs": [],
   "source": [
    "# Read and clean the context file\n",
    "def clean_context(filename):\n",
    "    with open(filename, 'r', encoding=\"utf8\") as f:\n",
    "        text = f.read()\n",
    "    text = re.sub(\"\\\\n\", ' ',text, re.ASCII)\n",
    "    text = re.sub(\"\\s{2,}\", ' ',text, re.ASCII)\n",
    "    text = re.sub(\"“|”\", '\"',text, re.ASCII)\n",
    "    text = re.sub(\"‘|’\", \"'\",text, re.ASCII)\n",
    "    text = re.sub(\"\\\"\", '\\\\\"',text, re.ASCII)\n",
    "    text = re.sub(\"_\", '',text, re.ASCII)\n",
    "    text = re.sub(\"\\s{2,}\", ' ',text, re.ASCII)\n",
    "    text = text.strip()\n",
    "    return text\n"
   ],
   "metadata": {
    "collapsed": false
   }
  },
  {
   "cell_type": "markdown",
   "source": [
    "---\n",
    "# Create the custom dataset"
   ],
   "metadata": {
    "collapsed": false
   }
  },
  {
   "cell_type": "code",
   "execution_count": 55,
   "outputs": [],
   "source": [
    "samples = []\n",
    "\n",
    "########################################################################\n",
    "# Protagonist Questions\n",
    "context = clean_context(os.path.join('text', 'protagonist-first-paragraph.txt'))\n",
    "samples = add_squad_sample(samples,\n",
    "    title = \"The Hound of the Baskervilles\",\n",
    "    context = context,\n",
    "    question = 'What is a characteristic of Sherlock Holmes?',\n",
    "    answer = 'usually very late in the mornings'\n",
    ")\n",
    "\n",
    "########################################################################\n",
    "# Crime Scene Questions\n",
    "context = clean_context(os.path.join('text', 'crimescene.txt'))\n",
    "samples = add_squad_sample(samples,\n",
    "    title = \"The Hound of the Baskervilles\",\n",
    "    context = context,\n",
    "    question = 'What habit does Sir Charles of Baskerville have?',\n",
    "    answer = 'in the habit every night before going to bed of walking down the famous yew alley of Baskerville Hall'\n",
    ")\n",
    "samples = add_squad_sample(samples,\n",
    "    title = \"The Hound of the Baskervilles\",\n",
    "    context = context,\n",
    "    question = 'What was Sir Charles doing the night of his murder?',\n",
    "    answer = 'That night he went out as usual for his nocturnal walk, in the course of which he was in the habit of smoking a cigar'\n",
    ")\n",
    "samples = add_squad_sample(samples,\n",
    "    title = \"The Hound of the Baskervilles\",\n",
    "    context = context,\n",
    "    question = \"How was Sir Charles's body found?\",\n",
    "    answer = \"Charles's footmarks were easily traced down the alley.\"\n",
    ")\n",
    "samples = add_squad_sample(samples,\n",
    "    title = \"The Hound of the Baskervilles\",\n",
    "    context = context,\n",
    "    question = \"Did anyone hear what happened to Sir Charles?\",\n",
    "    answer = \"heard cries but is unable to state from what direction they came\"\n",
    ")\n",
    "samples = add_squad_sample(samples,\n",
    "    title = \"The Hound of the Baskervilles\",\n",
    "    context = context,\n",
    "    question = \"Was there anything interesting about the victims body?\",\n",
    "    answer = \"No signs of violence were to be discovered upon Sir Charles's person, and though the doctor's evidence pointed to an almost incredible facial distortion\"\n",
    ")\n",
    "context = clean_context(os.path.join('text', 'crimescene2.txt'))\n",
    "samples = add_squad_sample(samples,\n",
    "    title = \"The Hound of the Baskervilles\",\n",
    "    context = context,\n",
    "    question = 'How did Sir Charles die?',\n",
    "    answer = 'affection of the heart'\n",
    ")\n",
    "########################################################################\n",
    "# Antagonist Questions\n",
    "context = clean_context(os.path.join('text', 'stapleton.txt'))\n",
    "samples = add_squad_sample(samples,\n",
    "   title = \"The Hound of the Baskervilles\",\n",
    "   context = context,\n",
    "   question = 'What ideology doe Stapleton follow?',\n",
    "   answer = 'naturalist.'\n",
    ")\n",
    "\n",
    "########################################################################\n",
    "# Resolution Questions\n",
    "context = clean_context(os.path.join('text', 'stapleton-murder.txt'))\n",
    "samples = add_squad_sample(samples,\n",
    "   title = \"The Hound of the Baskervilles\",\n",
    "   context = context,\n",
    "   question = 'How did Stapleton kill Sir Charles?',\n",
    "   answer = 'get his hound, to treat it with his infernal paint, and to bring the beast round to the gate at which he had reason to expect that he would find the old gentleman waiting. The dog, incited by its master, sprang over the wicket-gate and pursued the unfortunate baronet, who fled screaming down the yew alley. In that gloomy tunnel it must indeed have been a dreadful sight to see that huge black creature, with its flaming jaws and blazing eyes, bounding after its victim.'\n",
    ")\n"
   ],
   "metadata": {
    "collapsed": false
   }
  },
  {
   "cell_type": "code",
   "execution_count": 54,
   "outputs": [
    {
     "name": "stdout",
     "output_type": "stream",
     "text": [
      "[{'id': 'abcdefg', 'title': 'The Hound of the Baskervilles', 'context': 'Mr. Sherlock Holmes, who was usually very late in the mornings, save upon those not infrequent occasions when he was up all night, was seated at the breakfast table. I stood upon the hearth-rug and picked up the stick which our visitor had left behind him the night before. It was a fine, thick piece of wood, bulbous-headed, of the sort which is known as a \\\\\"Penang lawyer.\\\\\" Just under the head was a broad silver band nearly an inch across. \\\\\"To James Mortimer, M.R.C.S., from his friends of the C.C.H.,\\\\\" was engraved upon it, with the date \\\\\"1884.\\\\\" It was just such a stick as the old-fashioned family practitioner used to carry—dignified, solid, and reassuring. \\\\\"Well, Watson, what do you make of it?\\\\\" Holmes was sitting with his back to me, and I had given him no sign of my occupation. \\\\\"How did you know what I was doing? I believe you have eyes in the back of your head.\\\\\" \\\\\"I have, at least, a well-polished, silver-plated coffee-pot in front of me,\\\\\" said he. \\\\\"But, tell me, Watson, what do you make of our visitor\\'s stick? Since we have been so unfortunate as to miss him and have no notion of his errand, this accidental souvenir becomes of importance. Let me hear you reconstruct the man by an examination of it.\\\\\" \\\\\"I think,\\\\\" said I, following as far as I could the methods of my companion, \\\\\"that Dr. Mortimer is a successful, elderly medical man, well-esteemed since those who know him give him this mark of their appreciation.\\\\\" \\\\\"Good!\\\\\" said Holmes. \\\\\"Excellent!\\\\\" \\\\\"I think also that the probability is in favour of his being a country practitioner who does a great deal of his visiting on foot.\\\\\" \\\\\"Why so?\\\\\" \\\\\"Because this stick, though originally a very handsome one has', 'question': 'What is a characteristic of Sherlock Holmes?', 'answers': {'text': ['usually very late in the mornings'], 'answer_start': [29]}}, {'id': 'abcdefg', 'title': 'The Hound of the Baskervilles', 'context': '\\\\\"The facts of the case are simple. Sir Charles Baskerville was in the habit every night before going to bed of walking down the famous yew alley of Baskerville Hall. The evidence of the Barrymores shows that this had been his custom. On the fourth of May Sir Charles had declared his intention of starting next day for London, and had ordered Barrymore to prepare his luggage. That night he went out as usual for his nocturnal walk, in the course of which he was in the habit of smoking a cigar. He never returned. At twelve o\\'clock Barrymore, finding the hall door still open, became alarmed, and, lighting a lantern, went in search of his master. The day had been wet, and Sir Charles\\'s footmarks were easily traced down the alley. Halfway down this walk there is a gate which leads out on to the moor. There were indications that Sir Charles had stood for some little time here. He then proceeded down the alley, and it was at the far end of it that his body was discovered. One fact which has not been explained is the statement of Barrymore that his master\\'s footprints altered their character from the time that he passed the moor-gate, and that he appeared from thence onward to have been walking upon his toes. One Murphy, a gipsy horse-dealer, was on the moor at no great distance at the time, but he appears by his own confession to have been the worse for drink. He declares that he heard cries but is unable to state from what direction they came. No signs of violence were to be discovered upon Sir Charles\\'s person, and though the doctor\\'s evidence pointed to an almost incredible facial distortion—so great that Dr. Mortimer refused at first to believe', 'question': 'What habit does Sir Charles of Baskerville have?', 'answers': {'text': ['in the habit every night before going to bed of walking down the famous yew alley of Baskerville Hall'], 'answer_start': [64]}}, {'id': 'abcdefg', 'title': 'The Hound of the Baskervilles', 'context': '\\\\\"The facts of the case are simple. Sir Charles Baskerville was in the habit every night before going to bed of walking down the famous yew alley of Baskerville Hall. The evidence of the Barrymores shows that this had been his custom. On the fourth of May Sir Charles had declared his intention of starting next day for London, and had ordered Barrymore to prepare his luggage. That night he went out as usual for his nocturnal walk, in the course of which he was in the habit of smoking a cigar. He never returned. At twelve o\\'clock Barrymore, finding the hall door still open, became alarmed, and, lighting a lantern, went in search of his master. The day had been wet, and Sir Charles\\'s footmarks were easily traced down the alley. Halfway down this walk there is a gate which leads out on to the moor. There were indications that Sir Charles had stood for some little time here. He then proceeded down the alley, and it was at the far end of it that his body was discovered. One fact which has not been explained is the statement of Barrymore that his master\\'s footprints altered their character from the time that he passed the moor-gate, and that he appeared from thence onward to have been walking upon his toes. One Murphy, a gipsy horse-dealer, was on the moor at no great distance at the time, but he appears by his own confession to have been the worse for drink. He declares that he heard cries but is unable to state from what direction they came. No signs of violence were to be discovered upon Sir Charles\\'s person, and though the doctor\\'s evidence pointed to an almost incredible facial distortion—so great that Dr. Mortimer refused at first to believe', 'question': 'What was Sir Charles doing the night of his murder?', 'answers': {'text': ['That night he went out as usual for his nocturnal walk, in the course of which he was in the habit of smoking a cigar'], 'answer_start': [378]}}, {'id': 'abcdefg', 'title': 'The Hound of the Baskervilles', 'context': '\\\\\"The facts of the case are simple. Sir Charles Baskerville was in the habit every night before going to bed of walking down the famous yew alley of Baskerville Hall. The evidence of the Barrymores shows that this had been his custom. On the fourth of May Sir Charles had declared his intention of starting next day for London, and had ordered Barrymore to prepare his luggage. That night he went out as usual for his nocturnal walk, in the course of which he was in the habit of smoking a cigar. He never returned. At twelve o\\'clock Barrymore, finding the hall door still open, became alarmed, and, lighting a lantern, went in search of his master. The day had been wet, and Sir Charles\\'s footmarks were easily traced down the alley. Halfway down this walk there is a gate which leads out on to the moor. There were indications that Sir Charles had stood for some little time here. He then proceeded down the alley, and it was at the far end of it that his body was discovered. One fact which has not been explained is the statement of Barrymore that his master\\'s footprints altered their character from the time that he passed the moor-gate, and that he appeared from thence onward to have been walking upon his toes. One Murphy, a gipsy horse-dealer, was on the moor at no great distance at the time, but he appears by his own confession to have been the worse for drink. He declares that he heard cries but is unable to state from what direction they came. No signs of violence were to be discovered upon Sir Charles\\'s person, and though the doctor\\'s evidence pointed to an almost incredible facial distortion—so great that Dr. Mortimer refused at first to believe', 'question': \"How was Sir Charles's body found?\", 'answers': {'text': [\"Charles's footmarks were easily traced down the alley.\"], 'answer_start': [680]}}, {'id': 'abcdefg', 'title': 'The Hound of the Baskervilles', 'context': '\\\\\"The facts of the case are simple. Sir Charles Baskerville was in the habit every night before going to bed of walking down the famous yew alley of Baskerville Hall. The evidence of the Barrymores shows that this had been his custom. On the fourth of May Sir Charles had declared his intention of starting next day for London, and had ordered Barrymore to prepare his luggage. That night he went out as usual for his nocturnal walk, in the course of which he was in the habit of smoking a cigar. He never returned. At twelve o\\'clock Barrymore, finding the hall door still open, became alarmed, and, lighting a lantern, went in search of his master. The day had been wet, and Sir Charles\\'s footmarks were easily traced down the alley. Halfway down this walk there is a gate which leads out on to the moor. There were indications that Sir Charles had stood for some little time here. He then proceeded down the alley, and it was at the far end of it that his body was discovered. One fact which has not been explained is the statement of Barrymore that his master\\'s footprints altered their character from the time that he passed the moor-gate, and that he appeared from thence onward to have been walking upon his toes. One Murphy, a gipsy horse-dealer, was on the moor at no great distance at the time, but he appears by his own confession to have been the worse for drink. He declares that he heard cries but is unable to state from what direction they came. No signs of violence were to be discovered upon Sir Charles\\'s person, and though the doctor\\'s evidence pointed to an almost incredible facial distortion—so great that Dr. Mortimer refused at first to believe', 'question': 'Did anyone hear what happened to Sir Charles?', 'answers': {'text': ['heard cries but is unable to state from what direction they came'], 'answer_start': [1395]}}, {'id': 'abcdefg', 'title': 'The Hound of the Baskervilles', 'context': '\\\\\"The facts of the case are simple. Sir Charles Baskerville was in the habit every night before going to bed of walking down the famous yew alley of Baskerville Hall. The evidence of the Barrymores shows that this had been his custom. On the fourth of May Sir Charles had declared his intention of starting next day for London, and had ordered Barrymore to prepare his luggage. That night he went out as usual for his nocturnal walk, in the course of which he was in the habit of smoking a cigar. He never returned. At twelve o\\'clock Barrymore, finding the hall door still open, became alarmed, and, lighting a lantern, went in search of his master. The day had been wet, and Sir Charles\\'s footmarks were easily traced down the alley. Halfway down this walk there is a gate which leads out on to the moor. There were indications that Sir Charles had stood for some little time here. He then proceeded down the alley, and it was at the far end of it that his body was discovered. One fact which has not been explained is the statement of Barrymore that his master\\'s footprints altered their character from the time that he passed the moor-gate, and that he appeared from thence onward to have been walking upon his toes. One Murphy, a gipsy horse-dealer, was on the moor at no great distance at the time, but he appears by his own confession to have been the worse for drink. He declares that he heard cries but is unable to state from what direction they came. No signs of violence were to be discovered upon Sir Charles\\'s person, and though the doctor\\'s evidence pointed to an almost incredible facial distortion—so great that Dr. Mortimer refused at first to believe', 'question': 'Was there anything interesting about the victims body?', 'answers': {'text': [\"No signs of violence were to be discovered upon Sir Charles's person, and though the doctor's evidence pointed to an almost incredible facial distortion\"], 'answer_start': [1461]}}, {'id': 'abcdefg', 'title': 'The Hound of the Baskervilles', 'context': '\\\\\"The circumstances connected with the death of Sir Charles cannot be said to have been entirely cleared up by the inquest, but at least enough has been done to dispose of those rumours to which local superstition has given rise. There is no reason whatever to suspect foul play, or to imagine that death could be from any but natural causes. Sir Charles was a widower, and a man who may be said to have been in some ways of an eccentric habit of mind. In spite of his considerable wealth he was simple in his personal tastes, and his indoor servants at Baskerville Hall consisted of a married couple named Barrymore, the husband acting as butler and the wife as housekeeper. Their evidence, corroborated by that of several friends, tends to show that Sir Charles\\'s health has for some time been impaired, and points especially to some affection of the heart, manifesting itself in changes of colour, breathlessness, and acute attacks of nervous depression. Dr. James Mortimer, the friend and medical attendant of the deceased, has given evidence to the same effect.', 'question': 'How did Sir Charles die?', 'answers': {'text': ['affection of the heart'], 'answer_start': [836]}}, {'id': 'abcdefg', 'title': 'The Hound of the Baskervilles', 'context': '\\\\\"You will, I am sure, excuse my presumption, Dr. Watson,\\\\\" said he as he came panting up to where I stood. \\\\\"Here on the moor we are homely folk and do not wait for formal introductions. You may possibly have heard my name from our mutual friend, Mortimer. I am Stapleton, of Merripit House.\\\\\" \\\\\"Your net and box would have told me as much,\\\\\" said I, \\\\\"for I knew that Mr. Stapleton was a naturalist. But how did you know me?\\\\\" \\\\\"I have been calling on Mortimer, and he pointed you out to me from the window of his surgery as you passed. As our road lay the same way I thought that I would overtake you and introduce myself. I trust that Sir Henry is none the worse for his journey?\\\\\" \\\\\"He is very well, thank you.\\\\\" \\\\\"We were all rather afraid that after the sad death of Sir Charles the new baronet might refuse to live here. It is asking much of a wealthy man to come down and bury himself in a place of this kind, but I need not tell you that it means a very great deal to the countryside. Sir Henry has, I suppose, no superstitious fears in the matter?\\\\\" \\\\\"I do not think that it is likely.\\\\\" \\\\\"Of course you know the legend of the fiend dog which haunts the family?\\\\\" \\\\\"I have heard it.\\\\\" \\\\\"It is extraordinary how credulous the peasants are about here! Any number of them are ready to swear that they have seen such a creature upon the moor.\\\\\" He spoke with a smile, but I seemed to read in his eyes that he took the matter more seriously. \\\\\"The story took a great hold upon the imagination of Sir Charles, and I have no doubt that it led to his tragic end.\\\\\" \\\\\"But how?\\\\\" \\\\\"His nerves were so worked up that the appearance of any dog might have had a fatal effect upon his diseased heart. I fancy that he really did see something of the kind upon that last night in the yew alley. I feared that some disaster might occur, for I was very fond of the old man, and I knew that his heart was weak.\\\\\"', 'question': 'What ideology doe Stapleton follow?', 'answers': {'text': ['naturalist.'], 'answer_start': [390]}}, {'id': 'abcdefg', 'title': 'The Hound of the Baskervilles', 'context': '\\\\\"But it was some time coming. The old gentleman could not be decoyed outside of his grounds at night. Several times Stapleton lurked about with his hound, but without avail. It was during these fruitless quests that he, or rather his ally, was seen by peasants, and that the legend of the demon dog received a new confirmation. He had hoped that his wife might lure Sir Charles to his ruin, but here she proved unexpectedly independent. She would not endeavour to entangle the old gentleman in a sentimental attachment which might deliver him over to his enemy. Threats and even, I am sorry to say, blows refused to move her. She would have nothing to do with it, and for a time Stapleton was at a deadlock. \\\\\"He found a way out of his difficulties through the chance that Sir Charles, who had conceived a friendship for him, made him the minister of his charity in the case of this unfortunate woman, Mrs. Laura Lyons. By representing himself as a single man he acquired complete influence over her, and he gave her to understand that in the event of her obtaining a divorce from her husband he would marry her. His plans were suddenly brought to a head by his knowledge that Sir Charles was about to leave the Hall on the advice of Dr. Mortimer, with whose opinion he himself pretended to coincide. He must act at once, or his victim might get beyond his power. He therefore put pressure upon Mrs. Lyons to write this letter, imploring the old man to give her an interview on the evening before his departure for London. He then, by a specious argument, prevented her from going, and so had the chance for which he had waited. \\\\\"Driving back in the evening from Coombe Tracey he was in time to get his hound, to treat it with his infernal paint, and to bring the beast round to the gate at which he had reason to expect that he would find the old gentleman waiting. The dog, incited by its master, sprang over the wicket-gate and pursued the unfortunate baronet, who fled screaming down the yew alley. In that gloomy tunnel it must indeed have been a dreadful sight to see that huge black creature, with its flaming jaws and blazing eyes, bounding after its victim. He fell dead at the end of the alley from heart disease and terror. The hound had kept upon the grassy border while the baronet had run down the path, so that no track but the man\\'s was visible. On seeing him lying still the creature had probably approached to sniff at him, but finding him dead had turned away again. It was then that it left the print which was actually observed by Dr. Mortimer. The hound was called off and hurried away to its lair in the Grimpen Mire, and a mystery was left which puzzled the authorities, alarmed the countryside, and finally brought the case within the scope of our observation.', 'question': 'What habit does Sir Charles of Baskerville have?', 'answers': {'text': ['get his hound, to treat it with his infernal paint, and to bring the beast round to the gate at which he had reason to expect that he would find the old gentleman waiting. The dog, incited by its master, sprang over the wicket-gate and pursued the unfortunate baronet, who fled screaming down the yew alley. In that gloomy tunnel it must indeed have been a dreadful sight to see that huge black creature, with its flaming jaws and blazing eyes, bounding after its victim.'], 'answer_start': [1697]}}]\n"
     ]
    }
   ],
   "source": [
    "print(samples)"
   ],
   "metadata": {
    "collapsed": false
   }
  },
  {
   "cell_type": "code",
   "execution_count": 70,
   "outputs": [
    {
     "name": "stdout",
     "output_type": "stream",
     "text": [
      "130319\n"
     ]
    }
   ],
   "source": [
    "n_rows = dataset_train.num_rows\n",
    "n_samples = len(samples)\n",
    "dataset_train_custom = dataset_train"
   ],
   "metadata": {
    "collapsed": false
   }
  },
  {
   "cell_type": "code",
   "execution_count": 71,
   "outputs": [],
   "source": [
    "dir(dataset_train)\n",
    "\n",
    "for sample in samples:\n",
    "    dataset_train_custom = dataset_train_custom.add_item(sample)\n"
   ],
   "metadata": {
    "collapsed": false
   }
  },
  {
   "cell_type": "code",
   "execution_count": 67,
   "outputs": [
    {
     "data": {
      "text/plain": "Dataset({\n    features: ['id', 'title', 'context', 'question', 'answers'],\n    num_rows: 130319\n})"
     },
     "execution_count": 67,
     "metadata": {},
     "output_type": "execute_result"
    }
   ],
   "source": [
    "dataset_train"
   ],
   "metadata": {
    "collapsed": false
   }
  },
  {
   "cell_type": "code",
   "execution_count": null,
   "outputs": [],
   "source": [
    "dataset_train_custom"
   ],
   "metadata": {
    "collapsed": false
   }
  },
  {
   "cell_type": "code",
   "execution_count": 74,
   "outputs": [
    {
     "data": {
      "text/plain": "{'id': 'abcdefg',\n 'title': 'The Hound of the Baskervilles',\n 'context': '\\\\\"But it was some time coming. The old gentleman could not be decoyed outside of his grounds at night. Several times Stapleton lurked about with his hound, but without avail. It was during these fruitless quests that he, or rather his ally, was seen by peasants, and that the legend of the demon dog received a new confirmation. He had hoped that his wife might lure Sir Charles to his ruin, but here she proved unexpectedly independent. She would not endeavour to entangle the old gentleman in a sentimental attachment which might deliver him over to his enemy. Threats and even, I am sorry to say, blows refused to move her. She would have nothing to do with it, and for a time Stapleton was at a deadlock. \\\\\"He found a way out of his difficulties through the chance that Sir Charles, who had conceived a friendship for him, made him the minister of his charity in the case of this unfortunate woman, Mrs. Laura Lyons. By representing himself as a single man he acquired complete influence over her, and he gave her to understand that in the event of her obtaining a divorce from her husband he would marry her. His plans were suddenly brought to a head by his knowledge that Sir Charles was about to leave the Hall on the advice of Dr. Mortimer, with whose opinion he himself pretended to coincide. He must act at once, or his victim might get beyond his power. He therefore put pressure upon Mrs. Lyons to write this letter, imploring the old man to give her an interview on the evening before his departure for London. He then, by a specious argument, prevented her from going, and so had the chance for which he had waited. \\\\\"Driving back in the evening from Coombe Tracey he was in time to get his hound, to treat it with his infernal paint, and to bring the beast round to the gate at which he had reason to expect that he would find the old gentleman waiting. The dog, incited by its master, sprang over the wicket-gate and pursued the unfortunate baronet, who fled screaming down the yew alley. In that gloomy tunnel it must indeed have been a dreadful sight to see that huge black creature, with its flaming jaws and blazing eyes, bounding after its victim. He fell dead at the end of the alley from heart disease and terror. The hound had kept upon the grassy border while the baronet had run down the path, so that no track but the man\\'s was visible. On seeing him lying still the creature had probably approached to sniff at him, but finding him dead had turned away again. It was then that it left the print which was actually observed by Dr. Mortimer. The hound was called off and hurried away to its lair in the Grimpen Mire, and a mystery was left which puzzled the authorities, alarmed the countryside, and finally brought the case within the scope of our observation.',\n 'question': 'How did Stapleton kill Sir Charles?',\n 'answers': {'text': ['get his hound, to treat it with his infernal paint, and to bring the beast round to the gate at which he had reason to expect that he would find the old gentleman waiting. The dog, incited by its master, sprang over the wicket-gate and pursued the unfortunate baronet, who fled screaming down the yew alley. In that gloomy tunnel it must indeed have been a dreadful sight to see that huge black creature, with its flaming jaws and blazing eyes, bounding after its victim.'],\n  'answer_start': [1697]}}"
     },
     "execution_count": 74,
     "metadata": {},
     "output_type": "execute_result"
    }
   ],
   "source": [
    "dataset_train_custom[130327]"
   ],
   "metadata": {
    "collapsed": false
   }
  },
  {
   "cell_type": "code",
   "execution_count": 75,
   "outputs": [
    {
     "data": {
      "text/plain": "{'id': '56be85543aeaaa14008c9063',\n 'title': 'Beyoncé',\n 'context': 'Beyoncé Giselle Knowles-Carter (/biːˈjɒnseɪ/ bee-YON-say) (born September 4, 1981) is an American singer, songwriter, record producer and actress. Born and raised in Houston, Texas, she performed in various singing and dancing competitions as a child, and rose to fame in the late 1990s as lead singer of R&B girl-group Destiny\\'s Child. Managed by her father, Mathew Knowles, the group became one of the world\\'s best-selling girl groups of all time. Their hiatus saw the release of Beyoncé\\'s debut album, Dangerously in Love (2003), which established her as a solo artist worldwide, earned five Grammy Awards and featured the Billboard Hot 100 number-one singles \"Crazy in Love\" and \"Baby Boy\".',\n 'question': 'When did Beyonce start becoming popular?',\n 'answers': {'text': ['in the late 1990s'], 'answer_start': [269]}}"
     },
     "execution_count": 75,
     "metadata": {},
     "output_type": "execute_result"
    }
   ],
   "source": [
    "dataset_train_custom[0]\n"
   ],
   "metadata": {
    "collapsed": false
   }
  },
  {
   "cell_type": "code",
   "execution_count": null,
   "outputs": [],
   "source": [],
   "metadata": {
    "collapsed": false
   }
  }
 ],
 "metadata": {
  "kernelspec": {
   "display_name": "Python 3",
   "language": "python",
   "name": "python3"
  },
  "language_info": {
   "codemirror_mode": {
    "name": "ipython",
    "version": 2
   },
   "file_extension": ".py",
   "mimetype": "text/x-python",
   "name": "python",
   "nbconvert_exporter": "python",
   "pygments_lexer": "ipython2",
   "version": "2.7.6"
  }
 },
 "nbformat": 4,
 "nbformat_minor": 0
}
