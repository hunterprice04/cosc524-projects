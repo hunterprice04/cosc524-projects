{
 "cells": [
  {
   "cell_type": "code",
   "execution_count": 1,
   "metadata": {
    "collapsed": false
   },
   "outputs": [],
   "source": [
    "%load_ext autoreload\n",
    "%autoreload 2\n",
    "%load_ext tensorboard\n"
   ]
  },
  {
   "cell_type": "markdown",
   "metadata": {
    "collapsed": false
   },
   "source": [
    "---\n",
    "# Project 2 - Part 1\n",
    "For the first part, use [the pretrained Bert model from hugging face](https://huggingface.co/transformers/task_summary.html#question-answering) and feed it with the five 300 words long sections from the book of your choice.\n",
    "These sections should be selected so they are: introducing the protagonist(s), the antagonist, the crime and crime scene, any significant evidence, and the resolution of the crime/a narrative that presents the case against the perpetrator.\n",
    "The questions you should ask are about the identity and characteristics of the protagonist, antagonist/perpetrator, the nature and the setting of the crime or crime scene, the evidence, and the case against the perpetrator.\n",
    "Document the questions, ask the questions and document the specificity and accuracy of the results.\n",
    "Then, feed the whole novel as a context, and repeat the questions. Document the results"
   ]
  },
  {
   "cell_type": "code",
   "execution_count": 2,
   "metadata": {
    "collapsed": false
   },
   "outputs": [
    {
     "name": "stderr",
     "output_type": "stream",
     "text": [
      "2022-10-31 10:27:08.003220: I tensorflow/core/platform/cpu_feature_guard.cc:193] This TensorFlow binary is optimized with oneAPI Deep Neural Network Library (oneDNN) to use the following CPU instructions in performance-critical operations:  AVX2 AVX_VNNI FMA\n",
      "To enable them in other operations, rebuild TensorFlow with the appropriate compiler flags.\n",
      "2022-10-31 10:27:08.064703: I tensorflow/core/util/util.cc:169] oneDNN custom operations are on. You may see slightly different numerical results due to floating-point round-off errors from different computation orders. To turn them off, set the environment variable `TF_ENABLE_ONEDNN_OPTS=0`.\n",
      "2022-10-31 10:27:08.081147: E tensorflow/stream_executor/cuda/cuda_blas.cc:2981] Unable to register cuBLAS factory: Attempting to register factory for plugin cuBLAS when one has already been registered\n",
      "2022-10-31 10:27:08.333705: W tensorflow/stream_executor/platform/default/dso_loader.cc:64] Could not load dynamic library 'libnvinfer.so.7'; dlerror: libnvinfer.so.7: cannot open shared object file: No such file or directory\n",
      "2022-10-31 10:27:08.333735: W tensorflow/stream_executor/platform/default/dso_loader.cc:64] Could not load dynamic library 'libnvinfer_plugin.so.7'; dlerror: libnvinfer_plugin.so.7: cannot open shared object file: No such file or directory\n",
      "2022-10-31 10:27:08.333737: W tensorflow/compiler/tf2tensorrt/utils/py_utils.cc:38] TF-TRT Warning: Cannot dlopen some TensorRT libraries. If you would like to use Nvidia GPU with TensorRT, please make sure the missing libraries mentioned above are installed properly.\n"
     ]
    }
   ],
   "source": [
    "\n",
    "import os\n",
    "from pprint import pprint\n",
    "from transformers import pipeline\n",
    "from transformers import DistilBertTokenizerFast, TFDistilBertForQuestionAnswering\n",
    "from custom_squad import *  # creating and loading in custom squad questions and answers\n",
    "from question_answering import *  # automating the question answering process\n"
   ]
  },
  {
   "cell_type": "markdown",
   "source": [
    "---\n",
    "# Load in Normal Distilbert"
   ],
   "metadata": {
    "collapsed": false
   }
  },
  {
   "cell_type": "code",
   "execution_count": 3,
   "metadata": {
    "collapsed": true
   },
   "outputs": [
    {
     "name": "stderr",
     "output_type": "stream",
     "text": [
      "2022-10-31 10:27:09.564557: I tensorflow/stream_executor/cuda/cuda_gpu_executor.cc:980] successful NUMA node read from SysFS had negative value (-1), but there must be at least one NUMA node, so returning NUMA node zero\n",
      "2022-10-31 10:27:09.576796: I tensorflow/stream_executor/cuda/cuda_gpu_executor.cc:980] successful NUMA node read from SysFS had negative value (-1), but there must be at least one NUMA node, so returning NUMA node zero\n",
      "2022-10-31 10:27:09.576876: I tensorflow/stream_executor/cuda/cuda_gpu_executor.cc:980] successful NUMA node read from SysFS had negative value (-1), but there must be at least one NUMA node, so returning NUMA node zero\n",
      "2022-10-31 10:27:09.577216: I tensorflow/core/platform/cpu_feature_guard.cc:193] This TensorFlow binary is optimized with oneAPI Deep Neural Network Library (oneDNN) to use the following CPU instructions in performance-critical operations:  AVX2 AVX_VNNI FMA\n",
      "To enable them in other operations, rebuild TensorFlow with the appropriate compiler flags.\n",
      "2022-10-31 10:27:09.578482: I tensorflow/stream_executor/cuda/cuda_gpu_executor.cc:980] successful NUMA node read from SysFS had negative value (-1), but there must be at least one NUMA node, so returning NUMA node zero\n",
      "2022-10-31 10:27:09.578560: I tensorflow/stream_executor/cuda/cuda_gpu_executor.cc:980] successful NUMA node read from SysFS had negative value (-1), but there must be at least one NUMA node, so returning NUMA node zero\n",
      "2022-10-31 10:27:09.578606: I tensorflow/stream_executor/cuda/cuda_gpu_executor.cc:980] successful NUMA node read from SysFS had negative value (-1), but there must be at least one NUMA node, so returning NUMA node zero\n",
      "2022-10-31 10:27:09.840191: I tensorflow/stream_executor/cuda/cuda_gpu_executor.cc:980] successful NUMA node read from SysFS had negative value (-1), but there must be at least one NUMA node, so returning NUMA node zero\n",
      "2022-10-31 10:27:09.840284: I tensorflow/stream_executor/cuda/cuda_gpu_executor.cc:980] successful NUMA node read from SysFS had negative value (-1), but there must be at least one NUMA node, so returning NUMA node zero\n",
      "2022-10-31 10:27:09.840330: I tensorflow/stream_executor/cuda/cuda_gpu_executor.cc:980] successful NUMA node read from SysFS had negative value (-1), but there must be at least one NUMA node, so returning NUMA node zero\n",
      "2022-10-31 10:27:09.840375: I tensorflow/core/common_runtime/gpu/gpu_device.cc:1616] Created device /job:localhost/replica:0/task:0/device:GPU:0 with 7456 MB memory:  -> device: 0, name: NVIDIA GeForce RTX 3080, pci bus id: 0000:01:00.0, compute capability: 8.6\n",
      "2022-10-31 10:27:10.462526: I tensorflow/stream_executor/cuda/cuda_blas.cc:1614] TensorFloat-32 will be used for the matrix multiplication. This will only be logged once.\n",
      "Some layers from the model checkpoint at distilbert-base-uncased were not used when initializing TFDistilBertForQuestionAnswering: ['vocab_layer_norm', 'vocab_projector', 'vocab_transform', 'activation_13']\n",
      "- This IS expected if you are initializing TFDistilBertForQuestionAnswering from the checkpoint of a model trained on another task or with another architecture (e.g. initializing a BertForSequenceClassification model from a BertForPreTraining model).\n",
      "- This IS NOT expected if you are initializing TFDistilBertForQuestionAnswering from the checkpoint of a model that you expect to be exactly identical (initializing a BertForSequenceClassification model from a BertForSequenceClassification model).\n",
      "Some layers of TFDistilBertForQuestionAnswering were not initialized from the model checkpoint at distilbert-base-uncased and are newly initialized: ['dropout_19', 'qa_outputs']\n",
      "You should probably TRAIN this model on a down-stream task to be able to use it for predictions and inference.\n"
     ]
    }
   ],
   "source": [
    "tokenizer = DistilBertTokenizerFast.from_pretrained('distilbert-base-uncased')\n",
    "model = TFDistilBertForQuestionAnswering.from_pretrained(\"distilbert-base-uncased\")\n",
    "generator = pipeline(task=\"question-answering\", model=model, tokenizer=tokenizer)"
   ]
  },
  {
   "cell_type": "markdown",
   "metadata": {
    "collapsed": false
   },
   "source": [
    "---\n",
    "# Load in Custom Questions"
   ]
  },
  {
   "cell_type": "code",
   "execution_count": 4,
   "outputs": [],
   "source": [
    "samples = create_samples()"
   ],
   "metadata": {
    "collapsed": false
   }
  },
  {
   "cell_type": "code",
   "execution_count": 5,
   "outputs": [
    {
     "name": "stdout",
     "output_type": "stream",
     "text": [
      "Num Samples: 25\n",
      "Sample Keys: dict_keys(['id', 'title', 'context', 'question', 'answers'])\n"
     ]
    }
   ],
   "source": [
    "# peek at a samples\n",
    "print(f'Num Samples: {len(samples)}')\n",
    "print(f'Sample Keys: {samples[0].keys()}')\n"
   ],
   "metadata": {
    "collapsed": false
   }
  },
  {
   "cell_type": "code",
   "execution_count": 6,
   "outputs": [
    {
     "name": "stdout",
     "output_type": "stream",
     "text": [
      "sample[0]:\n",
      "{'answers': {'answer_start': [608], 'text': ['practitioner']},\n",
      " 'context': 'Mr. Sherlock Holmes, who was usually very late in the mornings, '\n",
      "            'save upon those not infrequent occasions when he was up all '\n",
      "            'night, was seated at the breakfast table. I stood upon the '\n",
      "            'hearth-rug and picked up the stick which our visitor had left '\n",
      "            'behind him the night before. It was a fine, thick piece of wood, '\n",
      "            'bulbous-headed, of the sort which is known as a \\\\\"Penang '\n",
      "            'lawyer.\\\\\" Just under the head was a broad silver band nearly an '\n",
      "            'inch across. \\\\\"To James Mortimer, M.R.C.S., from his friends of '\n",
      "            'the C.C.H.,\\\\\" was engraved upon it, with the date \\\\\"1884.\\\\\" It '\n",
      "            'was just such a stick as the old-fashioned family practitioner '\n",
      "            'used to carry—dignified, solid, and reassuring. \\\\\"Well, Watson, '\n",
      "            'what do you make of it?\\\\\" Holmes was sitting with his back to '\n",
      "            'me, and I had given him no sign of my occupation. \\\\\"How did you '\n",
      "            'know what I was doing? I believe you have eyes in the back of '\n",
      "            'your head.\\\\\" \\\\\"I have, at least, a well-polished, silver-plated '\n",
      "            'coffee-pot in front of me,\\\\\" said he. \\\\\"But, tell me, Watson, '\n",
      "            \"what do you make of our visitor's stick? Since we have been so \"\n",
      "            'unfortunate as to miss him and have no notion of his errand, this '\n",
      "            'accidental souvenir becomes of importance. Let me hear you '\n",
      "            'reconstruct the man by an examination of it.\\\\\" \\\\\"I think,\\\\\" '\n",
      "            'said I, following as far as I could the methods of my companion, '\n",
      "            '\\\\\"that Dr. Mortimer is a successful, elderly medical man, '\n",
      "            'well-esteemed since those who know him give him this mark of '\n",
      "            'their appreciation.\\\\\" \\\\\"Good!\\\\\" said Holmes. \\\\\"Excellent!\\\\\" '\n",
      "            '\\\\\"I think also that the probability is in favour of his being a '\n",
      "            'country practitioner who does a great deal of his visiting on '\n",
      "            'foot.\\\\\" \\\\\"Why so?\\\\\" \\\\\"Because this stick, though originally a '\n",
      "            'very handsome one has',\n",
      " 'id': 'abcdefg',\n",
      " 'question': 'What is the guests occupation?',\n",
      " 'title': 'The Hound of the Baskervilles'}\n"
     ]
    }
   ],
   "source": [
    "print(f'sample[0]:')\n",
    "pprint(samples[0])\n"
   ],
   "metadata": {
    "collapsed": false
   }
  },
  {
   "cell_type": "markdown",
   "source": [
    "---\n",
    "# Test QA"
   ],
   "metadata": {
    "collapsed": false
   }
  },
  {
   "cell_type": "code",
   "execution_count": 7,
   "outputs": [
    {
     "name": "stdout",
     "output_type": "stream",
     "text": [
      "QUESTION: \"What is the guests occupation?\"\n",
      "GROUND TRUTH: \"practitioner\"\n",
      "PREDICTED: \"Watson, what do you make\"\n",
      "SCORE: \"4.443894431460649e-05\"\n"
     ]
    }
   ],
   "source": [
    "# Test pipeline generator\n",
    "_ = qa(generator, samples[0], verbose=True)\n"
   ],
   "metadata": {
    "collapsed": false
   }
  },
  {
   "cell_type": "markdown",
   "source": [
    "---\n",
    "# Non-Finetuned Question vs Answers With 500 Word Contexts"
   ],
   "metadata": {
    "collapsed": false
   }
  },
  {
   "cell_type": "code",
   "execution_count": 8,
   "outputs": [],
   "source": [
    "# Run all of the samples through the generator\n",
    "predicted = list(map(lambda s: qa(generator, s, verbose=False), samples))\n",
    "\n",
    "# Package the sample with the predicted\n",
    "questions_answers = list(zip(samples, predicted))\n"
   ],
   "metadata": {
    "collapsed": false
   }
  },
  {
   "cell_type": "code",
   "execution_count": 9,
   "outputs": [
    {
     "name": "stdout",
     "output_type": "stream",
     "text": [
      "****************************************************************************************************\n",
      "\n",
      "QUESTION #0:\n",
      "\"What is the guests occupation?\"\n",
      "\n",
      "GROUND TRUTH ANSWER:\n",
      "\"practitioner\"\n",
      "\n",
      "PREDICTED ANSWER (score=4.443894431460649e-05):\n",
      "\"Watson, what do you make\"\n",
      "\n",
      "****************************************************************************************************\n",
      "\n",
      "QUESTION #1:\n",
      "\"How did Sherlock Holmes see Watson?\"\n",
      "\n",
      "GROUND TRUTH ANSWER:\n",
      "\"well-polished, silver-plated coffee-pot\"\n",
      "\n",
      "PREDICTED ANSWER (score=4.665433516493067e-05):\n",
      "\"Watson, what do you make\"\n",
      "\n",
      "****************************************************************************************************\n",
      "\n",
      "QUESTION #2:\n",
      "\"What did Holmes and Watson inspect?\"\n",
      "\n",
      "GROUND TRUTH ANSWER:\n",
      "\"visitor's stick\"\n",
      "\n",
      "PREDICTED ANSWER (score=4.6880879381205887e-05):\n",
      "\"Watson, what do you make\"\n",
      "\n",
      "****************************************************************************************************\n",
      "\n",
      "QUESTION #3:\n",
      "\"Where was Sherlock Holmes sitting?\"\n",
      "\n",
      "GROUND TRUTH ANSWER:\n",
      "\"at the breakfast table\"\n",
      "\n",
      "PREDICTED ANSWER (score=4.626798181561753e-05):\n",
      "\"Watson, what do you make\"\n",
      "\n",
      "****************************************************************************************************\n",
      "\n",
      "QUESTION #4:\n",
      "\"When does Sherlock Holmes usually wake up?\"\n",
      "\n",
      "GROUND TRUTH ANSWER:\n",
      "\"very late in the mornings\"\n",
      "\n",
      "PREDICTED ANSWER (score=4.714390161097981e-05):\n",
      "\"Watson, what do you make\"\n",
      "\n",
      "****************************************************************************************************\n",
      "\n",
      "QUESTION #5:\n",
      "\"What habit does Sir Charles of Baskerville have?\"\n",
      "\n",
      "GROUND TRUTH ANSWER:\n",
      "\"in the habit every night before going to bed of walking down the famous yew alley of Baskerville Hall\"\n",
      "\n",
      "PREDICTED ANSWER (score=1.5010306015028618e-05):\n",
      "\"not been explained is the statement of Barrymore that his\"\n",
      "\n",
      "****************************************************************************************************\n",
      "\n",
      "QUESTION #6:\n",
      "\"What was Sir Charles doing the night of his murder?\"\n",
      "\n",
      "GROUND TRUTH ANSWER:\n",
      "\"That night he went out as usual for his nocturnal walk, in the course of which he was in the habit of smoking a cigar\"\n",
      "\n",
      "PREDICTED ANSWER (score=1.488860470999498e-05):\n",
      "\"not been explained is the statement of Barrymore that his\"\n",
      "\n",
      "****************************************************************************************************\n",
      "\n",
      "QUESTION #7:\n",
      "\"How was Sir Charles's body found?\"\n",
      "\n",
      "GROUND TRUTH ANSWER:\n",
      "\"Charles's footmarks were easily traced down the alley.\"\n",
      "\n",
      "PREDICTED ANSWER (score=1.4751881280972157e-05):\n",
      "\"not been explained is the statement of Barrymore that his\"\n",
      "\n",
      "****************************************************************************************************\n",
      "\n",
      "QUESTION #8:\n",
      "\"Did anyone hear what happened to Sir Charles?\"\n",
      "\n",
      "GROUND TRUTH ANSWER:\n",
      "\"heard cries but is unable to state from what direction they came\"\n",
      "\n",
      "PREDICTED ANSWER (score=1.4720161743753124e-05):\n",
      "\"not been explained is the statement of Barrymore that his\"\n",
      "\n",
      "****************************************************************************************************\n",
      "\n",
      "QUESTION #9:\n",
      "\"Was there anything interesting about the victims body?\"\n",
      "\n",
      "GROUND TRUTH ANSWER:\n",
      "\"No signs of violence were to be discovered upon Sir Charles's person, and though the doctor's evidence pointed to an almost incredible facial distortion\"\n",
      "\n",
      "PREDICTED ANSWER (score=1.4799230484641157e-05):\n",
      "\"not been explained is the statement of Barrymore that his\"\n",
      "\n",
      "****************************************************************************************************\n",
      "\n",
      "QUESTION #10:\n",
      "\"How did Sir Charles die?\"\n",
      "\n",
      "GROUND TRUTH ANSWER:\n",
      "\"affection of the heart\"\n",
      "\n",
      "PREDICTED ANSWER (score=3.7521029298659414e-05):\n",
      "\", and acute attacks of nervous depression. Dr. James Mortimer,\"\n",
      "\n",
      "****************************************************************************************************\n",
      "\n",
      "QUESTION #11:\n",
      "\"Who died?\"\n",
      "\n",
      "GROUND TRUTH ANSWER:\n",
      "\"Sir Charles\"\n",
      "\n",
      "PREDICTED ANSWER (score=3.687837306642905e-05):\n",
      "\", and acute attacks of nervous depression. Dr. James Mortimer,\"\n",
      "\n",
      "****************************************************************************************************\n",
      "\n",
      "QUESTION #12:\n",
      "\"Was there any sign of foul play?\"\n",
      "\n",
      "GROUND TRUTH ANSWER:\n",
      "\"no reason whatever to suspect foul play\"\n",
      "\n",
      "PREDICTED ANSWER (score=3.807108078035526e-05):\n",
      "\", and acute attacks of nervous depression. Dr. James Mortimer,\"\n",
      "\n",
      "****************************************************************************************************\n",
      "\n",
      "QUESTION #13:\n",
      "\"Who corroborated the doctor's findings?\"\n",
      "\n",
      "GROUND TRUTH ANSWER:\n",
      "\"several friends\"\n",
      "\n",
      "PREDICTED ANSWER (score=3.784431464737281e-05):\n",
      "\", and acute attacks of nervous depression. Dr. James Mortimer,\"\n",
      "\n",
      "****************************************************************************************************\n",
      "\n",
      "QUESTION #14:\n",
      "\"What did the doctor say about the body?\"\n",
      "\n",
      "GROUND TRUTH ANSWER:\n",
      "\"natural causes\"\n",
      "\n",
      "PREDICTED ANSWER (score=3.774834840442054e-05):\n",
      "\", and acute attacks of nervous depression. Dr. James Mortimer,\"\n",
      "\n",
      "****************************************************************************************************\n",
      "\n",
      "QUESTION #15:\n",
      "\"What ideology does Stapleton follow?\"\n",
      "\n",
      "GROUND TRUTH ANSWER:\n",
      "\"naturalist.\"\n",
      "\n",
      "PREDICTED ANSWER (score=3.775703225983307e-05):\n",
      "\"no doubt that\"\n",
      "\n",
      "****************************************************************************************************\n",
      "\n",
      "QUESTION #16:\n",
      "\"How did Stapleton know Sherlock Holmes?\"\n",
      "\n",
      "GROUND TRUTH ANSWER:\n",
      "\"I have been calling on Mortimer, and he pointed you out to me\"\n",
      "\n",
      "PREDICTED ANSWER (score=3.6644698411691934e-05):\n",
      "\"no doubt that it led to his tragic end.\\\" \\\"But\"\n",
      "\n",
      "****************************************************************************************************\n",
      "\n",
      "QUESTION #17:\n",
      "\"Who did Stapleton ask about?\"\n",
      "\n",
      "GROUND TRUTH ANSWER:\n",
      "\"Sir Henry\"\n",
      "\n",
      "PREDICTED ANSWER (score=3.768479291466065e-05):\n",
      "\"no doubt that\"\n",
      "\n",
      "****************************************************************************************************\n",
      "\n",
      "QUESTION #18:\n",
      "\"What did Stapleton know about Sir Charles?\"\n",
      "\n",
      "GROUND TRUTH ANSWER:\n",
      "\"his heart was weak\"\n",
      "\n",
      "PREDICTED ANSWER (score=3.699630906339735e-05):\n",
      "\"no doubt that it led to his tragic end.\\\" \\\"But\"\n",
      "\n",
      "****************************************************************************************************\n",
      "\n",
      "QUESTION #19:\n",
      "\"What house did Stapleton live in?\"\n",
      "\n",
      "GROUND TRUTH ANSWER:\n",
      "\"Merripit House\"\n",
      "\n",
      "PREDICTED ANSWER (score=3.743316847248934e-05):\n",
      "\"no doubt that it led to his tragic end.\\\" \\\"But\"\n",
      "\n",
      "****************************************************************************************************\n",
      "\n",
      "QUESTION #20:\n",
      "\"How did Stapleton kill Sir Charles?\"\n",
      "\n",
      "GROUND TRUTH ANSWER:\n",
      "\"get his hound, to treat it with his infernal paint, and to bring the beast round to the gate at which he had reason to expect that he would find the old gentleman waiting. The dog, incited by its master, sprang over the wicket-gate and pursued the unfortunate baronet, who fled screaming down the yew alley. In that gloomy tunnel it must indeed have been a dreadful sight to see that huge black creature, with its flaming jaws and blazing eyes, bounding after its victim.\"\n",
      "\n",
      "PREDICTED ANSWER (score=1.639201946090907e-05):\n",
      "\"left which puzzled the authorities,\"\n",
      "\n",
      "****************************************************************************************************\n",
      "\n",
      "QUESTION #21:\n",
      "\"Who did Stapleton hope would lure Sir Charles out?\"\n",
      "\n",
      "GROUND TRUTH ANSWER:\n",
      "\"his wife\"\n",
      "\n",
      "PREDICTED ANSWER (score=1.669379162194673e-05):\n",
      "\"left which puzzled the authorities,\"\n",
      "\n",
      "****************************************************************************************************\n",
      "\n",
      "QUESTION #22:\n",
      "\"What did Stapleton do to the hound?\"\n",
      "\n",
      "GROUND TRUTH ANSWER:\n",
      "\"treat it with his infernal paint\"\n",
      "\n",
      "PREDICTED ANSWER (score=1.6784335457487032e-05):\n",
      "\"left which puzzled the authorities,\"\n",
      "\n",
      "****************************************************************************************************\n",
      "\n",
      "QUESTION #23:\n",
      "\"How did the hound get to the victim?\"\n",
      "\n",
      "GROUND TRUTH ANSWER:\n",
      "\"sprang over the wicket-gate and pursued\"\n",
      "\n",
      "PREDICTED ANSWER (score=1.6826703358674422e-05):\n",
      "\"left which puzzled the authorities,\"\n",
      "\n",
      "****************************************************************************************************\n",
      "\n",
      "QUESTION #24:\n",
      "\"What did Stapleton do at first?\"\n",
      "\n",
      "GROUND TRUTH ANSWER:\n",
      "\"lurked about with his hound, but without avail\"\n",
      "\n",
      "PREDICTED ANSWER (score=1.64063476404408e-05):\n",
      "\"left which puzzled the authorities,\"\n",
      "\n",
      "****************************************************************************************************\n"
     ]
    }
   ],
   "source": [
    "n = len(questions_answers)\n",
    "\n",
    "# print predictions to console for quick inspection\n",
    "for i, answer in enumerate(questions_answers):\n",
    "    print_answer(i, questions_answers[i], n=n)\n",
    "\n",
    "# write predictions to a file for later\n",
    "with open(os.path.join('results', 'non-fine-tuned-500-word-context.txt'), 'w') as f:\n",
    "    for i, answer in enumerate(questions_answers):\n",
    "        print_answer(i, questions_answers[i], n=n, file=f)"
   ],
   "metadata": {
    "collapsed": false
   }
  },
  {
   "cell_type": "markdown",
   "source": [
    "---\n",
    "# Non-Finetuned Question vs Answers With Whole Book As Context"
   ],
   "metadata": {
    "collapsed": false
   }
  },
  {
   "cell_type": "code",
   "execution_count": 10,
   "outputs": [],
   "source": [
    "# read in whole book\n",
    "context = clean_context(os.path.join('text', 'the-hound-of-the-baskervilles.txt'))\n",
    "\n",
    "# change samples contexts to full book\n",
    "samples_large_context = samples.copy()\n",
    "for i in range(len(samples_large_context)):\n",
    "    samples_large_context[i]['context'] = context"
   ],
   "metadata": {
    "collapsed": false
   }
  },
  {
   "cell_type": "code",
   "execution_count": 37,
   "outputs": [],
   "source": [
    "# Run all of the samples through the generator\n",
    "predicted = list(map(lambda s: qa(generator, s, verbose=False), samples_large_context))\n",
    "\n",
    "# Package the sample with the predicted\n",
    "questions_answers = list(zip(samples_large_context, predicted))\n"
   ],
   "metadata": {
    "collapsed": false
   }
  },
  {
   "cell_type": "code",
   "execution_count": 39,
   "outputs": [
    {
     "name": "stdout",
     "output_type": "stream",
     "text": [
      "****************************************************************************************************\n",
      "\n",
      "QUESTION #0:\n",
      "\"What is the guests occupation?\"\n",
      "\n",
      "GROUND TRUTH ANSWER:\n",
      "\"practitioner\"\n",
      "\n",
      "PREDICTED ANSWER (score=3.951425605919212e-05):\n",
      "\"Stapleton has\"\n",
      "\n",
      "****************************************************************************************************\n",
      "\n",
      "QUESTION #1:\n",
      "\"How did Sherlock Holmes see Watson?\"\n",
      "\n",
      "GROUND TRUTH ANSWER:\n",
      "\"well-polished, silver-plated coffee-pot\"\n",
      "\n",
      "PREDICTED ANSWER (score=2.329632297914941e-05):\n",
      "\"our minds the grim and grey impression which had been left upon both of\"\n",
      "\n",
      "****************************************************************************************************\n",
      "\n",
      "QUESTION #2:\n",
      "\"What did Holmes and Watson inspect?\"\n",
      "\n",
      "GROUND TRUTH ANSWER:\n",
      "\"visitor's stick\"\n",
      "\n",
      "PREDICTED ANSWER (score=2.3236951165017672e-05):\n",
      "\"our minds the grim and grey impression which had been left upon both of\"\n",
      "\n",
      "****************************************************************************************************\n",
      "\n",
      "QUESTION #3:\n",
      "\"Where was Sherlock Holmes sitting?\"\n",
      "\n",
      "GROUND TRUTH ANSWER:\n",
      "\"at the breakfast table\"\n",
      "\n",
      "PREDICTED ANSWER (score=3.8206446333788335e-05):\n",
      "\"Stapleton has\"\n",
      "\n",
      "****************************************************************************************************\n",
      "\n",
      "QUESTION #4:\n",
      "\"When does Sherlock Holmes usually wake up?\"\n",
      "\n",
      "GROUND TRUTH ANSWER:\n",
      "\"very late in the mornings\"\n",
      "\n",
      "PREDICTED ANSWER (score=0.00011480147077236325):\n",
      "\"we know of him that\"\n",
      "\n",
      "****************************************************************************************************\n",
      "\n",
      "QUESTION #5:\n",
      "\"What habit does Sir Charles of Baskerville have?\"\n",
      "\n",
      "GROUND TRUTH ANSWER:\n",
      "\"in the habit every night before going to bed of walking down the famous yew alley of Baskerville Hall\"\n",
      "\n",
      "PREDICTED ANSWER (score=2.5186478524119593e-05):\n",
      "\"our minds the grim and grey impression which had been left upon both of\"\n",
      "\n",
      "****************************************************************************************************\n",
      "\n",
      "QUESTION #6:\n",
      "\"What was Sir Charles doing the night of his murder?\"\n",
      "\n",
      "GROUND TRUTH ANSWER:\n",
      "\"That night he went out as usual for his nocturnal walk, in the course of which he was in the habit of smoking a cigar\"\n",
      "\n",
      "PREDICTED ANSWER (score=2.5751918656169437e-05):\n",
      "\"our minds the grim and grey impression which had been left upon both of\"\n",
      "\n",
      "****************************************************************************************************\n",
      "\n",
      "QUESTION #7:\n",
      "\"How was Sir Charles's body found?\"\n",
      "\n",
      "GROUND TRUTH ANSWER:\n",
      "\"Charles's footmarks were easily traced down the alley.\"\n",
      "\n",
      "PREDICTED ANSWER (score=4.907210313831456e-05):\n",
      "\"we know of him that\"\n",
      "\n",
      "****************************************************************************************************\n",
      "\n",
      "QUESTION #8:\n",
      "\"Did anyone hear what happened to Sir Charles?\"\n",
      "\n",
      "GROUND TRUTH ANSWER:\n",
      "\"heard cries but is unable to state from what direction they came\"\n",
      "\n",
      "PREDICTED ANSWER (score=4.924566383124329e-05):\n",
      "\"the way?\\\"\"\n",
      "\n",
      "****************************************************************************************************\n",
      "\n",
      "QUESTION #9:\n",
      "\"Was there anything interesting about the victims body?\"\n",
      "\n",
      "GROUND TRUTH ANSWER:\n",
      "\"No signs of violence were to be discovered upon Sir Charles's person, and though the doctor's evidence pointed to an almost incredible facial distortion\"\n",
      "\n",
      "PREDICTED ANSWER (score=4.909017661702819e-05):\n",
      "\"the way?\\\"\"\n",
      "\n",
      "****************************************************************************************************\n",
      "\n",
      "QUESTION #10:\n",
      "\"How did Sir Charles die?\"\n",
      "\n",
      "GROUND TRUTH ANSWER:\n",
      "\"affection of the heart\"\n",
      "\n",
      "PREDICTED ANSWER (score=3.915045454050414e-05):\n",
      "\"Stapleton has\"\n",
      "\n",
      "****************************************************************************************************\n",
      "\n",
      "QUESTION #11:\n",
      "\"Who died?\"\n",
      "\n",
      "GROUND TRUTH ANSWER:\n",
      "\"Sir Charles\"\n",
      "\n",
      "PREDICTED ANSWER (score=2.3349184630205855e-05):\n",
      "\"Stapleton came into the succession, how could he explain the fact that\"\n",
      "\n",
      "****************************************************************************************************\n",
      "\n",
      "QUESTION #12:\n",
      "\"Was there any sign of foul play?\"\n",
      "\n",
      "GROUND TRUTH ANSWER:\n",
      "\"no reason whatever to suspect foul play\"\n",
      "\n",
      "PREDICTED ANSWER (score=0.00011740749323507771):\n",
      "\"we know of\"\n",
      "\n",
      "****************************************************************************************************\n",
      "\n",
      "QUESTION #13:\n",
      "\"Who corroborated the doctor's findings?\"\n",
      "\n",
      "GROUND TRUTH ANSWER:\n",
      "\"several friends\"\n",
      "\n",
      "PREDICTED ANSWER (score=2.580377258709632e-05):\n",
      "\"our minds the grim and grey impression which had been left upon both of\"\n",
      "\n",
      "****************************************************************************************************\n",
      "\n",
      "QUESTION #14:\n",
      "\"What did the doctor say about the body?\"\n",
      "\n",
      "GROUND TRUTH ANSWER:\n",
      "\"natural causes\"\n",
      "\n",
      "PREDICTED ANSWER (score=4.9220514483749866e-05):\n",
      "\"the way?\\\"\"\n",
      "\n",
      "****************************************************************************************************\n",
      "\n",
      "QUESTION #15:\n",
      "\"What ideology does Stapleton follow?\"\n",
      "\n",
      "GROUND TRUTH ANSWER:\n",
      "\"naturalist.\"\n",
      "\n",
      "PREDICTED ANSWER (score=2.282273089804221e-05):\n",
      "\"our minds the grim and grey impression which had been left upon both of\"\n",
      "\n",
      "****************************************************************************************************\n",
      "\n",
      "QUESTION #16:\n",
      "\"How did Stapleton know Sherlock Holmes?\"\n",
      "\n",
      "GROUND TRUTH ANSWER:\n",
      "\"I have been calling on Mortimer, and he pointed you out to me\"\n",
      "\n",
      "PREDICTED ANSWER (score=0.00011420040391385555):\n",
      "\"we know of him that\"\n",
      "\n",
      "****************************************************************************************************\n",
      "\n",
      "QUESTION #17:\n",
      "\"Who did Stapleton ask about?\"\n",
      "\n",
      "GROUND TRUTH ANSWER:\n",
      "\"Sir Henry\"\n",
      "\n",
      "PREDICTED ANSWER (score=2.3173099179985e-05):\n",
      "\"our minds the grim and grey impression which had been left upon both of\"\n",
      "\n",
      "****************************************************************************************************\n",
      "\n",
      "QUESTION #18:\n",
      "\"What did Stapleton know about Sir Charles?\"\n",
      "\n",
      "GROUND TRUTH ANSWER:\n",
      "\"his heart was weak\"\n",
      "\n",
      "PREDICTED ANSWER (score=4.91186510771513e-05):\n",
      "\"the way?\\\"\"\n",
      "\n",
      "****************************************************************************************************\n",
      "\n",
      "QUESTION #19:\n",
      "\"What house did Stapleton live in?\"\n",
      "\n",
      "GROUND TRUTH ANSWER:\n",
      "\"Merripit House\"\n",
      "\n",
      "PREDICTED ANSWER (score=0.0001188970563816838):\n",
      "\"we know of\"\n",
      "\n",
      "****************************************************************************************************\n",
      "\n",
      "QUESTION #20:\n",
      "\"How did Stapleton kill Sir Charles?\"\n",
      "\n",
      "GROUND TRUTH ANSWER:\n",
      "\"get his hound, to treat it with his infernal paint, and to bring the beast round to the gate at which he had reason to expect that he would find the old gentleman waiting. The dog, incited by its master, sprang over the wicket-gate and pursued the unfortunate baronet, who fled screaming down the yew alley. In that gloomy tunnel it must indeed have been a dreadful sight to see that huge black creature, with its flaming jaws and blazing eyes, bounding after its victim.\"\n",
      "\n",
      "PREDICTED ANSWER (score=0.00011697049922076985):\n",
      "\"we know of\"\n",
      "\n",
      "****************************************************************************************************\n",
      "\n",
      "QUESTION #21:\n",
      "\"Who did Stapleton hope would lure Sir Charles out?\"\n",
      "\n",
      "GROUND TRUTH ANSWER:\n",
      "\"his wife\"\n",
      "\n",
      "PREDICTED ANSWER (score=2.5722692953422666e-05):\n",
      "\"our minds the grim and grey impression which had been left upon both of\"\n",
      "\n",
      "****************************************************************************************************\n",
      "\n",
      "QUESTION #22:\n",
      "\"What did Stapleton do to the hound?\"\n",
      "\n",
      "GROUND TRUTH ANSWER:\n",
      "\"treat it with his infernal paint\"\n",
      "\n",
      "PREDICTED ANSWER (score=4.958226054441184e-05):\n",
      "\"we know of him that\"\n",
      "\n",
      "****************************************************************************************************\n",
      "\n",
      "QUESTION #23:\n",
      "\"How did the hound get to the victim?\"\n",
      "\n",
      "GROUND TRUTH ANSWER:\n",
      "\"sprang over the wicket-gate and pursued\"\n",
      "\n",
      "PREDICTED ANSWER (score=4.9075413699029014e-05):\n",
      "\"we know of him that\"\n",
      "\n",
      "****************************************************************************************************\n",
      "\n",
      "QUESTION #24:\n",
      "\"What did Stapleton do at first?\"\n",
      "\n",
      "GROUND TRUTH ANSWER:\n",
      "\"lurked about with his hound, but without avail\"\n",
      "\n",
      "PREDICTED ANSWER (score=0.00011692754924297333):\n",
      "\"we know of him that\"\n",
      "\n",
      "****************************************************************************************************\n"
     ]
    }
   ],
   "source": [
    "n = len(questions_answers)\n",
    "\n",
    "# print predictions to console for quick inspection\n",
    "for i, answer in enumerate(questions_answers):\n",
    "    print_answer(i, questions_answers[i], n=n)\n",
    "\n",
    "# write predictions to a file for later\n",
    "with open(os.path.join('results', 'non-fine-tuned-book-context.txt'), 'w') as f:\n",
    "    for i, answer in enumerate(questions_answers):\n",
    "        print_answer(i, questions_answers[i], n=n, file=f)"
   ],
   "metadata": {
    "collapsed": false
   }
  },
  {
   "cell_type": "code",
   "execution_count": 11,
   "metadata": {},
   "outputs": [
    {
     "data": {
      "text/plain": "{'score': 5.4886535508558154e-05,\n 'start': 318350,\n 'end': 318354,\n 'answer': 'from'}"
     },
     "execution_count": 11,
     "metadata": {},
     "output_type": "execute_result"
    }
   ],
   "source": [
    "generator(question='Who is the protagonist?', context=context)\n"
   ]
  },
  {
   "cell_type": "code",
   "execution_count": 12,
   "outputs": [
    {
     "data": {
      "text/plain": "{'score': 2.169448089262005e-05,\n 'start': 318276,\n 'end': 318354,\n 'answer': 'and retaining a claim upon some proportion of his income. We cannot doubt from'}"
     },
     "execution_count": 12,
     "metadata": {},
     "output_type": "execute_result"
    }
   ],
   "source": [
    "generator(question='Who is the perpetrator?', context=context)\n"
   ],
   "metadata": {
    "collapsed": false
   }
  },
  {
   "cell_type": "code",
   "execution_count": 13,
   "outputs": [
    {
     "data": {
      "text/plain": "{'score': 0.00011635889677563682,\n 'start': 318350,\n 'end': 318354,\n 'answer': 'from'}"
     },
     "execution_count": 13,
     "metadata": {},
     "output_type": "execute_result"
    }
   ],
   "source": [
    "generator(question='What is the setting of the crime?', context=context)\n"
   ],
   "metadata": {
    "collapsed": false
   }
  },
  {
   "cell_type": "code",
   "execution_count": 14,
   "outputs": [
    {
     "data": {
      "text/plain": "{'score': 2.8686723453574814e-05,\n 'start': 318350,\n 'end': 318354,\n 'answer': 'from'}"
     },
     "execution_count": 14,
     "metadata": {},
     "output_type": "execute_result"
    }
   ],
   "source": [
    "generator(question='What is the evidence against the perpetrator?', context=context)\n"
   ],
   "metadata": {
    "collapsed": false
   }
  },
  {
   "cell_type": "code",
   "execution_count": null,
   "outputs": [],
   "source": [],
   "metadata": {
    "collapsed": false
   }
  }
 ],
 "metadata": {
  "kernelspec": {
   "display_name": "Python 3.9.12 ('base')",
   "language": "python",
   "name": "python3"
  },
  "language_info": {
   "codemirror_mode": {
    "name": "ipython",
    "version": 3
   },
   "file_extension": ".py",
   "mimetype": "text/x-python",
   "name": "python",
   "nbconvert_exporter": "python",
   "pygments_lexer": "ipython3",
   "version": "3.9.12"
  },
  "vscode": {
   "interpreter": {
    "hash": "3b964ac9b30b36bbea2ffa1ada2bc35f19c0e363ef9f5256b2512afd4c34d440"
   }
  }
 },
 "nbformat": 4,
 "nbformat_minor": 0
}
