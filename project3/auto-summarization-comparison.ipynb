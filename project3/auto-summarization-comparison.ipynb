{
 "cells": [
  {
   "cell_type": "code",
   "execution_count": 13,
   "metadata": {
    "collapsed": true
   },
   "outputs": [
    {
     "name": "stderr",
     "output_type": "stream",
     "text": [
      "[nltk_data] Downloading package punkt to /home/hp/nltk_data...\n",
      "[nltk_data]   Package punkt is already up-to-date!\n"
     ]
    }
   ],
   "source": [
    "# io\n",
    "import os\n",
    "import re\n",
    "\n",
    "# sentence tokenization\n",
    "import nltk\n",
    "from nltk.tokenize import sent_tokenize\n",
    "nltk.download('punkt')\n",
    "\n",
    "# huggingface\n",
    "from transformers import pipeline\n",
    "\n",
    "# plots\n",
    "import numpy as np\n",
    "import matplotlib.pyplot as plt\n"
   ]
  },
  {
   "cell_type": "markdown",
   "source": [
    "---\n",
    "# Summarize text for each model"
   ],
   "metadata": {
    "collapsed": false
   }
  },
  {
   "cell_type": "code",
   "execution_count": 4,
   "outputs": [],
   "source": [
    "INPUT_DIR = 'part3-text'\n",
    "OUTPUT_DIR = 'part3-text'"
   ],
   "metadata": {
    "collapsed": false
   }
  },
  {
   "cell_type": "code",
   "execution_count": 5,
   "outputs": [
    {
     "name": "stdout",
     "output_type": "stream",
     "text": [
      "####################################################################################################\n",
      "facebook/bart-large-cnn\n"
     ]
    },
    {
     "name": "stderr",
     "output_type": "stream",
     "text": [
      "2022-12-04 14:34:36.660326: I tensorflow/stream_executor/cuda/cuda_gpu_executor.cc:980] successful NUMA node read from SysFS had negative value (-1), but there must be at least one NUMA node, so returning NUMA node zero\n",
      "2022-12-04 14:34:36.673720: I tensorflow/stream_executor/cuda/cuda_gpu_executor.cc:980] successful NUMA node read from SysFS had negative value (-1), but there must be at least one NUMA node, so returning NUMA node zero\n",
      "2022-12-04 14:34:36.673808: I tensorflow/stream_executor/cuda/cuda_gpu_executor.cc:980] successful NUMA node read from SysFS had negative value (-1), but there must be at least one NUMA node, so returning NUMA node zero\n",
      "2022-12-04 14:34:36.674288: I tensorflow/core/platform/cpu_feature_guard.cc:193] This TensorFlow binary is optimized with oneAPI Deep Neural Network Library (oneDNN) to use the following CPU instructions in performance-critical operations:  AVX2 AVX_VNNI FMA\n",
      "To enable them in other operations, rebuild TensorFlow with the appropriate compiler flags.\n",
      "2022-12-04 14:34:36.674908: I tensorflow/stream_executor/cuda/cuda_gpu_executor.cc:980] successful NUMA node read from SysFS had negative value (-1), but there must be at least one NUMA node, so returning NUMA node zero\n",
      "2022-12-04 14:34:36.674975: I tensorflow/stream_executor/cuda/cuda_gpu_executor.cc:980] successful NUMA node read from SysFS had negative value (-1), but there must be at least one NUMA node, so returning NUMA node zero\n",
      "2022-12-04 14:34:36.675022: I tensorflow/stream_executor/cuda/cuda_gpu_executor.cc:980] successful NUMA node read from SysFS had negative value (-1), but there must be at least one NUMA node, so returning NUMA node zero\n",
      "2022-12-04 14:34:36.988244: I tensorflow/stream_executor/cuda/cuda_gpu_executor.cc:980] successful NUMA node read from SysFS had negative value (-1), but there must be at least one NUMA node, so returning NUMA node zero\n",
      "2022-12-04 14:34:36.988350: I tensorflow/stream_executor/cuda/cuda_gpu_executor.cc:980] successful NUMA node read from SysFS had negative value (-1), but there must be at least one NUMA node, so returning NUMA node zero\n",
      "2022-12-04 14:34:36.988404: I tensorflow/stream_executor/cuda/cuda_gpu_executor.cc:980] successful NUMA node read from SysFS had negative value (-1), but there must be at least one NUMA node, so returning NUMA node zero\n",
      "2022-12-04 14:34:36.988456: I tensorflow/core/common_runtime/gpu/gpu_device.cc:1616] Created device /job:localhost/replica:0/task:0/device:GPU:0 with 7183 MB memory:  -> device: 0, name: NVIDIA GeForce RTX 3080, pci bus id: 0000:01:00.0, compute capability: 8.6\n",
      "2022-12-04 14:34:37.771541: I tensorflow/stream_executor/cuda/cuda_blas.cc:1614] TensorFloat-32 will be used for the matrix multiplication. This will only be logged once.\n",
      "All model checkpoint layers were used when initializing TFBartForConditionalGeneration.\n",
      "\n",
      "All the layers of TFBartForConditionalGeneration were initialized from the model checkpoint at facebook/bart-large-cnn.\n",
      "If your task is similar to the task the model of the checkpoint was trained on, you can already use TFBartForConditionalGeneration for predictions without further training.\n"
     ]
    },
    {
     "name": "stdout",
     "output_type": "stream",
     "text": [
      "model loaded\n",
      "input text filenames: ['part3-text/inp1.txt', 'part3-text/inp2.txt', 'part3-text/inp3.txt', 'part3-text/inp4.txt']\n",
      "Summarizing Input 1\n",
      "Summarizing Input 2\n",
      "Summarizing Input 3\n",
      "Summarizing Input 4\n",
      "Done\n",
      "\"The facts of the case are simple.\n",
      "Sir Charles Baskerville was in the habit every night before going to bed of walking down the famous yew alley\" \"No signs of violence were to be discovered upon Sir Charles's person\" \"The coroner's jury returned a verdict in accordance with the medical evidence\" \" inquiries are being instituted with a view to informing him of his good fortune\"\n",
      "\"He found a way out of his difficulties through the chance that Sir Charles, who had conceived a friendship for him, made him the minister of his charity in the case of Mrs. Laura Lyons\" \"By representing himself as a single man he acquired complete influence over her, and he gave her to understand that in the event of her obtaining a divorce from her husband he would marry her.\n",
      "His plans were suddenly brought to a head by his knowledge that Sir.\n",
      "Charles was about to leave the Hall on the advice of Dr. Mortimer, with whose opinion he himself pretended to coincide\"\n",
      " Holmes: \"There are one or two indications, and yet the utmost pains have been taken to remove all clues\" \"Why the word 'moor' should have been written?\"\n",
      "\"Because he could not find it in print,\" said Holmes.\n",
      "\"Why, of course, that would explain it\"\n",
      "Sir Charles was a widower, and may be said to have been in some ways of an eccentric habit of mind.\n",
      "In spite of his considerable wealth he was simple in his personal tastes.\n",
      "His indoor servants at Baskerville Hall consisted of a married couple named Barrymore, the husband acting as butler and the wife as housekeeper.\n",
      "####################################################################################################\n",
      "t5-large\n"
     ]
    },
    {
     "name": "stderr",
     "output_type": "stream",
     "text": [
      "All model checkpoint layers were used when initializing TFT5ForConditionalGeneration.\n",
      "\n",
      "All the layers of TFT5ForConditionalGeneration were initialized from the model checkpoint at t5-large.\n",
      "If your task is similar to the task the model of the checkpoint was trained on, you can already use TFT5ForConditionalGeneration for predictions without further training.\n",
      "/home/hp/.conda/envs/huggingface/lib/python3.8/site-packages/transformers/models/t5/tokenization_t5_fast.py:156: FutureWarning: This tokenizer was incorrectly instantiated with a model max length of 512 which will be corrected in Transformers v5.\n",
      "For now, this behavior is kept to avoid breaking backwards compatibility when padding/encoding with `truncation is True`.\n",
      "- Be aware that you SHOULD NOT rely on t5-large automatically truncating your input to 512 when padding/encoding.\n",
      "- If you want to encode/pad to sequences longer than 512 you can either instantiate this tokenizer with `model_max_length` or pass `max_length` when encoding/padding.\n",
      "- To avoid this warning, please instantiate this tokenizer with `model_max_length` set to your preferred value.\n",
      "  warnings.warn(\n",
      "Token indices sequence length is longer than the specified maximum sequence length for this model (651 > 512). Running this sequence through the model will result in indexing errors\n"
     ]
    },
    {
     "name": "stdout",
     "output_type": "stream",
     "text": [
      "model loaded\n",
      "input text filenames: ['part3-text/inp1.txt', 'part3-text/inp2.txt', 'part3-text/inp3.txt', 'part3-text/inp4.txt']\n",
      "Summarizing Input 1\n"
     ]
    },
    {
     "name": "stderr",
     "output_type": "stream",
     "text": [
      "2022-12-04 14:36:02.633477: I tensorflow/compiler/xla/service/service.cc:173] XLA service 0x55f56866fa40 initialized for platform CUDA (this does not guarantee that XLA will be used). Devices:\n",
      "2022-12-04 14:36:02.633504: I tensorflow/compiler/xla/service/service.cc:181]   StreamExecutor device (0): NVIDIA GeForce RTX 3080, Compute Capability 8.6\n",
      "2022-12-04 14:36:02.636552: I tensorflow/compiler/mlir/tensorflow/utils/dump_mlir_util.cc:268] disabling MLIR crash reproducer, set env var `MLIR_CRASH_REPRODUCER_DIRECTORY` to enable.\n",
      "2022-12-04 14:36:02.650721: I tensorflow/core/platform/default/subprocess.cc:304] Start cannot spawn child process: No such file or directory\n",
      "2022-12-04 14:36:02.668063: I tensorflow/compiler/jit/xla_compilation_cache.cc:476] Compiled cluster using XLA!  This line is logged at most once for the lifetime of the process.\n"
     ]
    },
    {
     "name": "stdout",
     "output_type": "stream",
     "text": [
      "Summarizing Input 2\n",
      "Summarizing Input 3\n",
      "Summarizing Input 4\n",
      "Done\n",
      "\"sir Charles Baskerville was in the habit every night before going to bed\" \"the evidence of the Barrymores shows that this had been his custom,\" \"the coroner's jury returned a verdict in accordance with the medical evidence\" \"it is obviously of the utmost importance that Sir Charles's heir should settle at the Hall\"\n",
      "\"he found a way out of his difficulties through the chance that sir Charles made him minister of his charity in the case of unfortunate woman, Mrs. Laura Lyons\" by representing himself as a single man he acquired complete influence over her .\n",
      "he then put pressure upon Mrs. Lyons to write this letter, imploring the old man to give her an interview on the evening before his departure .\n",
      "\"the other words were all simple and might be found in any issue, but 'moor' would be less common\" \"have you read anything else in this message, Mr.\n",
      "Holmes?\"\n",
      "he asks .\n",
      "\"the address, you observe, is printed in rough characters, but the times is a paper which is seldom found in anyone but those of the highly educated\"\n",
      "\"there is no reason whatsoever to suspect foul play,\" says sir charles barry .\n",
      "barry: \"the circumstances connected with the death of sir Charles cannot be said to have been entirely cleared up by the inquest\"\n",
      "####################################################################################################\n",
      "google/pegasus-xsum\n"
     ]
    },
    {
     "name": "stderr",
     "output_type": "stream",
     "text": [
      "All model checkpoint layers were used when initializing TFPegasusForConditionalGeneration.\n",
      "\n",
      "Some layers of TFPegasusForConditionalGeneration were not initialized from the model checkpoint at google/pegasus-xsum and are newly initialized: ['final_logits_bias']\n",
      "You should probably TRAIN this model on a down-stream task to be able to use it for predictions and inference.\n",
      "Token indices sequence length is longer than the specified maximum sequence length for this model (572 > 512). Running this sequence through the model will result in indexing errors\n"
     ]
    },
    {
     "name": "stdout",
     "output_type": "stream",
     "text": [
      "model loaded\n",
      "input text filenames: ['part3-text/inp1.txt', 'part3-text/inp2.txt', 'part3-text/inp3.txt', 'part3-text/inp4.txt']\n",
      "Summarizing Input 1\n",
      "Summarizing Input 2\n",
      "Summarizing Input 3\n",
      "Summarizing Input 4\n",
      "Done\n",
      "The coroner's jury report for the inquest into the death of Sir Charles Baskerville, the master of Mayes Barrymore, who was found dead on the moor on the morning of the 4th of May, 1847.\n",
      "The murder of a baronet by a hound in Gloucestershire in 1666 is the subject of a new novel by Thomas Hardy.\n",
      "A letter to the editor of the Times from Sir Henry VIII.\n",
      "The coroner's report on the inquest into the death of Sir Charles Barrymore.\n"
     ]
    }
   ],
   "source": [
    "def get_pred(model):\n",
    "    print(\"#\"*100)\n",
    "    print(model)\n",
    "    pipe = pipeline(\"summarization\", model=model, device=0)\n",
    "    print(\"model loaded\")\n",
    "    # get number of samples\n",
    "    sample_fn = os.listdir(INPUT_DIR)\n",
    "    sample_fn = list(filter(lambda x: 'inp' in x.lower(), sample_fn))\n",
    "    n_samples = len(sample_fn)\n",
    "\n",
    "    # get filenames\n",
    "    inp_fn = [os.path.join(INPUT_DIR, f'inp{i}.txt') for i in range(1,n_samples+1)]\n",
    "    print('input text filenames:', inp_fn)\n",
    "\n",
    "    # load in texts\n",
    "    def clean_context(filename):\n",
    "        with open(filename, 'r', encoding=\"utf8\") as f:\n",
    "            text = f.read()\n",
    "        text = re.sub(\"\\n\", r' ', text)\n",
    "        text = re.sub(r\"\\s{2,}\", r' ', text)\n",
    "        text = re.sub(r\"“|”\", r'\"', text)\n",
    "        text = re.sub(r\"‘|’\", r\"'\", text)\n",
    "        text = re.sub(r\"_\", r'', text, re.ASCII)\n",
    "        text = re.sub(r\"\\s{2,}\", r' ', text)\n",
    "        text = text.strip()\n",
    "        return text\n",
    "\n",
    "    inp_text = [clean_context(fn) for fn in inp_fn]\n",
    "\n",
    "    query_lens = [len(q) for q in inp_text]\n",
    "    predictions = []\n",
    "    for i, inp in enumerate(inp_text):\n",
    "        print(f'Summarizing Input {i+1}')\n",
    "        predictions.append(pipe(inp))\n",
    "    print(\"Done\")\n",
    "\n",
    "    def clean_pred(preds, query_lens):\n",
    "        out = []\n",
    "        for p, n in zip(preds, query_lens):\n",
    "            for x in p:\n",
    "                if 'pegasus' in model.lower():\n",
    "                    out.append(x['summary_text'].replace(\" .<n>\", \".\\n\"))\n",
    "                else:\n",
    "                    out.append('\\n'.join(sent_tokenize(x['summary_text'])))\n",
    "            print(out[-1])\n",
    "        return out\n",
    "    predictions = clean_pred(predictions, query_lens)\n",
    "\n",
    "    # free up memory for next run\n",
    "    del pipe\n",
    "\n",
    "    #return predictions\n",
    "    return predictions\n",
    "\n",
    "models = ['facebook/bart-large-cnn', 't5-large',  'google/pegasus-xsum']\n",
    "preds = {}\n",
    "for m in models:\n",
    "    preds[m] = get_pred(m)"
   ],
   "metadata": {
    "collapsed": false
   }
  },
  {
   "cell_type": "markdown",
   "source": [
    "---\n",
    "# Get Scores for Predictions"
   ],
   "metadata": {
    "collapsed": false
   }
  },
  {
   "cell_type": "code",
   "execution_count": 9,
   "outputs": [
    {
     "name": "stdout",
     "output_type": "stream",
     "text": [
      "reference text filenames: ['part3-text/ref1.txt', 'part3-text/ref2.txt', 'part3-text/ref3.txt', 'part3-text/ref4.txt']\n"
     ]
    }
   ],
   "source": [
    "# get number of samples\n",
    "sample_fn = os.listdir(INPUT_DIR)\n",
    "sample_fn = list(filter(lambda x: 'inp' in x.lower(), sample_fn))\n",
    "n_samples = len(sample_fn)\n",
    "\n",
    "# get filenames\n",
    "ref_fn = [os.path.join(INPUT_DIR, f'ref{i}.txt') for i in range(1,n_samples+1)]\n",
    "print('reference text filenames:', ref_fn)\n",
    "def clean_context(filename):\n",
    "    with open(filename, 'r', encoding=\"utf8\") as f:\n",
    "        text = f.read()\n",
    "    text = re.sub(\"\\n\", r' ', text)\n",
    "    text = re.sub(r\"\\s{2,}\", r' ', text)\n",
    "    text = re.sub(r\"“|”\", r'\"', text)\n",
    "    text = re.sub(r\"‘|’\", r\"'\", text)\n",
    "    text = re.sub(r\"_\", r'', text, re.ASCII)\n",
    "    text = re.sub(r\"\\s{2,}\", r' ', text)\n",
    "    text = text.strip()\n",
    "    return text\n",
    "ref_text = [\"\\n\".join(sent_tokenize(clean_context(fn))) for fn in ref_fn]"
   ],
   "metadata": {
    "collapsed": false
   }
  },
  {
   "cell_type": "code",
   "execution_count": 8,
   "outputs": [],
   "source": [
    "import evaluate\n",
    "\n",
    "rouge = evaluate.load('rouge')\n",
    "\n",
    "def eval_rouge(predictions, references):\n",
    "    global rouge\n",
    "    results = rouge.compute(\n",
    "        predictions=predictions,\n",
    "        references=references\n",
    "    )\n",
    "    return results"
   ],
   "metadata": {
    "collapsed": false
   }
  },
  {
   "cell_type": "code",
   "execution_count": 10,
   "outputs": [],
   "source": [
    "scores = {}\n",
    "for m in models:\n",
    "    scores[m] =  eval_rouge(preds[m], ref_text)"
   ],
   "metadata": {
    "collapsed": false
   }
  },
  {
   "cell_type": "code",
   "execution_count": 11,
   "outputs": [
    {
     "data": {
      "text/plain": "{'facebook/bart-large-cnn': {'rouge1': 0.3436942087836211,\n  'rouge2': 0.08957020986038977,\n  'rougeL': 0.20360193443286578,\n  'rougeLsum': 0.2907314668791361},\n 't5-large': {'rouge1': 0.30477971889501143,\n  'rouge2': 0.08313524369280692,\n  'rougeL': 0.172717101887657,\n  'rougeLsum': 0.2431638779022941},\n 'google/pegasus-xsum': {'rouge1': 0.19887806370386057,\n  'rouge2': 0.03591026955315684,\n  'rougeL': 0.1259067563274383,\n  'rougeLsum': 0.18196738913010224}}"
     },
     "execution_count": 11,
     "metadata": {},
     "output_type": "execute_result"
    }
   ],
   "source": [
    "scores"
   ],
   "metadata": {
    "collapsed": false
   }
  },
  {
   "cell_type": "markdown",
   "source": [
    "---\n",
    "# Plots Scores"
   ],
   "metadata": {
    "collapsed": false
   }
  },
  {
   "cell_type": "code",
   "execution_count": 18,
   "outputs": [
    {
     "data": {
      "text/plain": "<Figure size 640x480 with 1 Axes>",
      "image/png": "[encoded data removed]"
     },
     "metadata": {},
     "output_type": "display_data"
    }
   ],
   "source": [
    "fig, ax = plt.subplots()\n",
    "\n",
    "labels = list(scores.keys())\n",
    "x = np.arange(len(labels))  # the label locations\n",
    "width = 0.2  # the width of the bars\n",
    "\n",
    "# ax.set_ylabel('Scores')\n",
    "plt.ylabel(\"Scores\")\n",
    "# ax.set_title(\n",
    "plt.title('Model ROUGE Scores')\n",
    "plt.xticks(x+width*2.5,labels)\n",
    "\n",
    "rouge1 = [scores[k]['rouge1'] for k in labels]\n",
    "rouge2 = [scores[k]['rouge2'] for k in labels]\n",
    "rougeL = [scores[k]['rougeL'] for k in labels]\n",
    "rougeLsum = [scores[k]['rougeLsum'] for k in labels]\n",
    "\n",
    "plt.bar(x+width, rouge1, width=width, label='rouge1')\n",
    "plt.bar(x+width*2, rouge2, width=width, label='rouge2')\n",
    "plt.bar(x+width*3, rougeL, width=width, label='rougeL')\n",
    "plt.bar(x+width*4, rougeLsum, width=width, label='rougeLsum')\n",
    "\n",
    "\n",
    "plt.tight_layout()\n",
    "plt.legend()\n",
    "\n",
    "plt.savefig('plots/rouge-scores.png', dpi=500)\n",
    "plt.show()"
   ],
   "metadata": {
    "collapsed": false
   }
  },
  {
   "cell_type": "code",
   "execution_count": null,
   "outputs": [],
   "source": [],
   "metadata": {
    "collapsed": false
   }
  }
 ],
 "metadata": {
  "kernelspec": {
   "display_name": "Python 3",
   "language": "python",
   "name": "python3"
  },
  "language_info": {
   "codemirror_mode": {
    "name": "ipython",
    "version": 2
   },
   "file_extension": ".py",
   "mimetype": "text/x-python",
   "name": "python",
   "nbconvert_exporter": "python",
   "pygments_lexer": "ipython2",
   "version": "2.7.6"
  }
 },
 "nbformat": 4,
 "nbformat_minor": 0
}
