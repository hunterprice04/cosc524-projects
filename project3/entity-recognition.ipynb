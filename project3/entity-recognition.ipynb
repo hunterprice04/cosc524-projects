{
 "cells": [
  {
   "cell_type": "markdown",
   "metadata": {},
   "source": [
    "---\n",
    "### Imports"
   ]
  },
  {
   "cell_type": "code",
   "execution_count": 1,
   "metadata": {},
   "outputs": [
    {
     "name": "stderr",
     "output_type": "stream",
     "text": [
      "[nltk_data] Downloading package punkt to\n",
      "[nltk_data]     C:\\Users\\zimin\\AppData\\Roaming\\nltk_data...\n",
      "[nltk_data]   Package punkt is already up-to-date!\n"
     ]
    },
    {
     "ename": "OSError",
     "evalue": "dslim/bert-base-NER does not appear to have a file named config.json. Checkout 'https://huggingface.co/dslim/bert-base-NER/None' for available files.",
     "output_type": "error",
     "traceback": [
      "\u001b[1;31m---------------------------------------------------------------------------\u001b[0m",
      "\u001b[1;31mOSError\u001b[0m                                   Traceback (most recent call last)",
      "\u001b[1;32mc:\\Users\\zimin\\Documents\\GitHub\\cosc524-projects\\project3\\entity-recognition.ipynb Cell 2\u001b[0m in \u001b[0;36m<cell line: 14>\u001b[1;34m()\u001b[0m\n\u001b[0;32m     <a href='vscode-notebook-cell:/c%3A/Users/zimin/Documents/GitHub/cosc524-projects/project3/entity-recognition.ipynb#W1sZmlsZQ%3D%3D?line=10'>11</a>\u001b[0m \u001b[39mfrom\u001b[39;00m \u001b[39mtransformers\u001b[39;00m \u001b[39mimport\u001b[39;00m AutoTokenizer, AutoModelForTokenClassification\n\u001b[0;32m     <a href='vscode-notebook-cell:/c%3A/Users/zimin/Documents/GitHub/cosc524-projects/project3/entity-recognition.ipynb#W1sZmlsZQ%3D%3D?line=11'>12</a>\u001b[0m \u001b[39mfrom\u001b[39;00m \u001b[39mtransformers\u001b[39;00m \u001b[39mimport\u001b[39;00m pipeline\n\u001b[1;32m---> <a href='vscode-notebook-cell:/c%3A/Users/zimin/Documents/GitHub/cosc524-projects/project3/entity-recognition.ipynb#W1sZmlsZQ%3D%3D?line=13'>14</a>\u001b[0m tokenizer \u001b[39m=\u001b[39m AutoTokenizer\u001b[39m.\u001b[39;49mfrom_pretrained(\u001b[39m\"\u001b[39;49m\u001b[39mdslim/bert-base-NER\u001b[39;49m\u001b[39m\"\u001b[39;49m)\n\u001b[0;32m     <a href='vscode-notebook-cell:/c%3A/Users/zimin/Documents/GitHub/cosc524-projects/project3/entity-recognition.ipynb#W1sZmlsZQ%3D%3D?line=14'>15</a>\u001b[0m model \u001b[39m=\u001b[39m AutoModelForTokenClassification\u001b[39m.\u001b[39mfrom_pretrained(\u001b[39m\"\u001b[39m\u001b[39mdslim/bert-base-NER\u001b[39m\u001b[39m\"\u001b[39m)\n\u001b[0;32m     <a href='vscode-notebook-cell:/c%3A/Users/zimin/Documents/GitHub/cosc524-projects/project3/entity-recognition.ipynb#W1sZmlsZQ%3D%3D?line=15'>16</a>\u001b[0m \u001b[39mfrom\u001b[39;00m \u001b[39mpathlib\u001b[39;00m \u001b[39mimport\u001b[39;00m Path\n",
      "File \u001b[1;32mc:\\Users\\zimin\\anaconda3\\lib\\site-packages\\transformers\\models\\auto\\tokenization_auto.py:566\u001b[0m, in \u001b[0;36mAutoTokenizer.from_pretrained\u001b[1;34m(cls, pretrained_model_name_or_path, *inputs, **kwargs)\u001b[0m\n\u001b[0;32m    564\u001b[0m \u001b[39mif\u001b[39;00m config_tokenizer_class \u001b[39mis\u001b[39;00m \u001b[39mNone\u001b[39;00m:\n\u001b[0;32m    565\u001b[0m     \u001b[39mif\u001b[39;00m \u001b[39mnot\u001b[39;00m \u001b[39misinstance\u001b[39m(config, PretrainedConfig):\n\u001b[1;32m--> 566\u001b[0m         config \u001b[39m=\u001b[39m AutoConfig\u001b[39m.\u001b[39mfrom_pretrained(\n\u001b[0;32m    567\u001b[0m             pretrained_model_name_or_path, trust_remote_code\u001b[39m=\u001b[39mtrust_remote_code, \u001b[39m*\u001b[39m\u001b[39m*\u001b[39mkwargs\n\u001b[0;32m    568\u001b[0m         )\n\u001b[0;32m    569\u001b[0m     config_tokenizer_class \u001b[39m=\u001b[39m config\u001b[39m.\u001b[39mtokenizer_class\n\u001b[0;32m    570\u001b[0m     \u001b[39mif\u001b[39;00m \u001b[39mhasattr\u001b[39m(config, \u001b[39m\"\u001b[39m\u001b[39mauto_map\u001b[39m\u001b[39m\"\u001b[39m) \u001b[39mand\u001b[39;00m \u001b[39m\"\u001b[39m\u001b[39mAutoTokenizer\u001b[39m\u001b[39m\"\u001b[39m \u001b[39min\u001b[39;00m config\u001b[39m.\u001b[39mauto_map:\n",
      "File \u001b[1;32mc:\\Users\\zimin\\anaconda3\\lib\\site-packages\\transformers\\models\\auto\\configuration_auto.py:770\u001b[0m, in \u001b[0;36mAutoConfig.from_pretrained\u001b[1;34m(cls, pretrained_model_name_or_path, **kwargs)\u001b[0m\n\u001b[0;32m    768\u001b[0m kwargs[\u001b[39m\"\u001b[39m\u001b[39mname_or_path\u001b[39m\u001b[39m\"\u001b[39m] \u001b[39m=\u001b[39m pretrained_model_name_or_path\n\u001b[0;32m    769\u001b[0m trust_remote_code \u001b[39m=\u001b[39m kwargs\u001b[39m.\u001b[39mpop(\u001b[39m\"\u001b[39m\u001b[39mtrust_remote_code\u001b[39m\u001b[39m\"\u001b[39m, \u001b[39mFalse\u001b[39;00m)\n\u001b[1;32m--> 770\u001b[0m config_dict, unused_kwargs \u001b[39m=\u001b[39m PretrainedConfig\u001b[39m.\u001b[39mget_config_dict(pretrained_model_name_or_path, \u001b[39m*\u001b[39m\u001b[39m*\u001b[39mkwargs)\n\u001b[0;32m    771\u001b[0m \u001b[39mif\u001b[39;00m \u001b[39m\"\u001b[39m\u001b[39mauto_map\u001b[39m\u001b[39m\"\u001b[39m \u001b[39min\u001b[39;00m config_dict \u001b[39mand\u001b[39;00m \u001b[39m\"\u001b[39m\u001b[39mAutoConfig\u001b[39m\u001b[39m\"\u001b[39m \u001b[39min\u001b[39;00m config_dict[\u001b[39m\"\u001b[39m\u001b[39mauto_map\u001b[39m\u001b[39m\"\u001b[39m]:\n\u001b[0;32m    772\u001b[0m     \u001b[39mif\u001b[39;00m \u001b[39mnot\u001b[39;00m trust_remote_code:\n",
      "File \u001b[1;32mc:\\Users\\zimin\\anaconda3\\lib\\site-packages\\transformers\\configuration_utils.py:558\u001b[0m, in \u001b[0;36mPretrainedConfig.get_config_dict\u001b[1;34m(cls, pretrained_model_name_or_path, **kwargs)\u001b[0m\n\u001b[0;32m    556\u001b[0m original_kwargs \u001b[39m=\u001b[39m copy\u001b[39m.\u001b[39mdeepcopy(kwargs)\n\u001b[0;32m    557\u001b[0m \u001b[39m# Get config dict associated with the base config file\u001b[39;00m\n\u001b[1;32m--> 558\u001b[0m config_dict, kwargs \u001b[39m=\u001b[39m \u001b[39mcls\u001b[39m\u001b[39m.\u001b[39m_get_config_dict(pretrained_model_name_or_path, \u001b[39m*\u001b[39m\u001b[39m*\u001b[39mkwargs)\n\u001b[0;32m    559\u001b[0m \u001b[39mif\u001b[39;00m \u001b[39m\"\u001b[39m\u001b[39m_commit_hash\u001b[39m\u001b[39m\"\u001b[39m \u001b[39min\u001b[39;00m config_dict:\n\u001b[0;32m    560\u001b[0m     original_kwargs[\u001b[39m\"\u001b[39m\u001b[39m_commit_hash\u001b[39m\u001b[39m\"\u001b[39m] \u001b[39m=\u001b[39m config_dict[\u001b[39m\"\u001b[39m\u001b[39m_commit_hash\u001b[39m\u001b[39m\"\u001b[39m]\n",
      "File \u001b[1;32mc:\\Users\\zimin\\anaconda3\\lib\\site-packages\\transformers\\configuration_utils.py:613\u001b[0m, in \u001b[0;36mPretrainedConfig._get_config_dict\u001b[1;34m(cls, pretrained_model_name_or_path, **kwargs)\u001b[0m\n\u001b[0;32m    609\u001b[0m configuration_file \u001b[39m=\u001b[39m kwargs\u001b[39m.\u001b[39mpop(\u001b[39m\"\u001b[39m\u001b[39m_configuration_file\u001b[39m\u001b[39m\"\u001b[39m, CONFIG_NAME)\n\u001b[0;32m    611\u001b[0m \u001b[39mtry\u001b[39;00m:\n\u001b[0;32m    612\u001b[0m     \u001b[39m# Load from local folder or from cache or download from model Hub and cache\u001b[39;00m\n\u001b[1;32m--> 613\u001b[0m     resolved_config_file \u001b[39m=\u001b[39m cached_file(\n\u001b[0;32m    614\u001b[0m         pretrained_model_name_or_path,\n\u001b[0;32m    615\u001b[0m         configuration_file,\n\u001b[0;32m    616\u001b[0m         cache_dir\u001b[39m=\u001b[39;49mcache_dir,\n\u001b[0;32m    617\u001b[0m         force_download\u001b[39m=\u001b[39;49mforce_download,\n\u001b[0;32m    618\u001b[0m         proxies\u001b[39m=\u001b[39;49mproxies,\n\u001b[0;32m    619\u001b[0m         resume_download\u001b[39m=\u001b[39;49mresume_download,\n\u001b[0;32m    620\u001b[0m         local_files_only\u001b[39m=\u001b[39;49mlocal_files_only,\n\u001b[0;32m    621\u001b[0m         use_auth_token\u001b[39m=\u001b[39;49muse_auth_token,\n\u001b[0;32m    622\u001b[0m         user_agent\u001b[39m=\u001b[39;49muser_agent,\n\u001b[0;32m    623\u001b[0m         revision\u001b[39m=\u001b[39;49mrevision,\n\u001b[0;32m    624\u001b[0m         subfolder\u001b[39m=\u001b[39;49msubfolder,\n\u001b[0;32m    625\u001b[0m         _commit_hash\u001b[39m=\u001b[39;49mcommit_hash,\n\u001b[0;32m    626\u001b[0m     )\n\u001b[0;32m    627\u001b[0m     commit_hash \u001b[39m=\u001b[39m extract_commit_hash(resolved_config_file, commit_hash)\n\u001b[0;32m    628\u001b[0m \u001b[39mexcept\u001b[39;00m \u001b[39mEnvironmentError\u001b[39;00m:\n\u001b[0;32m    629\u001b[0m     \u001b[39m# Raise any environment error raise by `cached_file`. It will have a helpful error message adapted to\u001b[39;00m\n\u001b[0;32m    630\u001b[0m     \u001b[39m# the original exception.\u001b[39;00m\n",
      "File \u001b[1;32mc:\\Users\\zimin\\anaconda3\\lib\\site-packages\\transformers\\utils\\hub.py:380\u001b[0m, in \u001b[0;36mcached_file\u001b[1;34m(path_or_repo_id, filename, cache_dir, force_download, resume_download, proxies, use_auth_token, revision, local_files_only, subfolder, user_agent, _raise_exceptions_for_missing_entries, _raise_exceptions_for_connection_errors, _commit_hash)\u001b[0m\n\u001b[0;32m    378\u001b[0m \u001b[39mif\u001b[39;00m \u001b[39mnot\u001b[39;00m os\u001b[39m.\u001b[39mpath\u001b[39m.\u001b[39misfile(resolved_file):\n\u001b[0;32m    379\u001b[0m     \u001b[39mif\u001b[39;00m _raise_exceptions_for_missing_entries:\n\u001b[1;32m--> 380\u001b[0m         \u001b[39mraise\u001b[39;00m \u001b[39mEnvironmentError\u001b[39;00m(\n\u001b[0;32m    381\u001b[0m             \u001b[39mf\u001b[39m\u001b[39m\"\u001b[39m\u001b[39m{\u001b[39;00mpath_or_repo_id\u001b[39m}\u001b[39;00m\u001b[39m does not appear to have a file named \u001b[39m\u001b[39m{\u001b[39;00mfull_filename\u001b[39m}\u001b[39;00m\u001b[39m. Checkout \u001b[39m\u001b[39m\"\u001b[39m\n\u001b[0;32m    382\u001b[0m             \u001b[39mf\u001b[39m\u001b[39m\"\u001b[39m\u001b[39m'\u001b[39m\u001b[39mhttps://huggingface.co/\u001b[39m\u001b[39m{\u001b[39;00mpath_or_repo_id\u001b[39m}\u001b[39;00m\u001b[39m/\u001b[39m\u001b[39m{\u001b[39;00mrevision\u001b[39m}\u001b[39;00m\u001b[39m'\u001b[39m\u001b[39m for available files.\u001b[39m\u001b[39m\"\u001b[39m\n\u001b[0;32m    383\u001b[0m         )\n\u001b[0;32m    384\u001b[0m     \u001b[39melse\u001b[39;00m:\n\u001b[0;32m    385\u001b[0m         \u001b[39mreturn\u001b[39;00m \u001b[39mNone\u001b[39;00m\n",
      "\u001b[1;31mOSError\u001b[0m: dslim/bert-base-NER does not appear to have a file named config.json. Checkout 'https://huggingface.co/dslim/bert-base-NER/None' for available files."
     ]
    }
   ],
   "source": [
    "# io\n",
    "import os\n",
    "import re\n",
    "\n",
    "# sentence tokenization\n",
    "import nltk\n",
    "from nltk.tokenize import sent_tokenize\n",
    "nltk.download('punkt')\n",
    "import spacy\n",
    "\n",
    "from transformers import AutoTokenizer, AutoModelForTokenClassification\n",
    "from transformers import pipeline\n",
    "\n",
    "tokenizer = AutoTokenizer.from_pretrained(\"dslim/bert-base-NER\")\n",
    "model = AutoModelForTokenClassification.from_pretrained(\"dslim/bert-base-NER\")\n",
    "from pathlib import Path"
   ]
  },
  {
   "cell_type": "code",
   "execution_count": 8,
   "metadata": {},
   "outputs": [
    {
     "name": "stdout",
     "output_type": "stream",
     "text": [
      "[{'entity': 'B-PER', 'score': 0.99657625, 'index': 3, 'word': 'Sherlock', 'start': 6, 'end': 14}, {'entity': 'I-PER', 'score': 0.93573886, 'index': 4, 'word': 'Holmes', 'start': 15, 'end': 21}, {'entity': 'B-LOC', 'score': 0.9756599, 'index': 85, 'word': 'Penang', 'start': 361, 'end': 367}, {'entity': 'B-PER', 'score': 0.9995883, 'index': 105, 'word': 'James', 'start': 448, 'end': 453}, {'entity': 'I-PER', 'score': 0.9972734, 'index': 106, 'word': 'Mortimer', 'start': 454, 'end': 462}, {'entity': 'I-ORG', 'score': 0.52823794, 'index': 110, 'word': 'R', 'start': 466, 'end': 467}, {'entity': 'I-ORG', 'score': 0.7830299, 'index': 112, 'word': 'C', 'start': 468, 'end': 469}, {'entity': 'I-ORG', 'score': 0.70867896, 'index': 114, 'word': 'S', 'start': 470, 'end': 471}, {'entity': 'B-ORG', 'score': 0.9715973, 'index': 122, 'word': 'C', 'start': 498, 'end': 499}, {'entity': 'I-ORG', 'score': 0.98966265, 'index': 124, 'word': 'C', 'start': 500, 'end': 501}, {'entity': 'I-ORG', 'score': 0.67918855, 'index': 125, 'word': '.', 'start': 501, 'end': 502}, {'entity': 'I-ORG', 'score': 0.9918772, 'index': 126, 'word': 'H', 'start': 502, 'end': 503}, {'entity': 'B-PER', 'score': 0.98240787, 'index': 171, 'word': 'Watson', 'start': 672, 'end': 678}, {'entity': 'B-PER', 'score': 0.6196501, 'index': 180, 'word': '”', 'start': 703, 'end': 704}, {'entity': 'B-PER', 'score': 0.9882882, 'index': 181, 'word': 'Holmes', 'start': 705, 'end': 711}, {'entity': 'B-PER', 'score': 0.98280936, 'index': 258, 'word': 'Watson', 'start': 980, 'end': 986}, {'entity': 'B-PER', 'score': 0.9097967, 'index': 341, 'word': 'Mortimer', 'start': 1308, 'end': 1316}, {'entity': 'B-PER', 'score': 0.98990774, 'index': 373, 'word': 'Holmes', 'start': 1450, 'end': 1456}]\n"
     ]
    }
   ],
   "source": [
    "nlp = pipeline(\"ner\", model=model, tokenizer=tokenizer)\n",
    "\n",
    "with open('translationout\\original.txt', encoding=\"utf8\") as file:\n",
    "    data = file.read().rstrip()\n",
    "\n",
    "ner_results = nlp(data)\n",
    "print(ner_results)"
   ]
  },
  {
   "cell_type": "code",
   "execution_count": 9,
   "metadata": {},
   "outputs": [
    {
     "name": "stdout",
     "output_type": "stream",
     "text": [
      "[{'entity': 'B-PER', 'score': 0.99657625, 'index': 3, 'word': 'Sherlock', 'start': 6, 'end': 14}, {'entity': 'I-PER', 'score': 0.93573886, 'index': 4, 'word': 'Holmes', 'start': 15, 'end': 21}, {'entity': 'B-LOC', 'score': 0.9756599, 'index': 85, 'word': 'Penang', 'start': 361, 'end': 367}, {'entity': 'B-PER', 'score': 0.9995883, 'index': 105, 'word': 'James', 'start': 448, 'end': 453}, {'entity': 'I-PER', 'score': 0.9972734, 'index': 106, 'word': 'Mortimer', 'start': 454, 'end': 462}, {'entity': 'I-ORG', 'score': 0.52823794, 'index': 110, 'word': 'R', 'start': 466, 'end': 467}, {'entity': 'I-ORG', 'score': 0.7830299, 'index': 112, 'word': 'C', 'start': 468, 'end': 469}, {'entity': 'I-ORG', 'score': 0.70867896, 'index': 114, 'word': 'S', 'start': 470, 'end': 471}, {'entity': 'B-ORG', 'score': 0.9715973, 'index': 122, 'word': 'C', 'start': 498, 'end': 499}, {'entity': 'I-ORG', 'score': 0.98966265, 'index': 124, 'word': 'C', 'start': 500, 'end': 501}, {'entity': 'I-ORG', 'score': 0.67918855, 'index': 125, 'word': '.', 'start': 501, 'end': 502}, {'entity': 'I-ORG', 'score': 0.9918772, 'index': 126, 'word': 'H', 'start': 502, 'end': 503}, {'entity': 'B-PER', 'score': 0.98240787, 'index': 171, 'word': 'Watson', 'start': 674, 'end': 680}, {'entity': 'B-PER', 'score': 0.6196501, 'index': 180, 'word': '”', 'start': 705, 'end': 706}, {'entity': 'B-PER', 'score': 0.9882882, 'index': 181, 'word': 'Holmes', 'start': 709, 'end': 715}, {'entity': 'B-PER', 'score': 0.98280936, 'index': 258, 'word': 'Watson', 'start': 988, 'end': 994}, {'entity': 'B-PER', 'score': 0.9097967, 'index': 341, 'word': 'Mortimer', 'start': 1318, 'end': 1326}, {'entity': 'B-PER', 'score': 0.98990774, 'index': 373, 'word': 'Holmes', 'start': 1462, 'end': 1468}]\n"
     ]
    }
   ],
   "source": [
    "nlp = pipeline(\"ner\", model=model, tokenizer=tokenizer)\n",
    "\n",
    "with open('translationout\\original0.txt', encoding=\"utf8\") as file:\n",
    "    data = file.read().rstrip()\n",
    "\n",
    "ner_results = nlp(data)\n",
    "print(ner_results)"
   ]
  },
  {
   "cell_type": "code",
   "execution_count": 10,
   "metadata": {},
   "outputs": [
    {
     "name": "stdout",
     "output_type": "stream",
     "text": [
      "[{'entity': 'B-PER', 'score': 0.99169004, 'index': 6, 'word': 'St', 'start': 18, 'end': 20}, {'entity': 'B-PER', 'score': 0.9406764, 'index': 7, 'word': '##ap', 'start': 20, 'end': 22}, {'entity': 'B-PER', 'score': 0.54046696, 'index': 8, 'word': '##leton', 'start': 22, 'end': 27}, {'entity': 'B-LOC', 'score': 0.9364357, 'index': 160, 'word': 'Me', 'start': 646, 'end': 648}, {'entity': 'I-LOC', 'score': 0.45404822, 'index': 161, 'word': '##rri', 'start': 648, 'end': 651}, {'entity': 'I-LOC', 'score': 0.81324714, 'index': 162, 'word': '##pit', 'start': 651, 'end': 654}, {'entity': 'I-LOC', 'score': 0.92310673, 'index': 163, 'word': 'House', 'start': 655, 'end': 660}, {'entity': 'B-PER', 'score': 0.901683, 'index': 200, 'word': 'Henry', 'start': 814, 'end': 819}, {'entity': 'B-PER', 'score': 0.978092, 'index': 235, 'word': 'Holmes', 'start': 973, 'end': 979}, {'entity': 'B-PER', 'score': 0.98603606, 'index': 253, 'word': 'St', 'start': 1060, 'end': 1062}, {'entity': 'B-PER', 'score': 0.9196118, 'index': 254, 'word': '##ap', 'start': 1062, 'end': 1064}, {'entity': 'B-PER', 'score': 0.84390336, 'index': 375, 'word': 'Charles', 'start': 1562, 'end': 1569}]\n"
     ]
    }
   ],
   "source": [
    "nlp = pipeline(\"ner\", model=model, tokenizer=tokenizer)\n",
    "\n",
    "with open('translationout\\original1.txt', encoding=\"utf8\") as file:\n",
    "    data = file.read().rstrip()\n",
    "\n",
    "ner_results = nlp(data)\n",
    "print(ner_results)"
   ]
  },
  {
   "cell_type": "code",
   "execution_count": 11,
   "metadata": {},
   "outputs": [
    {
     "name": "stdout",
     "output_type": "stream",
     "text": [
      "[{'entity': 'B-PER', 'score': 0.9851672, 'index': 11, 'word': 'Charles', 'start': 42, 'end': 49}, {'entity': 'I-PER', 'score': 0.9969168, 'index': 12, 'word': 'Ba', 'start': 50, 'end': 52}, {'entity': 'I-PER', 'score': 0.8715349, 'index': 13, 'word': '##ske', 'start': 52, 'end': 55}, {'entity': 'I-PER', 'score': 0.9817977, 'index': 14, 'word': '##rville', 'start': 55, 'end': 61}, {'entity': 'B-LOC', 'score': 0.979603, 'index': 34, 'word': 'Ba', 'start': 151, 'end': 153}, {'entity': 'I-LOC', 'score': 0.96698487, 'index': 35, 'word': '##ske', 'start': 153, 'end': 156}, {'entity': 'I-LOC', 'score': 0.97701776, 'index': 36, 'word': '##rville', 'start': 156, 'end': 162}, {'entity': 'I-LOC', 'score': 0.9925069, 'index': 37, 'word': 'Hall', 'start': 163, 'end': 167}, {'entity': 'B-PER', 'score': 0.99198663, 'index': 43, 'word': 'Barry', 'start': 191, 'end': 196}, {'entity': 'I-PER', 'score': 0.2614411, 'index': 44, 'word': '##more', 'start': 196, 'end': 200}, {'entity': 'B-PER', 'score': 0.9874373, 'index': 60, 'word': 'Charles', 'start': 264, 'end': 271}, {'entity': 'B-LOC', 'score': 0.99938965, 'index': 70, 'word': 'London', 'start': 324, 'end': 330}, {'entity': 'B-PER', 'score': 0.9986487, 'index': 75, 'word': 'Barry', 'start': 348, 'end': 353}, {'entity': 'I-PER', 'score': 0.5193187, 'index': 76, 'word': '##more', 'start': 353, 'end': 357}, {'entity': 'B-PER', 'score': 0.9982157, 'index': 119, 'word': 'Barry', 'start': 544, 'end': 549}, {'entity': 'I-PER', 'score': 0.8288965, 'index': 120, 'word': '##more', 'start': 549, 'end': 553}, {'entity': 'B-PER', 'score': 0.7990198, 'index': 153, 'word': 'Charles', 'start': 692, 'end': 699}, {'entity': 'B-PER', 'score': 0.62992895, 'index': 189, 'word': 'Charles', 'start': 852, 'end': 859}, {'entity': 'B-PER', 'score': 0.9988732, 'index': 231, 'word': 'Barry', 'start': 1053, 'end': 1058}, {'entity': 'B-PER', 'score': 0.9960239, 'index': 271, 'word': 'Murphy', 'start': 1242, 'end': 1248}, {'entity': 'B-PER', 'score': 0.98195744, 'index': 336, 'word': 'Charles', 'start': 1533, 'end': 1540}, {'entity': 'B-PER', 'score': 0.99868006, 'index': 361, 'word': 'Mortimer', 'start': 1652, 'end': 1660}]\n"
     ]
    }
   ],
   "source": [
    "nlp = pipeline(\"ner\", model=model, tokenizer=tokenizer)\n",
    "\n",
    "with open('translationout\\original2.txt', encoding=\"utf8\") as file:\n",
    "    data = file.read().rstrip()\n",
    "\n",
    "ner_results = nlp(data)\n",
    "print(ner_results)"
   ]
  },
  {
   "cell_type": "code",
   "execution_count": 12,
   "metadata": {},
   "outputs": [
    {
     "name": "stdout",
     "output_type": "stream",
     "text": [
      "[{'entity': 'B-PER', 'score': 0.9938013, 'index': 49, 'word': 'St', 'start': 221, 'end': 223}, {'entity': 'B-PER', 'score': 0.9397978, 'index': 50, 'word': '##ap', 'start': 223, 'end': 225}, {'entity': 'B-PER', 'score': 0.9951062, 'index': 76, 'word': 'Sherlock', 'start': 321, 'end': 329}, {'entity': 'I-PER', 'score': 0.73166287, 'index': 77, 'word': 'Holmes', 'start': 330, 'end': 336}, {'entity': 'B-PER', 'score': 0.92996055, 'index': 109, 'word': 'Watson', 'start': 472, 'end': 478}, {'entity': 'B-LOC', 'score': 0.99949694, 'index': 152, 'word': 'London', 'start': 654, 'end': 660}, {'entity': 'B-PER', 'score': 0.9878429, 'index': 190, 'word': 'Holmes', 'start': 822, 'end': 828}, {'entity': 'B-PER', 'score': 0.9837842, 'index': 242, 'word': 'St', 'start': 1069, 'end': 1071}, {'entity': 'B-PER', 'score': 0.8939765, 'index': 243, 'word': '##ap', 'start': 1071, 'end': 1073}, {'entity': 'B-PER', 'score': 0.9642066, 'index': 316, 'word': 'St', 'start': 1384, 'end': 1386}, {'entity': 'B-PER', 'score': 0.8529518, 'index': 317, 'word': '##ap', 'start': 1386, 'end': 1388}, {'entity': 'B-PER', 'score': 0.98725396, 'index': 325, 'word': 'Holmes', 'start': 1418, 'end': 1424}, {'entity': 'B-LOC', 'score': 0.98955816, 'index': 331, 'word': 'Ba', 'start': 1442, 'end': 1444}, {'entity': 'I-LOC', 'score': 0.91717166, 'index': 332, 'word': '##ske', 'start': 1444, 'end': 1447}, {'entity': 'I-LOC', 'score': 0.9829276, 'index': 333, 'word': '##rville', 'start': 1447, 'end': 1453}, {'entity': 'I-LOC', 'score': 0.9960251, 'index': 334, 'word': 'Hall', 'start': 1454, 'end': 1458}]\n"
     ]
    }
   ],
   "source": [
    "nlp = pipeline(\"ner\", model=model, tokenizer=tokenizer)\n",
    "\n",
    "with open('translationout\\original3.txt', encoding=\"utf8\") as file:\n",
    "    data = file.read().rstrip()\n",
    "\n",
    "ner_results = nlp(data)\n",
    "print(ner_results)"
   ]
  },
  {
   "cell_type": "code",
   "execution_count": 13,
   "metadata": {},
   "outputs": [
    {
     "name": "stdout",
     "output_type": "stream",
     "text": [
      "[{'entity': 'B-PER', 'score': 0.66820914, 'index': 33, 'word': 'G', 'start': 107, 'end': 108}, {'entity': 'B-PER', 'score': 0.99340904, 'index': 38, 'word': 'Holmes', 'start': 118, 'end': 124}, {'entity': 'B-PER', 'score': 0.97434264, 'index': 123, 'word': 'Holmes', 'start': 453, 'end': 459}, {'entity': 'B-ORG', 'score': 0.5995941, 'index': 164, 'word': 'Times', 'start': 627, 'end': 632}, {'entity': 'B-PER', 'score': 0.838859, 'index': 362, 'word': 'Henry', 'start': 1524, 'end': 1529}]\n"
     ]
    }
   ],
   "source": [
    "nlp = pipeline(\"ner\", model=model, tokenizer=tokenizer)\n",
    "\n",
    "with open('translationout\\original4.txt', encoding=\"utf8\") as file:\n",
    "    data = file.read().rstrip()\n",
    "\n",
    "ner_results = nlp(data)\n",
    "print(ner_results)"
   ]
  },
  {
   "cell_type": "code",
   "execution_count": null,
   "metadata": {},
   "outputs": [],
   "source": []
  }
 ],
 "metadata": {
  "kernelspec": {
   "display_name": "Python 3.9.12 ('base')",
   "language": "python",
   "name": "python3"
  },
  "language_info": {
   "codemirror_mode": {
    "name": "ipython",
    "version": 3
   },
   "file_extension": ".py",
   "mimetype": "text/x-python",
   "name": "python",
   "nbconvert_exporter": "python",
   "pygments_lexer": "ipython3",
   "version": "3.9.12"
  },
  "orig_nbformat": 4,
  "vscode": {
   "interpreter": {
    "hash": "3b964ac9b30b36bbea2ffa1ada2bc35f19c0e363ef9f5256b2512afd4c34d440"
   }
  }
 },
 "nbformat": 4,
 "nbformat_minor": 2
}
