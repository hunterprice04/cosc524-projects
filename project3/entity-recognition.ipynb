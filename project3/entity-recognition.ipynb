{
 "cells": [
  {
   "cell_type": "markdown",
   "metadata": {},
   "source": [
    "---\n",
    "### Imports"
   ]
  },
  {
   "cell_type": "code",
   "execution_count": 11,
   "metadata": {},
   "outputs": [
    {
     "name": "stderr",
     "output_type": "stream",
     "text": [
      "[nltk_data] Downloading package punkt to\n",
      "[nltk_data]     C:\\Users\\zimin\\AppData\\Roaming\\nltk_data...\n",
      "[nltk_data]   Package punkt is already up-to-date!\n"
     ]
    }
   ],
   "source": [
    "# io\n",
    "import os\n",
    "import re\n",
    "\n",
    "# sentence tokenization\n",
    "import nltk\n",
    "from nltk.tokenize import sent_tokenize\n",
    "nltk.download('punkt')\n",
    "import spacy\n",
    "\n",
    "from transformers import AutoTokenizer, AutoModelForTokenClassification\n",
    "from transformers import pipeline\n",
    "\n",
    "tokenizer = AutoTokenizer.from_pretrained(\"dslim/bert-base-NER\")\n",
    "model = AutoModelForTokenClassification.from_pretrained(\"dslim/bert-base-NER\")\n",
    "\n",
    "tokenizerft = AutoTokenizer.from_pretrained('fine-tune-1.model')\n",
    "modelft = AutoModelForTokenClassification.from_pretrained('fine-tune-1.model')\n",
    "\n",
    "from pathlib import Path"
   ]
  },
  {
   "cell_type": "code",
   "execution_count": 12,
   "metadata": {},
   "outputs": [
    {
     "name": "stdout",
     "output_type": "stream",
     "text": [
      "[{'entity': 'B-PER', 'score': 0.9904226, 'index': 11, 'word': 'Charles', 'start': 40, 'end': 47}, {'entity': 'I-PER', 'score': 0.9969919, 'index': 12, 'word': 'Ba', 'start': 48, 'end': 50}, {'entity': 'I-PER', 'score': 0.81096476, 'index': 13, 'word': '##ske', 'start': 50, 'end': 53}, {'entity': 'I-PER', 'score': 0.9711075, 'index': 14, 'word': '##rville', 'start': 53, 'end': 59}, {'entity': 'B-LOC', 'score': 0.9669426, 'index': 34, 'word': 'Ba', 'start': 149, 'end': 151}, {'entity': 'I-LOC', 'score': 0.95067406, 'index': 35, 'word': '##ske', 'start': 151, 'end': 154}, {'entity': 'I-LOC', 'score': 0.9559299, 'index': 36, 'word': '##rville', 'start': 154, 'end': 160}, {'entity': 'I-LOC', 'score': 0.9899989, 'index': 37, 'word': 'Hall', 'start': 161, 'end': 165}, {'entity': 'B-PER', 'score': 0.9936348, 'index': 43, 'word': 'Barry', 'start': 188, 'end': 193}, {'entity': 'I-PER', 'score': 0.32042685, 'index': 44, 'word': '##more', 'start': 193, 'end': 197}, {'entity': 'B-PER', 'score': 0.99258184, 'index': 60, 'word': 'Charles', 'start': 261, 'end': 268}, {'entity': 'B-LOC', 'score': 0.99935967, 'index': 70, 'word': 'London', 'start': 321, 'end': 327}, {'entity': 'B-PER', 'score': 0.9987159, 'index': 75, 'word': 'Barry', 'start': 345, 'end': 350}, {'entity': 'I-PER', 'score': 0.50600463, 'index': 76, 'word': '##more', 'start': 350, 'end': 354}, {'entity': 'B-PER', 'score': 0.99817145, 'index': 119, 'word': 'Barry', 'start': 537, 'end': 542}, {'entity': 'I-PER', 'score': 0.755595, 'index': 120, 'word': '##more', 'start': 542, 'end': 546}, {'entity': 'B-PER', 'score': 0.8044649, 'index': 153, 'word': 'Charles', 'start': 684, 'end': 691}, {'entity': 'B-PER', 'score': 0.72716147, 'index': 189, 'word': 'Charles', 'start': 842, 'end': 849}, {'entity': 'B-PER', 'score': 0.99890697, 'index': 231, 'word': 'Barry', 'start': 1042, 'end': 1047}, {'entity': 'B-PER', 'score': 0.99435776, 'index': 271, 'word': 'Murphy', 'start': 1230, 'end': 1236}, {'entity': 'B-PER', 'score': 0.98012286, 'index': 336, 'word': 'Charles', 'start': 1520, 'end': 1527}, {'entity': 'B-PER', 'score': 0.9988098, 'index': 361, 'word': 'Mortimer', 'start': 1639, 'end': 1647}, {'entity': 'B-PER', 'score': 0.9916402, 'index': 469, 'word': 'Charles', 'start': 2127, 'end': 2134}]\n"
     ]
    }
   ],
   "source": [
    "nlp = pipeline(\"ner\", model=model, tokenizer=tokenizer)\n",
    "\n",
    "with open('part3-text\\inp1.txt', encoding=\"utf8\") as file:\n",
    "    data = file.read().rstrip()\n",
    "\n",
    "ner_results1 = nlp(data)\n",
    "print(ner_results1)"
   ]
  },
  {
   "cell_type": "markdown",
   "metadata": {},
   "source": [
    "#### Text1- Pre-Trained Note\n",
    "missed 6 B-PER (Sir) \n",
    "\n",
    "missed 1 I-PER(s)\n",
    "\n",
    "missed 1 I-LOC"
   ]
  },
  {
   "cell_type": "code",
   "execution_count": 13,
   "metadata": {},
   "outputs": [
    {
     "name": "stdout",
     "output_type": "stream",
     "text": [
      "[{'entity': 'I-PER', 'score': 0.80882734, 'index': 11, 'word': 'Charles', 'start': 40, 'end': 47}, {'entity': 'I-PER', 'score': 0.9976351, 'index': 12, 'word': 'Ba', 'start': 48, 'end': 50}, {'entity': 'I-PER', 'score': 0.9987477, 'index': 13, 'word': '##ske', 'start': 50, 'end': 53}, {'entity': 'I-PER', 'score': 0.9989503, 'index': 14, 'word': '##rville', 'start': 53, 'end': 59}, {'entity': 'B-LOC', 'score': 0.98833895, 'index': 34, 'word': 'Ba', 'start': 149, 'end': 151}, {'entity': 'I-LOC', 'score': 0.98754615, 'index': 35, 'word': '##ske', 'start': 151, 'end': 154}, {'entity': 'I-LOC', 'score': 0.9808972, 'index': 36, 'word': '##rville', 'start': 154, 'end': 160}, {'entity': 'I-LOC', 'score': 0.97659385, 'index': 37, 'word': 'Hall', 'start': 161, 'end': 165}, {'entity': 'B-PER', 'score': 0.98293865, 'index': 43, 'word': 'Barry', 'start': 188, 'end': 193}, {'entity': 'I-PER', 'score': 0.97642744, 'index': 44, 'word': '##more', 'start': 193, 'end': 197}, {'entity': 'I-PER', 'score': 0.9486462, 'index': 45, 'word': '##s', 'start': 197, 'end': 198}, {'entity': 'I-PER', 'score': 0.5983781, 'index': 60, 'word': 'Charles', 'start': 261, 'end': 268}, {'entity': 'B-LOC', 'score': 0.9986518, 'index': 70, 'word': 'London', 'start': 321, 'end': 327}, {'entity': 'B-PER', 'score': 0.99891376, 'index': 75, 'word': 'Barry', 'start': 345, 'end': 350}, {'entity': 'I-PER', 'score': 0.9972052, 'index': 76, 'word': '##more', 'start': 350, 'end': 354}, {'entity': 'B-PER', 'score': 0.9989178, 'index': 119, 'word': 'Barry', 'start': 537, 'end': 542}, {'entity': 'I-PER', 'score': 0.9988317, 'index': 120, 'word': '##more', 'start': 542, 'end': 546}, {'entity': 'B-PER', 'score': 0.96521944, 'index': 152, 'word': 'Sir', 'start': 680, 'end': 683}, {'entity': 'I-PER', 'score': 0.9703627, 'index': 153, 'word': 'Charles', 'start': 684, 'end': 691}, {'entity': 'B-PER', 'score': 0.84070975, 'index': 188, 'word': 'Sir', 'start': 838, 'end': 841}, {'entity': 'I-PER', 'score': 0.9641017, 'index': 189, 'word': 'Charles', 'start': 842, 'end': 849}, {'entity': 'B-PER', 'score': 0.9985752, 'index': 231, 'word': 'Barry', 'start': 1042, 'end': 1047}, {'entity': 'I-PER', 'score': 0.9976041, 'index': 232, 'word': '##more', 'start': 1047, 'end': 1051}, {'entity': 'B-PER', 'score': 0.9935674, 'index': 271, 'word': 'Murphy', 'start': 1230, 'end': 1236}, {'entity': 'I-PER', 'score': 0.90933263, 'index': 336, 'word': 'Charles', 'start': 1520, 'end': 1527}, {'entity': 'I-PER', 'score': 0.52101785, 'index': 360, 'word': '.', 'start': 1637, 'end': 1638}, {'entity': 'B-PER', 'score': 0.7363435, 'index': 361, 'word': 'Mortimer', 'start': 1639, 'end': 1647}, {'entity': 'B-PER', 'score': 0.9864652, 'index': 469, 'word': 'Charles', 'start': 2127, 'end': 2134}]\n"
     ]
    }
   ],
   "source": [
    "nlp = pipeline(\"ner\", model=modelft, tokenizer=tokenizerft)\n",
    "\n",
    "with open('part3-text\\inp1.txt', encoding=\"utf8\") as file:\n",
    "    data = file.read().rstrip()\n",
    "\n",
    "ner_resultsft1 = nlp(data)\n",
    "print(ner_resultsft1)"
   ]
  },
  {
   "cell_type": "markdown",
   "metadata": {},
   "source": [
    "#### Text1- Fine-Tune Note\n",
    "0 missed\n",
    "\n",
    "1 over defined '.'"
   ]
  },
  {
   "cell_type": "code",
   "execution_count": 14,
   "metadata": {},
   "outputs": [
    {
     "name": "stdout",
     "output_type": "stream",
     "text": [
      "[{'entity': 'B-PER', 'score': 0.9773221, 'index': 15, 'word': 'Charles', 'start': 68, 'end': 75}, {'entity': 'B-PER', 'score': 0.99882895, 'index': 42, 'word': 'Laura', 'start': 198, 'end': 203}, {'entity': 'I-PER', 'score': 0.95019466, 'index': 43, 'word': 'Lyons', 'start': 204, 'end': 209}, {'entity': 'B-PER', 'score': 0.9662144, 'index': 95, 'word': 'Charles', 'start': 472, 'end': 479}, {'entity': 'B-LOC', 'score': 0.7240541, 'index': 101, 'word': 'Hall', 'start': 503, 'end': 507}, {'entity': 'B-PER', 'score': 0.9893662, 'index': 108, 'word': 'Mortimer', 'start': 529, 'end': 537}, {'entity': 'B-PER', 'score': 0.8415131, 'index': 141, 'word': 'Lyons', 'start': 691, 'end': 696}, {'entity': 'B-LOC', 'score': 0.99947554, 'index': 165, 'word': 'London', 'start': 806, 'end': 812}, {'entity': 'B-LOC', 'score': 0.8902264, 'index': 200, 'word': 'Co', 'start': 955, 'end': 957}, {'entity': 'I-LOC', 'score': 0.61494106, 'index': 201, 'word': '##omb', 'start': 957, 'end': 960}, {'entity': 'I-LOC', 'score': 0.7706542, 'index': 202, 'word': '##e', 'start': 960, 'end': 961}, {'entity': 'I-LOC', 'score': 0.9328937, 'index': 203, 'word': 'Trace', 'start': 962, 'end': 967}, {'entity': 'I-LOC', 'score': 0.87123555, 'index': 204, 'word': '##y', 'start': 967, 'end': 968}, {'entity': 'B-PER', 'score': 0.78662163, 'index': 404, 'word': 'Mortimer', 'start': 1848, 'end': 1856}]\n"
     ]
    }
   ],
   "source": [
    "nlp = pipeline(\"ner\", model=model, tokenizer=tokenizer)\n",
    "\n",
    "with open('part3-text\\inp2.txt', encoding=\"utf8\") as file:\n",
    "    data = file.read().rstrip()\n",
    "\n",
    "ner_results2 = nlp(data)\n",
    "print(ner_results2)"
   ]
  },
  {
   "cell_type": "markdown",
   "metadata": {},
   "source": [
    "#### Text2- General Note\n",
    "missed 2 B-PER (Sir)\n",
    "\n",
    "missed 1 B-PER (Ms)\n",
    "\n",
    "missed 1 B-PER (Dr)\n",
    "\n",
    "wrong B-LOC (Tray)\n",
    "\n",
    "miss 1 person Grimpen Mire"
   ]
  },
  {
   "cell_type": "code",
   "execution_count": 15,
   "metadata": {},
   "outputs": [
    {
     "name": "stdout",
     "output_type": "stream",
     "text": [
      "[{'entity': 'B-PER', 'score': 0.9838209, 'index': 14, 'word': 'Sir', 'start': 64, 'end': 67}, {'entity': 'I-PER', 'score': 0.9504054, 'index': 15, 'word': 'Charles', 'start': 68, 'end': 75}, {'entity': 'B-PER', 'score': 0.9959059, 'index': 42, 'word': 'Laura', 'start': 198, 'end': 203}, {'entity': 'I-PER', 'score': 0.98699355, 'index': 43, 'word': 'Lyons', 'start': 204, 'end': 209}, {'entity': 'B-PER', 'score': 0.98642457, 'index': 94, 'word': 'Sir', 'start': 468, 'end': 471}, {'entity': 'I-PER', 'score': 0.97645205, 'index': 95, 'word': 'Charles', 'start': 472, 'end': 479}, {'entity': 'B-LOC', 'score': 0.84190017, 'index': 101, 'word': 'Hall', 'start': 503, 'end': 507}, {'entity': 'B-PER', 'score': 0.9120838, 'index': 108, 'word': 'Mortimer', 'start': 529, 'end': 537}, {'entity': 'I-PER', 'score': 0.9241377, 'index': 141, 'word': 'Lyons', 'start': 691, 'end': 696}, {'entity': 'B-LOC', 'score': 0.9981345, 'index': 165, 'word': 'London', 'start': 806, 'end': 812}, {'entity': 'B-LOC', 'score': 0.82834584, 'index': 200, 'word': 'Co', 'start': 955, 'end': 957}, {'entity': 'I-LOC', 'score': 0.8575238, 'index': 201, 'word': '##omb', 'start': 957, 'end': 960}, {'entity': 'I-LOC', 'score': 0.83522314, 'index': 202, 'word': '##e', 'start': 960, 'end': 961}, {'entity': 'I-LOC', 'score': 0.908881, 'index': 203, 'word': 'Trace', 'start': 962, 'end': 967}, {'entity': 'I-LOC', 'score': 0.8735004, 'index': 204, 'word': '##y', 'start': 967, 'end': 968}, {'entity': 'B-PER', 'score': 0.95798993, 'index': 404, 'word': 'Mortimer', 'start': 1848, 'end': 1856}, {'entity': 'B-PER', 'score': 0.5577852, 'index': 420, 'word': 'G', 'start': 1919, 'end': 1920}, {'entity': 'B-PER', 'score': 0.70294005, 'index': 423, 'word': 'Mir', 'start': 1927, 'end': 1930}]\n"
     ]
    }
   ],
   "source": [
    "nlp = pipeline(\"ner\", model=modelft, tokenizer=tokenizerft)\n",
    "\n",
    "with open('part3-text\\inp2.txt', encoding=\"utf8\") as file:\n",
    "    data = file.read().rstrip()\n",
    "\n",
    "ner_resultsft2 = nlp(data)\n",
    "print(ner_resultsft2)"
   ]
  },
  {
   "cell_type": "markdown",
   "metadata": {},
   "source": [
    "#### Text2- Finetune Note\n",
    "miss 1 B-PER (Ms)\n",
    "\n",
    "miss 1 B-PER (Dr)"
   ]
  },
  {
   "cell_type": "code",
   "execution_count": 16,
   "metadata": {},
   "outputs": [
    {
     "name": "stdout",
     "output_type": "stream",
     "text": [
      "[{'entity': 'B-PER', 'score': 0.7444037, 'index': 33, 'word': 'G', 'start': 106, 'end': 107}, {'entity': 'B-PER', 'score': 0.9939908, 'index': 38, 'word': 'Holmes', 'start': 117, 'end': 123}, {'entity': 'B-PER', 'score': 0.9766201, 'index': 123, 'word': 'Holmes', 'start': 449, 'end': 455}, {'entity': 'B-ORG', 'score': 0.99171704, 'index': 163, 'word': 'Times', 'start': 621, 'end': 626}, {'entity': 'B-PER', 'score': 0.8583821, 'index': 360, 'word': 'Henry', 'start': 1517, 'end': 1522}]\n"
     ]
    }
   ],
   "source": [
    "nlp = pipeline(\"ner\", model=model, tokenizer=tokenizer)\n",
    "\n",
    "with open('part3-text\\inp3.txt', encoding=\"utf8\") as file:\n",
    "    data = file.read().rstrip()\n",
    "\n",
    "ner_results3 = nlp(data)\n",
    "print(ner_results3)"
   ]
  },
  {
   "cell_type": "markdown",
   "metadata": {},
   "source": [
    "#### Text3- General Note\n",
    "Wrong PER Gum\n",
    "\n",
    "Wrong ORG Times"
   ]
  },
  {
   "cell_type": "code",
   "execution_count": 17,
   "metadata": {},
   "outputs": [
    {
     "name": "stdout",
     "output_type": "stream",
     "text": [
      "[{'entity': 'B-PER', 'score': 0.9944133, 'index': 33, 'word': 'G', 'start': 106, 'end': 107}, {'entity': 'I-PER', 'score': 0.99660766, 'index': 34, 'word': '##um', 'start': 107, 'end': 109}, {'entity': 'B-PER', 'score': 0.99072534, 'index': 38, 'word': 'Holmes', 'start': 117, 'end': 123}, {'entity': 'I-PER', 'score': 0.6842734, 'index': 122, 'word': '.', 'start': 447, 'end': 448}, {'entity': 'I-PER', 'score': 0.52328116, 'index': 123, 'word': 'Holmes', 'start': 449, 'end': 455}, {'entity': 'B-ORG', 'score': 0.99456173, 'index': 163, 'word': 'Times', 'start': 621, 'end': 626}, {'entity': 'B-PER', 'score': 0.4957672, 'index': 359, 'word': 'Sir', 'start': 1513, 'end': 1516}, {'entity': 'I-PER', 'score': 0.9333937, 'index': 360, 'word': 'Henry', 'start': 1517, 'end': 1522}]\n"
     ]
    }
   ],
   "source": [
    "nlp = pipeline(\"ner\", model=modelft, tokenizer=tokenizerft)\n",
    "\n",
    "with open('part3-text\\inp3.txt', encoding=\"utf8\") as file:\n",
    "    data = file.read().rstrip()\n",
    "\n",
    "ner_resultsft3 = nlp(data)\n",
    "print(ner_resultsft3)"
   ]
  },
  {
   "cell_type": "markdown",
   "metadata": {},
   "source": [
    "#### Text3- Fine-Tune Note\n",
    "Wrong PER Gum"
   ]
  },
  {
   "cell_type": "code",
   "execution_count": 18,
   "metadata": {},
   "outputs": [
    {
     "name": "stdout",
     "output_type": "stream",
     "text": [
      "[{'entity': 'B-PER', 'score': 0.9874149, 'index': 10, 'word': 'Charles', 'start': 51, 'end': 58}, {'entity': 'B-PER', 'score': 0.9429564, 'index': 73, 'word': 'Charles', 'start': 346, 'end': 353}, {'entity': 'B-LOC', 'score': 0.9593769, 'index': 118, 'word': 'Ba', 'start': 553, 'end': 555}, {'entity': 'I-LOC', 'score': 0.9171128, 'index': 119, 'word': '##ske', 'start': 555, 'end': 558}, {'entity': 'I-LOC', 'score': 0.9398096, 'index': 120, 'word': '##rville', 'start': 558, 'end': 564}, {'entity': 'I-LOC', 'score': 0.97154903, 'index': 121, 'word': 'Hall', 'start': 565, 'end': 569}, {'entity': 'B-PER', 'score': 0.998195, 'index': 128, 'word': 'Barry', 'start': 606, 'end': 611}, {'entity': 'I-PER', 'score': 0.6597681, 'index': 129, 'word': '##more', 'start': 611, 'end': 615}, {'entity': 'B-PER', 'score': 0.9645058, 'index': 160, 'word': 'Charles', 'start': 755, 'end': 762}, {'entity': 'B-PER', 'score': 0.99969804, 'index': 201, 'word': 'James', 'start': 961, 'end': 966}, {'entity': 'I-PER', 'score': 0.9993124, 'index': 202, 'word': 'Mortimer', 'start': 967, 'end': 975}]\n"
     ]
    }
   ],
   "source": [
    "nlp = pipeline(\"ner\", model=model, tokenizer=tokenizer)\n",
    "\n",
    "with open('part3-text\\inp4.txt', encoding=\"utf8\") as file:\n",
    "    data = file.read().rstrip()\n",
    "\n",
    "ner_results4 = nlp(data)\n",
    "print(ner_results4)"
   ]
  },
  {
   "cell_type": "markdown",
   "metadata": {},
   "source": [
    "#### Text4- General Note\n",
    "\n",
    "Missed 3 B-PER (Sir)\n",
    "\n",
    "Missed 1 B-PER (Dr)"
   ]
  },
  {
   "cell_type": "code",
   "execution_count": 19,
   "metadata": {},
   "outputs": [
    {
     "name": "stdout",
     "output_type": "stream",
     "text": [
      "[{'entity': 'B-PER', 'score': 0.60250056, 'index': 10, 'word': 'Charles', 'start': 51, 'end': 58}, {'entity': 'B-PER', 'score': 0.7361928, 'index': 72, 'word': 'Sir', 'start': 342, 'end': 345}, {'entity': 'I-PER', 'score': 0.88309586, 'index': 73, 'word': 'Charles', 'start': 346, 'end': 353}, {'entity': 'B-LOC', 'score': 0.8702874, 'index': 118, 'word': 'Ba', 'start': 553, 'end': 555}, {'entity': 'I-LOC', 'score': 0.9568813, 'index': 119, 'word': '##ske', 'start': 555, 'end': 558}, {'entity': 'I-LOC', 'score': 0.88947695, 'index': 120, 'word': '##rville', 'start': 558, 'end': 564}, {'entity': 'I-LOC', 'score': 0.82277167, 'index': 121, 'word': 'Hall', 'start': 565, 'end': 569}, {'entity': 'B-PER', 'score': 0.9982248, 'index': 128, 'word': 'Barry', 'start': 606, 'end': 611}, {'entity': 'I-PER', 'score': 0.9962599, 'index': 129, 'word': '##more', 'start': 611, 'end': 615}, {'entity': 'B-PER', 'score': 0.8977669, 'index': 159, 'word': 'Sir', 'start': 751, 'end': 754}, {'entity': 'I-PER', 'score': 0.96802586, 'index': 160, 'word': 'Charles', 'start': 755, 'end': 762}, {'entity': 'B-PER', 'score': 0.9993299, 'index': 201, 'word': 'James', 'start': 961, 'end': 966}, {'entity': 'I-PER', 'score': 0.9989808, 'index': 202, 'word': 'Mortimer', 'start': 967, 'end': 975}]\n"
     ]
    }
   ],
   "source": [
    "nlp = pipeline(\"ner\", model=modelft, tokenizer=tokenizerft)\n",
    "\n",
    "with open('part3-text\\inp4.txt', encoding=\"utf8\") as file:\n",
    "    data = file.read().rstrip()\n",
    "\n",
    "ner_resultsft4 = nlp(data)\n",
    "print(ner_resultsft4)"
   ]
  },
  {
   "cell_type": "markdown",
   "metadata": {},
   "source": [
    "#### Text4- Fine-Tune Note\n",
    "Missed 1 B-PER (Sir)\n"
   ]
  },
  {
   "cell_type": "code",
   "execution_count": 1,
   "metadata": {},
   "outputs": [
    {
     "data": {
      "image/png": "[encoded data removed]",
      "text/plain": [
       "<Figure size 640x480 with 1 Axes>"
      ]
     },
     "metadata": {},
     "output_type": "display_data"
    }
   ],
   "source": [
    "import os\n",
    "import pandas as pd\n",
    "\n",
    "import matplotlib.pyplot as plt      \n",
    "\n",
    "data = {'Section':[1,2,3,4],\n",
    "       'Pre-trained':[4.5,3.5,2,2],\n",
    "       'Fine-tuned':[0.5,1,1,0.5]}\n",
    "\n",
    "data = pd.DataFrame(data)\n",
    "\n",
    "\n",
    "data.set_index('Section')           \n",
    "\n",
    "plt.bar(data.index, data['Pre-trained'], width=0.2, color='r', label='Pre-trained')                \n",
    "plt.bar(data.index+0.2, data['Fine-tuned'], width=0.2, color ='b', label='Fine-tuned')             \n",
    "plt.xticks(data.index+0.2, data.index)                                               \n",
    "plt.ylim(0, 5)                                                                                                                                   \n",
    "plt.legend()   \n",
    "plt.xlabel('Text Sections')\n",
    "plt.ylabel('Total missed score')\n",
    "\n",
    "plt.show()"
   ]
  }
 ],
 "metadata": {
  "kernelspec": {
   "display_name": "Python 3.9.12 ('base')",
   "language": "python",
   "name": "python3"
  },
  "language_info": {
   "codemirror_mode": {
    "name": "ipython",
    "version": 3
   },
   "file_extension": ".py",
   "mimetype": "text/x-python",
   "name": "python",
   "nbconvert_exporter": "python",
   "pygments_lexer": "ipython3",
   "version": "3.9.13"
  },
  "orig_nbformat": 4,
  "vscode": {
   "interpreter": {
    "hash": "3b964ac9b30b36bbea2ffa1ada2bc35f19c0e363ef9f5256b2512afd4c34d440"
   }
  }
 },
 "nbformat": 4,
 "nbformat_minor": 2
}
