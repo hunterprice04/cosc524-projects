{
 "cells": [
  {
   "cell_type": "code",
   "execution_count": 41,
   "metadata": {},
   "outputs": [],
   "source": [
    "import spacy\n",
    "nlp = spacy.load('en_core_web_sm')\n",
    "\n",
    "def get_passage(location) -> list:\n",
    "    # reads the file and returns a list of sentences\n",
    "    with open(location, 'r', encoding='utf8') as f:\n",
    "        passage = f.read()\n",
    "        passage = passage.replace('\\n', ' ')\n",
    "        passage = passage.replace('    ', ' ')\n",
    "        passage = passage.replace('    ', ' ')\n",
    "        passage = nlp(passage)\n",
    "\n",
    "    #split the file into a list of sentences using spacy\n",
    "    sentences = list(passage.sents)\n",
    "\n",
    "    return sentences"
   ]
  },
  {
   "cell_type": "code",
   "execution_count": 42,
   "metadata": {},
   "outputs": [],
   "source": [
    "path = \"text/\"\n",
    "passages = [\"protagonist-first-paragraph.txt\", \"antagonist.txt\", \"crimescene.txt\", \"resolution.txt\", \"evidence.txt\"]\n",
    "\n",
    "sentences = []\n",
    "\n",
    "for passage in passages:\n",
    "    sentences.append(get_passage(path + passage))\n",
    "\n"
   ]
  },
  {
   "cell_type": "code",
   "execution_count": 43,
   "metadata": {},
   "outputs": [],
   "source": [
    "from transformers import M2M100ForConditionalGeneration, M2M100Tokenizer\n",
    "\n",
    "model = M2M100ForConditionalGeneration.from_pretrained(\"facebook/m2m100_418M\")\n",
    "tokenizer = M2M100Tokenizer.from_pretrained(\"facebook/m2m100_418M\")\n",
    "\n",
    "def translate(text, src, target):\n",
    "    tokenizer.src_lang = src\n",
    "    encoded_hi = tokenizer(text, return_tensors=\"pt\")\n",
    "    generated_tokens = model.generate(**encoded_hi, forced_bos_token_id=tokenizer.get_lang_id(target))\n",
    "    return tokenizer.batch_decode(generated_tokens, skip_special_tokens=True)\n",
    "\n",
    "\n",
    "# print(translate(\"Hello, my dog is cute\", \"en\", \"es\"))\n",
    "translated_sp = []\n",
    "translated_sw = []\n",
    "for passage in sentences:\n",
    "    translated_sp.append([])\n",
    "    translated_sw.append([])\n",
    "    for sentence in passage:\n",
    "        translated_sp[-1].append(translate(translate(sentence.text, \"en\", \"es\"), \"es\", \"en\")) #translate from english to spanish and then spanish to english\n",
    "        translated_sw[-1].append(translate(translate(sentence.text, \"en\", \"sw\"), \"sw\", \"en\")) #translate from english to swahili and then swahili to english\n"
   ]
  },
  {
   "cell_type": "code",
   "execution_count": 44,
   "metadata": {},
   "outputs": [],
   "source": [
    "#save both the original and translated sentences to a file in translationout\n",
    "# with open(\"translationout/original.txt\", \"w\", encoding=\"utf8\") as f:\n",
    "#     for i in range(len(translated)):\n",
    "#         f.write(sentences[i].text + \"\\n\")\n",
    "\n",
    "# with open(\"translationout/translated.txt\", \"w\", encoding=\"utf8\") as f:\n",
    "#     for i in range(len(translated)):\n",
    "#         f.write(translated[i][0] + \"\\n\")\n",
    "\n",
    "for i in range(len(translated_sp)): #store original\n",
    "    with open(\"translationout/original\" + str(i) + \".txt\", \"w\", encoding=\"utf8\") as f:\n",
    "        for j in range(len(translated_sp[i])):\n",
    "            f.write(sentences[i][j].text + \"\\n\")\n",
    "\n",
    "for i in range(len(translated_sp)): #store spanish\n",
    "    with open(\"translationout/translated_sp_\" + i, \"w\", encoding=\"utf8\") as f:\n",
    "        for j in range(len(translated_sp[i])):\n",
    "            f.write(translated_sp[i][j][0] + \"\\n\")\n",
    "\n",
    "for i in range(len(translated_sw)): #store swahili\n",
    "    with open(\"translationout/translated_sw_\" + i, \"w\", encoding=\"utf8\") as f:\n",
    "        for j in range(len(translated_sw[i])):\n",
    "            f.write(translated_sw[i][j][0] + \"\\n\")"
   ]
  }
 ],
 "metadata": {
  "kernelspec": {
   "display_name": "Python 3.10.8 64-bit (microsoft store)",
   "language": "python",
   "name": "python3"
  },
  "language_info": {
   "codemirror_mode": {
    "name": "ipython",
    "version": 3
   },
   "file_extension": ".py",
   "mimetype": "text/x-python",
   "name": "python",
   "nbconvert_exporter": "python",
   "pygments_lexer": "ipython3",
   "version": "3.10.8"
  },
  "orig_nbformat": 4,
  "vscode": {
   "interpreter": {
    "hash": "d6ee315cee4c7ea33837fad28cb74c1019330b7ecb83deb883c903e2f99639fe"
   }
  }
 },
 "nbformat": 4,
 "nbformat_minor": 2
}
