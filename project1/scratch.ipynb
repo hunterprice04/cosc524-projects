{
 "cells": [
  {
   "cell_type": "code",
   "execution_count": 1,
   "metadata": {
    "collapsed": false,
    "pycharm": {
     "name": "#%%\n"
    }
   },
   "outputs": [],
   "source": [
    "%load_ext autoreload\n",
    "%autoreload 2"
   ]
  },
  {
   "cell_type": "code",
   "execution_count": 2,
   "metadata": {
    "collapsed": false,
    "pycharm": {
     "name": "#%%\n"
    }
   },
   "outputs": [],
   "source": [
    "import re\n",
    "import os\n",
    "from lib import get_stop_words, get_text, get_lem_words\n",
    "from multiprocessing import Pool\n",
    "from itertools import repeat, chain\n",
    "import pickle"
   ]
  },
  {
   "cell_type": "code",
   "execution_count": 3,
   "metadata": {
    "collapsed": false,
    "pycharm": {
     "name": "#%%\n"
    }
   },
   "outputs": [],
   "source": [
    "NUM_PROCESSES = 20"
   ]
  },
  {
   "cell_type": "code",
   "execution_count": 106,
   "metadata": {
    "collapsed": false,
    "pycharm": {
     "name": "#%%\n"
    }
   },
   "outputs": [],
   "source": [
    "# project gutenberg text has a lot of extra stuff at the beginning and end\n",
    "def get_text_no_gutenberg(raw_text):\n",
    "    return re.split('^\\*\\*\\*(.*)\\*\\*\\*$', raw_text, flags=re.MULTILINE)[2]\n",
    "    \n",
    "def remove_single_letter(text):\n",
    "    text = re.sub(r'\\b\\w\\b', ' ', text)\n",
    "    return text\n",
    "\n",
    "# split the raw text into chapters\n",
    "def split_chapters(text, roman_numeral=True):\n",
    "    if roman_numeral:\n",
    "        return re.split(r'(^\\s?CHAPTER [IVXLCDM]+.*$)', text, flags=re.IGNORECASE | re.MULTILINE | re.ASCII)\n",
    "    else:\n",
    "        return re.split(r'(^\\s?CHAPTER \\d+.*$)', text, flags=re.IGNORECASE | re.MULTILINE | re.ASCII)\n",
    "\n",
    "# sometimes the contents lists chapters that are in table of contents. here we just remove chapters that are too short.\n",
    "# here we also delete the first chapter, which is just the table of contents and preface\n",
    "def chapter_longer_than(raw_chapters, n=150):\n",
    "    return list(filter(lambda c: len(c) > n, raw_chapters))\n",
    "\n",
    "# split remove stopwords\n",
    "def remove_stopwords(text, stopwords):\n",
    "    return re.sub(r'\\b(' + '|'.join(stopwords) + r')\\b', '', text)\n",
    "\n",
    "def expand_contractions(text):\n",
    "    flags = re.MULTILINE | re.IGNORECASE | re.ASCII\n",
    "    text = re.sub(r'’', \"'\", text, flags=flags)\n",
    "    text = re.sub(r\"won\\'t\", r\"will not\", text, flags=flags)\n",
    "    text = re.sub(r\"can\\'t\", r\"cannot\", text, flags=flags)\n",
    "    text = re.sub(r\"i\\'m\", r\"i am\", text, flags=flags)\n",
    "    text = re.sub(r\"ain\\'t\", r\"is not\", text, flags=flags)\n",
    "    text = re.sub(r\"(\\w+)'ll\", r\"\\g<1> will\", text, flags=flags)\n",
    "    text = re.sub(r\"(\\w+)n't\", '\\g<1> not', text, flags=flags)\n",
    "    text = re.sub(r\"(\\w+)\\'ve\", r\"\\g<1> have\", text, flags=flags)\n",
    "    text = re.sub(r\"(\\w+)\\'s\", r\"\\g<1> is\", text, flags=flags)\n",
    "    text = re.sub(r\"(\\w+)\\'re\", r\"\\g<1> are\", text, flags=flags)\n",
    "    text = re.sub(r\"(\\w+)\\'d\", r\"\\g<1> would\", text, flags=flags)\n",
    "    return text\n",
    "\n",
    "# theres a ton of whitespace that we dont want\n",
    "def remove_extra_spaces(text):\n",
    "    text = re.sub(r'\\t', ' ', text)\n",
    "    text = re.sub(r'\\s+', ' ', text)\n",
    "    return text\n",
    "\n",
    "def replace_common_dots(text):\n",
    "    text =  re.sub(r'dr\\.', 'dr ', text)\n",
    "    text =  re.sub(r'mr\\. ', 'mr ', text)\n",
    "    return text\n",
    "\n",
    "def compress_abbr(text):\n",
    "    pattern = r'\\b(?:[a-zA-Z]\\.){2,}\\b.*?'\n",
    "    matches = re.finditer(pattern, text, re.MULTILINE | re.IGNORECASE)\n",
    "    abbr = set(map(lambda m: m.group(), matches))\n",
    "    for a in abbr:\n",
    "        text = text.replace(a, a.replace('.', ''))\n",
    "    return text\n",
    "\n",
    "def get_lem(fn):\n",
    "    lem = {}\n",
    "    lem_regex = []\n",
    "    with open(fn, 'r', encoding='utf-8-sig') as f:\n",
    "        for i in f:\n",
    "            text = [j for j in i.lower().split()]\n",
    "            if text[0] not in lem:\n",
    "                lem[text[0]] = [text[1]]\n",
    "            else:\n",
    "                lem[text[0]].append(text[1])\n",
    "    for word, lemmas in lem.items():\n",
    "        lem_regex.append([word, fr'\\b({\"|\".join(lemmas)})\\b'])\n",
    "    return lem_regex\n",
    "def remove_punctuation(text):\n",
    "    text = re.sub(r'[^\\w\\s]', lambda m: \".\" if m.group(0) == \".\" else \" \", text)\n",
    "    return text\n",
    "\n",
    "def split_sentences(text):\n",
    "    return re.split(r\"[.]\", text)\n",
    "\n",
    "def lemmatization(text, lem):\n",
    "    for lemma, lem_regex in lem:\n",
    "        text = re.sub(lem_regex, lemma, text)\n",
    "    return text\n",
    "\n",
    "def trim(text):\n",
    "    for i in range(len(text)):\n",
    "        text[i] = text[i].strip()\n",
    "    return text"
   ]
  },
  {
   "cell_type": "code",
   "execution_count": 107,
   "metadata": {
    "pycharm": {
     "name": "#%%\n"
    }
   },
   "outputs": [],
   "source": [
    "books = [\n",
    "    {\n",
    "        'fn': 'a-study-in-scarlet.txt',\n",
    "        'roman_numeral': True,\n",
    "        'remove_first_chapter': True,\n",
    "    },\n",
    "    {\n",
    "        'fn': 'the-valley-of-fear.txt',\n",
    "        'roman_numeral': False,\n",
    "        'remove_first_chapter': True\n",
    "    },\n",
    "    {\n",
    "        'fn': 'the-hound-of-the-baskervilles.txt',\n",
    "        'roman_numeral': False,\n",
    "        'remove_first_chapter': True,\n",
    "    },\n",
    "    {\n",
    "        'fn':  'the-mystery-of-cloomber.txt',\n",
    "        'roman_numeral': True,\n",
    "        'remove_first_chapter': True,\n",
    "    },\n",
    "    {\n",
    "        'fn': 'the-sign-of-four.txt',\n",
    "        'roman_numeral': True,\n",
    "        'remove_first_chapter': True,\n",
    "    },\n",
    "]"
   ]
  },
  {
   "cell_type": "code",
   "execution_count": 124,
   "metadata": {
    "collapsed": false,
    "pycharm": {
     "name": "#%%\n"
    }
   },
   "outputs": [],
   "source": [
    "basedir = '../books/'\n",
    "stop_words = get_stop_words('stopwords.txt')\n",
    "lem = get_lem('lemmatization-en.txt')\n",
    "book_i = 2\n",
    "book_fn = books[book_i]['fn']\n",
    "book_rom_num = books[book_i]['roman_numeral']\n",
    "remove_first_chapter = books[book_i]['remove_first_chapter']\n",
    "\n",
    "\n",
    "def clean_by_chapter(raw_chapter, stop_words, lem):\n",
    "    raw_chapter = remove_extra_spaces(raw_chapter)\n",
    "\n",
    "    raw_chapter = expand_contractions(raw_chapter)\n",
    "    raw_chapter = remove_extra_spaces(raw_chapter)\n",
    "\n",
    "    raw_chapter = replace_common_dots(raw_chapter)\n",
    "    raw_chapter = remove_extra_spaces(raw_chapter)\n",
    "\n",
    "    raw_chapter = compress_abbr(raw_chapter)\n",
    "    raw_chapter = remove_extra_spaces(raw_chapter)\n",
    "\n",
    "    raw_chapter = remove_punctuation(raw_chapter)\n",
    "    raw_chapter = remove_extra_spaces(raw_chapter)\n",
    "\n",
    "    raw_chapter = remove_stopwords(raw_chapter, stop_words)\n",
    "    raw_chapter = remove_extra_spaces(raw_chapter)\n",
    "\n",
    "    raw_chapter = lemmatization(raw_chapter, lem)\n",
    "    raw_chapter = remove_extra_spaces(raw_chapter)\n",
    "    return raw_chapter\n",
    "\n",
    "\n",
    "def clean_all_text(book_fn, base_dir, stop_words, lem, book_rom_num, remove_first_chapter):\n",
    "\n",
    "    # get the raw text and make it all lower case\n",
    "    raw_text = get_text(book_fn, base_dir)\n",
    "    raw_text = raw_text.lower()\n",
    "    raw_text = get_text_no_gutenberg(raw_text)\n",
    "\n",
    "    # split into chapters so we can parallelize all of the text operations\n",
    "    raw_chapters = split_chapters(raw_text, book_rom_num)\n",
    "\n",
    "    # keep only the chapter's texts and none of the preface and content info\n",
    "    longer_than_n = list(map(lambda c: len(c) > 100, raw_chapters))\n",
    "    longer_than_n[0] = longer_than_n[0] if not remove_first_chapter else False\n",
    "    chapt_start = next(i for i,v in enumerate(longer_than_n) if v)\n",
    "    raw_chapters = raw_chapters[chapt_start::2]\n",
    "\n",
    "    # map the cleaning operations onto each chapter\n",
    "    with Pool(NUM_PROCESSES) as pool:\n",
    "        raw_chapters = pool.starmap(clean_by_chapter, zip(raw_chapters, repeat(stop_words), repeat(lem)))\n",
    "\n",
    "    # split each chapter into sentences\n",
    "    def sentence_helper(text):\n",
    "        s = split_sentences(text)\n",
    "        s = trim(s)\n",
    "        s = list(filter(lambda x: x != '', s))\n",
    "        return s\n",
    "    raw_chapter_sentences = list(map(sentence_helper, raw_chapters))\n",
    "\n",
    "    # rejoin the sentences from the cleaned chapter sentences so we can remove empty sentences\n",
    "    raw_chapters = list(map(lambda x: '. '.join(x), raw_chapter_sentences))\n",
    "    raw_chapters = list(map(remove_extra_spaces, raw_chapters))\n",
    "\n",
    "    # rejoin the clean text by joining all of the chapters sentences\n",
    "    raw_text = '. '.join(chain(*raw_chapter_sentences))\n",
    "    raw_text = remove_extra_spaces(raw_text)\n",
    "\n",
    "    # here we are seperating each sentence by new line and appending the chapter and sentence number to the beginning of each sentence\n",
    "    marked_text = ''\n",
    "    for i in range(len(raw_chapter_sentences)):\n",
    "        for j in range(len(raw_chapter_sentences[i])):\n",
    "            marked_text += f'((({i};;;{j}))) {raw_chapter_sentences[i][j]}\\n'\n",
    "    return raw_text, raw_chapters, raw_chapter_sentences, marked_text\n",
    "\n"
   ]
  },
  {
   "cell_type": "code",
   "execution_count": 125,
   "outputs": [],
   "source": [
    "book_i = 0\n",
    "book_fn = books[book_i]['fn']\n",
    "book_rom_num = books[book_i]['roman_numeral']\n",
    "remove_first_chapter = books[book_i]['remove_first_chapter']\n",
    "raw_text, raw_chapters, raw_chapter_sentences, marked_text = clean_all_text(book_fn, basedir, stop_words, lem, book_rom_num, remove_first_chapter)\n"
   ],
   "metadata": {
    "collapsed": false,
    "pycharm": {
     "name": "#%%\n"
    }
   }
  },
  {
   "cell_type": "code",
   "execution_count": 126,
   "metadata": {
    "collapsed": false,
    "pycharm": {
     "name": "#%%\n"
    }
   },
   "outputs": [],
   "source": [
    "# save the cleaned text\n",
    "def save_cleaned_text(book_fn, base_dir, raw_text, raw_chapters, raw_chapter_sentences, marked_text):\n",
    "    with open(os.path.join(base_dir, book_fn + '_cleaned.txt'), 'w', encoding='utf-8') as f:\n",
    "        f.write(raw_text)\n",
    "    with open(os.path.join(base_dir, book_fn + '_cleaned_chapters.pkl'), 'wb') as f:\n",
    "        pickle.dump(raw_chapters, f)\n",
    "    with open(os.path.join(base_dir, book_fn + '_cleaned_chapter_sentences.pkl'), 'wb') as f:\n",
    "        pickle.dump(raw_chapter_sentences, f)\n",
    "    with open(os.path.join(base_dir, book_fn + '_cleaned_marked.txt'), 'w', encoding='utf-8') as f:\n",
    "        f.write(marked_text)\n",
    "\n",
    "# read in the cleaned text\n",
    "def read_cleaned_text(book_fn, base_dir):\n",
    "    with open(os.path.join(base_dir, book_fn + '_cleaned.txt'), 'r', encoding='utf-8') as f:\n",
    "        raw_text = f.read()\n",
    "    with open(os.path.join(base_dir, book_fn + '_cleaned_chapters.pkl'), 'rb') as f:\n",
    "        raw_chapters = pickle.load(f)\n",
    "    with open(os.path.join(base_dir, book_fn + '_cleaned_chapter_sentences.pkl'), 'rb') as f:\n",
    "        raw_chapter_sentences = pickle.load(f)\n",
    "    with open(os.path.join(base_dir, book_fn + '_cleaned_marked.txt'), 'r', encoding='utf-8') as f:\n",
    "        marked_text = f.read()\n",
    "\n",
    "    return raw_text, raw_chapters, raw_chapter_sentences, marked_text"
   ]
  },
  {
   "cell_type": "code",
   "execution_count": 127,
   "metadata": {
    "collapsed": false,
    "pycharm": {
     "name": "#%%\n"
    }
   },
   "outputs": [
    {
     "name": "stdout",
     "output_type": "stream",
     "text": [
      "Cleaning a-study-in-scarlet.txt\n",
      "Saving a-study-in-scarlet.txt\n",
      "Cleaning the-valley-of-fear.txt\n",
      "Saving the-valley-of-fear.txt\n",
      "Cleaning the-hound-of-the-baskervilles.txt\n",
      "Saving the-hound-of-the-baskervilles.txt\n",
      "Cleaning the-mystery-of-cloomber.txt\n",
      "Saving the-mystery-of-cloomber.txt\n",
      "Cleaning the-sign-of-four.txt\n",
      "Saving the-sign-of-four.txt\n"
     ]
    }
   ],
   "source": [
    "# go through the process of cleaning the text then write out the cleaned text to files\n",
    "basedir = '../books/'\n",
    "stop_words = get_stop_words('stopwords.txt')\n",
    "lem = get_lem('lemmatization-en.txt')\n",
    "\n",
    "for book_i in range(len(books)):\n",
    "    book_fn = books[book_i]['fn']\n",
    "    book_rom_num = books[book_i]['roman_numeral']\n",
    "    remove_first_chapter = books[book_i]['remove_first_chapter']\n",
    "\n",
    "    print(f'Cleaning {book_fn}')\n",
    "    raw_text, raw_chapters, raw_chapter_sentences, marked_text = clean_all_text(book_fn, basedir, stop_words, lem, book_rom_num,remove_first_chapter)\n",
    "    print(f'Saving {book_fn}')\n",
    "    save_cleaned_text(book_fn, 'clean-data', raw_text, raw_chapters, raw_chapter_sentences, marked_text)\n"
   ]
  },
  {
   "cell_type": "code",
   "execution_count": 128,
   "metadata": {
    "collapsed": false,
    "pycharm": {
     "name": "#%%\n"
    }
   },
   "outputs": [],
   "source": [
    "# example of reading in cleaned text\n",
    "book_i = 1\n",
    "book_fn = books[book_i]['fn']\n",
    "raw_text, raw_chapters, raw_chapter_sentences, marked_text = read_cleaned_text(book_fn, 'clean-data')"
   ]
  },
  {
   "cell_type": "code",
   "execution_count": 129,
   "metadata": {
    "collapsed": false,
    "pycharm": {
     "name": "#%%\n"
    }
   },
   "outputs": [
    {
     "data": {
      "text/plain": "'incline think say. sherlock holmes remark impatiently. believe long suffer mortal admit annoy sardonic interruption. holmes say severely little try time. absorb thought immediate answer remonstrance. lean hand untasted breakfast stare slip paper draw envelope. take envelope hold light carefully study exterior flap. porlock write say thoughtfully. hardly doubt porlock write see twice. greek e peculiar flourish distinctive. porlock importance. speak vexation disappear interest word awaken. porlock ask. porlock watson nom de plume mere identification mark lie shifty evasive personality. letter frankly inform defy trace teem million great city. porlock important great man touch. picture pilot fish shark jackal lion insignificant companionship formidable formidable watson sinister high degree sinister. come purview. hear speak professor moriarty famous scientific criminal famous crook blush watson holmes murmur deprecate voice. unknown public. touch distinct touch cry holmes. develop certai'"
     },
     "execution_count": 129,
     "metadata": {},
     "output_type": "execute_result"
    }
   ],
   "source": [
    "raw_text[:1000]"
   ]
  },
  {
   "cell_type": "code",
   "execution_count": 130,
   "metadata": {
    "collapsed": false,
    "pycharm": {
     "name": "#%%\n"
    }
   },
   "outputs": [
    {
     "data": {
      "text/plain": "'incline think say. sherlock holmes remark impatiently. believe long suffer mortal admit annoy sardonic interruption. holmes say severely little try time. absorb thought immediate answer remonstrance. lean hand untasted breakfast stare slip paper draw envelope. take envelope hold light carefully study exterior flap. porlock write say thoughtfully. hardly doubt porlock write see twice. greek e peculiar flourish distinctive. porlock importance. speak vexation disappear interest word awaken. porlock ask. porlock watson nom de plume mere identification mark lie shifty evasive personality. letter frankly inform defy trace teem million great city. porlock important great man touch. picture pilot fish shark jackal lion insignificant companionship formidable formidable watson sinister high degree sinister. come purview. hear speak professor moriarty famous scientific criminal famous crook blush watson holmes murmur deprecate voice. unknown public. touch distinct touch cry holmes. develop certai'"
     },
     "execution_count": 130,
     "metadata": {},
     "output_type": "execute_result"
    }
   ],
   "source": [
    "raw_chapters[0][:1000]"
   ]
  },
  {
   "cell_type": "code",
   "execution_count": 131,
   "metadata": {
    "collapsed": false,
    "pycharm": {
     "name": "#%%\n"
    }
   },
   "outputs": [
    {
     "data": {
      "text/plain": "['incline think say',\n 'sherlock holmes remark impatiently',\n 'believe long suffer mortal admit annoy sardonic interruption',\n 'holmes say severely little try time',\n 'absorb thought immediate answer remonstrance',\n 'lean hand untasted breakfast stare slip paper draw envelope',\n 'take envelope hold light carefully study exterior flap',\n 'porlock write say thoughtfully',\n 'hardly doubt porlock write see twice',\n 'greek e peculiar flourish distinctive']"
     },
     "execution_count": 131,
     "metadata": {},
     "output_type": "execute_result"
    }
   ],
   "source": [
    "raw_chapter_sentences[0][:10]"
   ]
  },
  {
   "cell_type": "code",
   "execution_count": 132,
   "outputs": [
    {
     "data": {
      "text/plain": "'(((0;;;0))) incline think say\\n(((0;;;1))) sherlock holmes remark impatiently\\n(((0;;;2))) believe long suffer mortal admit annoy sardonic interruption\\n(((0;;;3))) holmes say severely little try time\\n(((0;;;4))) absorb thought immediate answer remonstrance\\n(((0;;;5))) lean hand untasted breakfast stare slip paper draw envelope\\n(((0;;;6))) take envelope hold light carefully study exterior flap\\n(((0;;;7))) porlock write say thoughtfully\\n(((0;;;8))) hardly doubt porlock write see twice\\n(((0;;;9))) greek e peculiar flourish distinctive\\n(((0;;;10))) porlock importance\\n(((0;;;11))) speak vexation disappear interest word awaken\\n(((0;;;12))) porlock ask\\n(((0;;;13))) porlock watson nom de plume mere identification mark lie shifty evasive personality\\n(((0;;;14))) letter frankly inform defy trace teem million great city\\n(((0;;;15))) porlock important great man touch\\n(((0;;;16))) picture pilot fish shark jackal lion insignificant companionship formidable formidable watson sinister high degree sinist'"
     },
     "execution_count": 132,
     "metadata": {},
     "output_type": "execute_result"
    }
   ],
   "source": [
    "marked_text[:1000]"
   ],
   "metadata": {
    "collapsed": false,
    "pycharm": {
     "name": "#%%\n"
    }
   }
  },
  {
   "cell_type": "code",
   "execution_count": 241,
   "outputs": [],
   "source": [
    "def get_matches(marked_text, word):\n",
    "    pattern = rf'^\\(\\(\\((\\d+;;;\\d+)\\)\\)\\).*?\\b({word})\\b.*?$'\n",
    "    matches = re.finditer(pattern, marked_text, re.MULTILINE | re.IGNORECASE)\n",
    "    return list(matches)\n",
    "def get_chapter_sentence(match):\n",
    "    chap,sent = match.group(1).split(';;;')\n",
    "    return int(chap), int(sent)\n",
    "def get_chapter_from_marked(marked_text, chapter_num):\n",
    "    pattern = rf'^\\(\\(\\({chapter_num};;;\\d+\\)\\)\\).*?$'\n",
    "    matches = re.finditer(pattern, marked_text, re.MULTILINE | re.IGNORECASE)\n",
    "    return '\\n'.join([match.group(0) for match in matches])\n",
    "def print_all_matches(matches):\n",
    "    for match in matches:\n",
    "        chap, sent = get_chapter_sentence(match)\n",
    "        print(f'Chapter {chap+1}, Sentence {sent+1}: {match.group(0).split(\"))) \")[1]}')"
   ],
   "metadata": {
    "collapsed": false,
    "pycharm": {
     "name": "#%%\n"
    }
   }
  },
  {
   "cell_type": "markdown",
   "source": [
    "---\n",
    "# A Study in Scarlet"
   ],
   "metadata": {
    "collapsed": false,
    "pycharm": {
     "name": "#%% md\n"
    }
   }
  },
  {
   "cell_type": "code",
   "execution_count": 179,
   "outputs": [],
   "source": [
    "book_i = 0\n",
    "book_fn = books[book_i]['fn']\n",
    "raw_text, raw_chapters, raw_chapter_sentences, marked_text = read_cleaned_text(book_fn, 'clean-data')\n"
   ],
   "metadata": {
    "collapsed": false,
    "pycharm": {
     "name": "#%%\n"
    }
   }
  },
  {
   "cell_type": "markdown",
   "source": [
    "## 1. When does the detective (or a pair) occur for the first time - chapter #, the sentence(s) # in a chapter"
   ],
   "metadata": {
    "collapsed": false,
    "pycharm": {
     "name": "#%% md\n"
    }
   }
  },
  {
   "cell_type": "code",
   "execution_count": 180,
   "outputs": [
    {
     "name": "stdout",
     "output_type": "stream",
     "text": [
      "first occurrence of sherlock in chapter 1 sentence 37\n",
      "\"know sherlock holmes say care constant companion\"\n",
      "---\n",
      "first occurrence of watson in chapter 1 sentence 23\n",
      "\"watson ask undisguised wonder rattle crowd london street\"\n"
     ]
    }
   ],
   "source": [
    "m = get_matches(marked_text, 'sherlock')[0]\n",
    "chap, sent = get_chapter_sentence(m)\n",
    "print(f'first occurrence of sherlock in chapter {chap+1} sentence {sent+1}')\n",
    "print(f'\"{m.group(0).split(\"))) \")[1]}\"')\n",
    "print('---')\n",
    "m = get_matches(marked_text, 'watson')[0]\n",
    "chap, sent = get_chapter_sentence(m)\n",
    "print(f'first occurrence of watson in chapter {chap+1} sentence {sent+1}')\n",
    "print(f'\"{m.group(0).split(\"))) \")[1]}\"')"
   ],
   "metadata": {
    "collapsed": false,
    "pycharm": {
     "name": "#%%\n"
    }
   }
  },
  {
   "cell_type": "markdown",
   "source": [
    "## 2. When is the crime first mentioned - the type of the crime and the details - chapter #, the sentence(s) # in a chapter\n"
   ],
   "metadata": {
    "collapsed": false,
    "pycharm": {
     "name": "#%% md\n"
    }
   }
  },
  {
   "cell_type": "code",
   "execution_count": 184,
   "outputs": [
    {
     "name": "stdout",
     "output_type": "stream",
     "text": [
      "crime detail rache chapter 3 sentence 183\n",
      "\"bare space scrawl blood red letter single word rache\"\n",
      "---\n",
      "crime detail victim poisoned around chapter 3 sentence 231\n",
      "\"poison say sherlock holmes curtly stride\"\n"
     ]
    }
   ],
   "source": [
    "m = get_matches(marked_text, 'rache')[0]\n",
    "chap, sent = get_chapter_sentence(m)\n",
    "print(f'crime detail rache chapter {chap+1} sentence {sent+1}')\n",
    "print(f'\"{m.group(0).split(\"))) \")[1]}\"')\n",
    "print('---')\n",
    "m = get_matches(marked_text, 'poison')[2]\n",
    "chap, sent = get_chapter_sentence(m)\n",
    "print(f'crime detail victim poisoned around chapter {chap+1} sentence {sent+1}')\n",
    "print(f'\"{m.group(0).split(\"))) \")[1]}\"')"
   ],
   "metadata": {
    "collapsed": false,
    "pycharm": {
     "name": "#%%\n"
    }
   }
  },
  {
   "cell_type": "markdown",
   "source": [
    "## 3. When is the perpetrator first mentioned - chapter #, the sentence(s) # in a chapter"
   ],
   "metadata": {
    "collapsed": false,
    "pycharm": {
     "name": "#%% md\n"
    }
   }
  },
  {
   "cell_type": "code",
   "execution_count": 170,
   "outputs": [
    {
     "name": "stdout",
     "output_type": "stream",
     "text": [
      "first occurrence of the name jefferson hope in chapter 7 sentence 170\n",
      "\"gentleman cry flash eye let introduce mr jefferson hope murderer enoch drebber joseph stangerson\"\n",
      "---\n",
      "first occurrence of foreshadowing jefferson hope in terms of cabman in chapter 4 sentence 39\n",
      "\"come man man house cabman drive man compel poison blood come object murderer robbery come woman ring 2 man write german word rache decamp confess possible way reconcile fact\"\n",
      "---\n",
      "first occurrence of the name jefferson hope in chapter 3 sentence 226\n",
      "\"come victim wheel cab draw horse old shoe new fore leg\"\n"
     ]
    }
   ],
   "source": [
    "\n",
    "m = get_matches(marked_text, 'jefferson hope')[0]\n",
    "chap, sent = get_chapter_sentence(m)\n",
    "print(f'first occurrence of the name jefferson hope in chapter {chap+1} sentence {sent+1}')\n",
    "print(f'\"{m.group(0).split(\"))) \")[1]}\"')\n",
    "print('---')\n",
    "m = get_matches(marked_text, 'cabman')[0]\n",
    "chap, sent = get_chapter_sentence(m)\n",
    "print(f'first occurrence of foreshadowing jefferson hope in terms of cabman in chapter {chap+1} sentence {sent+1}')\n",
    "print(f'\"{m.group(0).split(\"))) \")[1]}\"')\n",
    "print('---')\n",
    "m = get_matches(marked_text, 'cab')[2]\n",
    "chap, sent = get_chapter_sentence(m)\n",
    "print(f'first reference to jefferson hope as a cab driver (unknown to them) in chapter {chap+1} sentence {sent+1}')\n",
    "print(f'\"{m.group(0).split(\"))) \")[1]}\"')\n"
   ],
   "metadata": {
    "collapsed": false,
    "pycharm": {
     "name": "#%%\n"
    }
   }
  },
  {
   "cell_type": "markdown",
   "source": [
    "---\n",
    "# The Valley Of Fear"
   ],
   "metadata": {
    "collapsed": false,
    "pycharm": {
     "name": "#%% md\n"
    }
   }
  },
  {
   "cell_type": "code",
   "execution_count": 187,
   "outputs": [],
   "source": [
    "book_i = 1\n",
    "book_fn = books[book_i]['fn']\n",
    "raw_text, raw_chapters, raw_chapter_sentences, marked_text = read_cleaned_text(book_fn, 'clean-data')\n"
   ],
   "metadata": {
    "collapsed": false,
    "pycharm": {
     "name": "#%%\n"
    }
   }
  },
  {
   "cell_type": "markdown",
   "source": [
    "## 1. When does the detective (or a pair) occur for the first time - chapter #, the sentence(s) # in a chapter\n"
   ],
   "metadata": {
    "collapsed": false,
    "pycharm": {
     "name": "#%% md\n"
    }
   }
  },
  {
   "cell_type": "code",
   "execution_count": 188,
   "outputs": [
    {
     "name": "stdout",
     "output_type": "stream",
     "text": [
      "first occurrence of sherlock in chapter 1 sentence 2\n",
      "\"sherlock holmes remark impatiently\"\n",
      "---\n",
      "first occurrence of watson in chapter 1 sentence 14\n",
      "\"porlock watson nom de plume mere identification mark lie shifty evasive personality\"\n"
     ]
    }
   ],
   "source": [
    "m = get_matches(marked_text, 'sherlock')[0]\n",
    "chap, sent = get_chapter_sentence(m)\n",
    "print(f'first occurrence of sherlock in chapter {chap+1} sentence {sent+1}')\n",
    "print(f'\"{m.group(0).split(\"))) \")[1]}\"')\n",
    "print('---')\n",
    "m = get_matches(marked_text, 'watson')[0]\n",
    "chap, sent = get_chapter_sentence(m)\n",
    "print(f'first occurrence of watson in chapter {chap+1} sentence {sent+1}')\n",
    "print(f'\"{m.group(0).split(\"))) \")[1]}\"')"
   ],
   "metadata": {
    "collapsed": false,
    "pycharm": {
     "name": "#%%\n"
    }
   }
  },
  {
   "cell_type": "markdown",
   "source": [
    "## 2. When is the crime first mentioned - the type of the crime and the details - chapter #, the sentence(s) # in a chapter"
   ],
   "metadata": {
    "collapsed": false,
    "pycharm": {
     "name": "#%% md\n"
    }
   }
  },
  {
   "cell_type": "code",
   "execution_count": 199,
   "outputs": [
    {
     "name": "stdout",
     "output_type": "stream",
     "text": [
      "crime first mention of weapon chapter 2 sentence 179\n",
      "\"mention injury head discharge shotgun\"\n",
      "---\n",
      "crime first mention of murder chapter 1 sentence 184\n",
      "\"say mr douglas birlstone manor house horribly murder night\"\n",
      "---\n",
      "crime first mention of murder victim chapter 1 sentence 184\n",
      "\"say mr douglas birlstone manor house horribly murder night\"\n"
     ]
    }
   ],
   "source": [
    "m = get_matches(marked_text, 'shotgun')[0]\n",
    "chap, sent = get_chapter_sentence(m)\n",
    "print(f'crime first mention of weapon chapter {chap+1} sentence {sent+1}')\n",
    "print(f'\"{m.group(0).split(\"))) \")[1]}\"')\n",
    "print('---')\n",
    "m = get_matches(marked_text, 'murder')[0]\n",
    "chap, sent = get_chapter_sentence(m)\n",
    "print(f'crime first mention of murder chapter {chap+1} sentence {sent+1}')\n",
    "print(f'\"{m.group(0).split(\"))) \")[1]}\"')\n",
    "print('---')\n",
    "m = get_matches(marked_text, 'douglas')[5]\n",
    "chap, sent = get_chapter_sentence(m)\n",
    "print(f'crime first mention of murder victim chapter {chap+1} sentence {sent+1}')\n",
    "print(f'\"{m.group(0).split(\"))) \")[1]}\"')\n"
   ],
   "metadata": {
    "collapsed": false,
    "pycharm": {
     "name": "#%%\n"
    }
   }
  },
  {
   "cell_type": "markdown",
   "source": [
    "## 3. When is the perpetrator first mentioned - chapter #, the sentence(s) # in a chapter"
   ],
   "metadata": {
    "collapsed": false,
    "pycharm": {
     "name": "#%% md\n"
    }
   }
  },
  {
   "cell_type": "code",
   "execution_count": 205,
   "outputs": [
    {
     "name": "stdout",
     "output_type": "stream",
     "text": [
      "first mention of boss bodymaster mcginty chapter 5 sentence 235\n",
      "\"mcginty bodymaster mcginty\"\n",
      "---\n",
      "first mention of moriarty chapter 1 sentence 19\n",
      "\"hear speak professor moriarty famous scientific criminal famous crook blush watson holmes murmur deprecate voice\"\n"
     ]
    }
   ],
   "source": [
    "m = get_matches(marked_text, 'mcginty')[0]\n",
    "chap, sent = get_chapter_sentence(m)\n",
    "print(f'first mention of boss bodymaster mcginty chapter {chap+1} sentence {sent+1}')\n",
    "print(f'\"{m.group(0).split(\"))) \")[1]}\"')\n",
    "print('---')\n",
    "m = get_matches(marked_text, 'moriarty')[0]\n",
    "chap, sent = get_chapter_sentence(m)\n",
    "print(f'first mention of moriarty chapter {chap+1} sentence {sent+1}')\n",
    "print(f'\"{m.group(0).split(\"))) \")[1]}\"')"
   ],
   "metadata": {
    "collapsed": false,
    "pycharm": {
     "name": "#%%\n"
    }
   }
  },
  {
   "cell_type": "markdown",
   "source": [
    "---\n",
    "# The Hound of Baskersville"
   ],
   "metadata": {
    "collapsed": false,
    "pycharm": {
     "name": "#%% md\n"
    }
   }
  },
  {
   "cell_type": "code",
   "execution_count": 206,
   "outputs": [],
   "source": [
    "book_i = 2\n",
    "book_fn = books[book_i]['fn']\n",
    "raw_text, raw_chapters, raw_chapter_sentences, marked_text = read_cleaned_text(book_fn, 'clean-data')\n"
   ],
   "metadata": {
    "collapsed": false,
    "pycharm": {
     "name": "#%%\n"
    }
   }
  },
  {
   "cell_type": "markdown",
   "source": [
    "## 1. When does the detective (or a pair) occur for the first time - chapter #, the sentence(s) # in a chapter\n"
   ],
   "metadata": {
    "collapsed": false,
    "pycharm": {
     "name": "#%% md\n"
    }
   }
  },
  {
   "cell_type": "code",
   "execution_count": 207,
   "outputs": [
    {
     "name": "stdout",
     "output_type": "stream",
     "text": [
      "first occurrence of sherlock in chapter 1 sentence 1\n",
      "\"mr sherlock holmes mr sherlock holmes usually late morning save infrequent occasion night seat breakfast table\"\n",
      "---\n",
      "first occurrence of watson in chapter 1 sentence 9\n",
      "\"watson holmes sit give sign occupation\"\n"
     ]
    }
   ],
   "source": [
    "m = get_matches(marked_text, 'sherlock')[0]\n",
    "chap, sent = get_chapter_sentence(m)\n",
    "print(f'first occurrence of sherlock in chapter {chap+1} sentence {sent+1}')\n",
    "print(f'\"{m.group(0).split(\"))) \")[1]}\"')\n",
    "print('---')\n",
    "m = get_matches(marked_text, 'watson')[0]\n",
    "chap, sent = get_chapter_sentence(m)\n",
    "print(f'first occurrence of watson in chapter {chap+1} sentence {sent+1}')\n",
    "print(f'\"{m.group(0).split(\"))) \")[1]}\"')"
   ],
   "metadata": {
    "collapsed": false,
    "pycharm": {
     "name": "#%%\n"
    }
   }
  },
  {
   "cell_type": "markdown",
   "source": [
    "## 2. When is the crime first mentioned - the type of the crime and the details - chapter #, the sentence(s) # in a chapter\n"
   ],
   "metadata": {
    "collapsed": false,
    "pycharm": {
     "name": "#%% md\n"
    }
   }
  },
  {
   "cell_type": "code",
   "execution_count": 221,
   "outputs": [
    {
     "name": "stdout",
     "output_type": "stream",
     "text": [
      "first crime scene riping out hugo's throat chapter 2 sentence 60\n",
      "\"look thing tear throat hugo baskerville turn blaze eye drip jaw shriek fear ride dear life scream moor\"\n",
      "---\n",
      "first crime scene description of hound chapter 2 sentence 59\n",
      "\"sight body body hugo baskerville lie near raise hair head dare devil roysterers stand hugo pluck throat stand foul thing great black beast shape like hound large hound mortal eye rest\"\n"
     ]
    }
   ],
   "source": [
    "m = get_matches(marked_text, 'throat')[1]\n",
    "chap, sent = get_chapter_sentence(m)\n",
    "print(f'first crime scene riping out hugo\\'s throat chapter {chap+1} sentence {sent+1}')\n",
    "print(f'\"{m.group(0).split(\"))) \")[1]}\"')\n",
    "print('---')\n",
    "m = get_matches(marked_text, 'beast')[0]\n",
    "chap, sent = get_chapter_sentence(m)\n",
    "print(f'first crime scene description of hound chapter {chap+1} sentence {sent+1}')\n",
    "print(f'\"{m.group(0).split(\"))) \")[1]}\"')\n"
   ],
   "metadata": {
    "collapsed": false,
    "pycharm": {
     "name": "#%%\n"
    }
   }
  },
  {
   "cell_type": "markdown",
   "source": [
    "## 3. When is the perpetrator first mentioned - chapter #, the sentence(s) # in a chapter\n"
   ],
   "metadata": {
    "collapsed": false,
    "pycharm": {
     "name": "#%% md\n"
    }
   }
  },
  {
   "cell_type": "code",
   "execution_count": 222,
   "outputs": [
    {
     "name": "stdout",
     "output_type": "stream",
     "text": [
      "first mention of jack stapleton chapter 2 sentence 124\n",
      "\"exception mr frankland lafter hall mr stapleton naturalist man education mile\"\n",
      "---\n",
      "first mention of rodger baskerville (stapleton's real name) chapter 2 sentence 67\n",
      "\"hugo baskerville son rodger john instruction thereof sister elizabeth\"\n"
     ]
    }
   ],
   "source": [
    "m = get_matches(marked_text, 'stapleton')[0]\n",
    "chap, sent = get_chapter_sentence(m)\n",
    "print(f'first mention of jack stapleton chapter {chap+1} sentence {sent+1}')\n",
    "print(f'\"{m.group(0).split(\"))) \")[1]}\"')\n",
    "print('---')\n",
    "\n",
    "m = get_matches(marked_text, 'rodger')[0]\n",
    "chap, sent = get_chapter_sentence(m)\n",
    "print(f'first mention of rodger baskerville (stapleton\\'s real name) chapter {chap+1} sentence {sent+1}')\n",
    "print(f'\"{m.group(0).split(\"))) \")[1]}\"')\n"
   ],
   "metadata": {
    "collapsed": false,
    "pycharm": {
     "name": "#%%\n"
    }
   }
  },
  {
   "cell_type": "markdown",
   "source": [
    "---\n",
    "# The Mystery of Cloomber"
   ],
   "metadata": {
    "collapsed": false,
    "pycharm": {
     "name": "#%% md\n"
    }
   }
  },
  {
   "cell_type": "code",
   "execution_count": 223,
   "outputs": [],
   "source": [
    "book_i = 3\n",
    "book_fn = books[book_i]['fn']\n",
    "raw_text, raw_chapters, raw_chapter_sentences, marked_text = read_cleaned_text(book_fn, 'clean-data')\n"
   ],
   "metadata": {
    "collapsed": false,
    "pycharm": {
     "name": "#%%\n"
    }
   }
  },
  {
   "cell_type": "markdown",
   "source": [
    "## 1. When does the detective (or a pair) occur for the first time - chapter #, the sentence(s) # in a chapter"
   ],
   "metadata": {
    "collapsed": false,
    "pycharm": {
     "name": "#%% md\n"
    }
   }
  },
  {
   "cell_type": "code",
   "execution_count": 226,
   "outputs": [
    {
     "name": "stdout",
     "output_type": "stream",
     "text": [
      "first occurrence of john fothergill west in chapter 1 sentence 1\n",
      "\"hegira wests edinburgh john fothergill west student law university st\"\n"
     ]
    }
   ],
   "source": [
    "m = get_matches(marked_text, 'fothergill')[0]\n",
    "chap, sent = get_chapter_sentence(m)\n",
    "print(f'first occurrence of john fothergill west in chapter {chap+1} sentence {sent+1}')\n",
    "print(f'\"{m.group(0).split(\"))) \")[1]}\"')\n"
   ],
   "metadata": {
    "collapsed": false,
    "pycharm": {
     "name": "#%%\n"
    }
   }
  },
  {
   "cell_type": "markdown",
   "source": [
    "## 2. When is the crime first mentioned - the type of the crime and the details - chapter #, the sentence(s) # in a chapter\n"
   ],
   "metadata": {
    "collapsed": false,
    "pycharm": {
     "name": "#%% md\n"
    }
   }
  },
  {
   "cell_type": "code",
   "execution_count": null,
   "outputs": [],
   "source": [
    "# TODO: I cannot find any explicitly mentioned crimes in this dang book\n",
    "# m = get_matches(marked_text, 'Fothergill')[0]\n",
    "# chap, sent = get_chapter_sentence(m)\n",
    "# print(f'first occurrence of john fothergill west in chapter {chap+1} sentence {sent+1}')\n",
    "# print(f'\"{m.group(0).split(\"))) \")[1]}\"')"
   ],
   "metadata": {
    "collapsed": false,
    "pycharm": {
     "name": "#%%\n"
    }
   }
  },
  {
   "cell_type": "markdown",
   "source": [
    "## 3. When is the perpetrator first mentioned - chapter #, the sentence(s) # in a chapter\n"
   ],
   "metadata": {
    "collapsed": false,
    "pycharm": {
     "name": "#%% md\n"
    }
   }
  },
  {
   "cell_type": "code",
   "execution_count": 228,
   "outputs": [
    {
     "name": "stdout",
     "output_type": "stream",
     "text": [
      "first occurrence of john fothergill west in chapter 1 sentence 10\n",
      "\"heatherstone\"\n"
     ]
    }
   ],
   "source": [
    "m = get_matches(marked_text, 'heatherstone')[0]\n",
    "chap, sent = get_chapter_sentence(m)\n",
    "print(f'first occurrence of john fothergill west in chapter {chap+1} sentence {sent+1}')\n",
    "print(f'\"{m.group(0).split(\"))) \")[1]}\"')\n"
   ],
   "metadata": {
    "collapsed": false,
    "pycharm": {
     "name": "#%%\n"
    }
   }
  },
  {
   "cell_type": "markdown",
   "source": [
    "---\n",
    "# The Sign of Four"
   ],
   "metadata": {
    "collapsed": false,
    "pycharm": {
     "name": "#%% md\n"
    }
   }
  },
  {
   "cell_type": "code",
   "execution_count": 230,
   "outputs": [],
   "source": [
    "book_i = 4\n",
    "book_fn = books[book_i]['fn']\n",
    "raw_text, raw_chapters, raw_chapter_sentences, marked_text = read_cleaned_text(book_fn, 'clean-data')\n"
   ],
   "metadata": {
    "collapsed": false,
    "pycharm": {
     "name": "#%%\n"
    }
   }
  },
  {
   "cell_type": "markdown",
   "source": [
    "## 1. When does the detective (or a pair) occur for the first time - chapter #, the sentence(s) # in a chapter"
   ],
   "metadata": {
    "collapsed": false,
    "pycharm": {
     "name": "#%% md\n"
    }
   }
  },
  {
   "cell_type": "code",
   "execution_count": 231,
   "outputs": [
    {
     "name": "stdout",
     "output_type": "stream",
     "text": [
      "first occurrence of sherlock in chapter 1 sentence 1\n",
      "\"science deduction sherlock holmes take bottle corner mantel piece hypodermic syringe neat morocco case\"\n",
      "---\n",
      "first occurrence of watson in chapter 1 sentence 17\n",
      "\"right watson say\"\n"
     ]
    }
   ],
   "source": [
    "m = get_matches(marked_text, 'sherlock')[0]\n",
    "chap, sent = get_chapter_sentence(m)\n",
    "print(f'first occurrence of sherlock in chapter {chap+1} sentence {sent+1}')\n",
    "print(f'\"{m.group(0).split(\"))) \")[1]}\"')\n",
    "print('---')\n",
    "m = get_matches(marked_text, 'watson')[0]\n",
    "chap, sent = get_chapter_sentence(m)\n",
    "print(f'first occurrence of watson in chapter {chap+1} sentence {sent+1}')\n",
    "print(f'\"{m.group(0).split(\"))) \")[1]}\"')"
   ],
   "metadata": {
    "collapsed": false,
    "pycharm": {
     "name": "#%%\n"
    }
   }
  },
  {
   "cell_type": "markdown",
   "source": [
    "## 2. When is the crime first mentioned - the type of the crime and the details - chapter #, the sentence(s) # in a chapter"
   ],
   "metadata": {
    "collapsed": false,
    "pycharm": {
     "name": "#%% md\n"
    }
   }
  },
  {
   "cell_type": "code",
   "execution_count": 249,
   "outputs": [
    {
     "name": "stdout",
     "output_type": "stream",
     "text": [
      "reference to murder in chapter 5 sentence 136\n",
      "\"mean murder say stoop dead man\"\n",
      "---\n",
      "reference to murder weapon in chapter 5 sentence 136\n",
      "\"look point look like long dark thorn stick skin ear\"\n",
      "---\n",
      "reference to treasure that was then stolen in chapter 5 sentence 136\n",
      "\"rob treasure hole lower\"\n",
      "---\n",
      "reference to note left at murder scene in chapter 5 sentence 136\n",
      "\"tear sheet note paper word scrawl\"\n",
      "---\n"
     ]
    }
   ],
   "source": [
    "chapter_5 = get_chapter_from_marked(marked_text, 4)\n",
    "\n",
    "m = get_matches(marked_text, 'murder')[2]\n",
    "chap, sent = get_chapter_sentence(m)\n",
    "print(f'reference to murder in chapter {chap+1} sentence {sent+1}')\n",
    "print(f'\"{m.group(0).split(\"))) \")[1]}\"')\n",
    "print('---')\n",
    "m = get_matches(chapter_5, 'thorn')[0]\n",
    "print(f'reference to murder weapon in chapter {chap+1} sentence {sent+1}')\n",
    "print(f'\"{m.group(0).split(\"))) \")[1]}\"')\n",
    "print('---')\n",
    "m = get_matches(chapter_5, 'treasure')[2]\n",
    "print(f'reference to treasure that was then stolen in chapter {chap+1} sentence {sent+1}')\n",
    "print(f'\"{m.group(0).split(\"))) \")[1]}\"')\n",
    "print('---')\n",
    "m = get_matches(chapter_5, 'note')[0]\n",
    "print(f'reference to note left at murder scene in chapter {chap+1} sentence {sent+1}')\n",
    "print(f'\"{m.group(0).split(\"))) \")[1]}\"')\n"
   ],
   "metadata": {
    "collapsed": false,
    "pycharm": {
     "name": "#%%\n"
    }
   }
  },
  {
   "cell_type": "markdown",
   "source": [
    "## 3. When is the perpetrator first mentioned - chapter #, the sentence(s) # in a chapter\n"
   ],
   "metadata": {
    "collapsed": false,
    "pycharm": {
     "name": "#%% md\n"
    }
   }
  },
  {
   "cell_type": "code",
   "execution_count": 233,
   "outputs": [
    {
     "name": "stdout",
     "output_type": "stream",
     "text": [
      "first occurrence of jonathan small in chapter 3 sentence 42\n",
      "\"write rough coarse character sign jonathan small mahomet singh abdullah khan dost akbar\"\n",
      "---\n",
      "first occurrence of tonga in chapter 11 sentence 13\n",
      "\"little hell hound tonga shoot curse dart\"\n"
     ]
    }
   ],
   "source": [
    "m = get_matches(marked_text, 'jonathan')[0]\n",
    "chap, sent = get_chapter_sentence(m)\n",
    "print(f'first occurrence of jonathan small in chapter {chap+1} sentence {sent+1}')\n",
    "print(f'\"{m.group(0).split(\"))) \")[1]}\"')\n",
    "print('---')\n",
    "m = get_matches(marked_text, 'tonga')[0]\n",
    "chap, sent = get_chapter_sentence(m)\n",
    "print(f'first occurrence of tonga in chapter {chap+1} sentence {sent+1}')\n",
    "print(f'\"{m.group(0).split(\"))) \")[1]}\"')"
   ],
   "metadata": {
    "collapsed": false,
    "pycharm": {
     "name": "#%%\n"
    }
   }
  },
  {
   "cell_type": "markdown",
   "source": [
    "---\n",
    "# Analysis"
   ],
   "metadata": {
    "collapsed": false,
    "pycharm": {
     "name": "#%% md\n"
    }
   }
  },
  {
   "cell_type": "code",
   "execution_count": 242,
   "outputs": [
    {
     "data": {
      "text/plain": "<Figure size 432x288 with 1 Axes>",
      "image/png": "[encoded data removed]"
     },
     "metadata": {
      "needs_background": "light"
     },
     "output_type": "display_data"
    }
   ],
   "source": [
    "from groupings import *\n",
    "dict = count_occurences(find_groupings(raw_text, 'hope')) #a study in scarlet\n",
    "dict = count_occurences(find_groupings(raw_text, 'lupin')) #arsene lupin versus sherlock holmes\n",
    "dict = count_occurences(find_groupings(raw_text, 'stapleton')) #the hound of the baskervilles\n",
    "dict = count_occurences(find_groupings(raw_text, 'priest')) #mystery of cloomber\n",
    "dict = count_occurences(find_groupings(raw_text, 'small')) #the sign of four\n",
    "\n",
    "# print(dict)\n",
    "\n",
    "graph_occurences(dict)"
   ],
   "metadata": {
    "collapsed": false,
    "pycharm": {
     "name": "#%%\n"
    }
   }
  },
  {
   "cell_type": "markdown",
   "source": [
    "---\n",
    "# Archive"
   ],
   "metadata": {
    "collapsed": false,
    "pycharm": {
     "name": "#%% md\n"
    }
   }
  },
  {
   "cell_type": "code",
   "execution_count": null,
   "metadata": {
    "collapsed": false,
    "pycharm": {
     "name": "#%%\n"
    }
   },
   "outputs": [],
   "source": [
    "def porters_alg(text):\n",
    "    # https://vijinimallawaarachchi.com/2017/05/09/porter-stemming-algorithm/#:~:text=The%20Porter%20Stemming%20algorithm%20(or,of%20Information%20Retrieval%20(IR).\n",
    "    # https://tartarus.org/martin/PorterStemmer/\n",
    "    m = re.match(r'(\\w+?)(?=ly|es|(?<!s)s|y)', text)\n",
    "    print(m.groups())\n",
    "porters_alg('caresses days cates')"
   ]
  },
  {
   "cell_type": "code",
   "execution_count": null,
   "metadata": {
    "collapsed": false,
    "pycharm": {
     "name": "#%%\n"
    }
   },
   "outputs": [],
   "source": [
    "\n",
    "\n",
    "\n"
   ]
  },
  {
   "cell_type": "code",
   "execution_count": null,
   "metadata": {
    "collapsed": false,
    "pycharm": {
     "name": "#%%\n"
    }
   },
   "outputs": [],
   "source": [
    "raw_chapters[0]"
   ]
  },
  {
   "cell_type": "code",
   "execution_count": null,
   "metadata": {
    "collapsed": false,
    "pycharm": {
     "name": "#%%\n"
    }
   },
   "outputs": [],
   "source": [
    "raw_chapters[1]"
   ]
  },
  {
   "cell_type": "code",
   "execution_count": null,
   "metadata": {
    "collapsed": false,
    "pycharm": {
     "name": "#%%\n"
    }
   },
   "outputs": [],
   "source": [
    "list(filter(lambda c: len(c) > 50, raw_chapters))"
   ]
  },
  {
   "cell_type": "code",
   "execution_count": null,
   "metadata": {
    "collapsed": false,
    "pycharm": {
     "name": "#%%\n"
    }
   },
   "outputs": [],
   "source": [
    "from utils.regex_utils import *"
   ]
  },
  {
   "cell_type": "code",
   "execution_count": null,
   "metadata": {
    "collapsed": false,
    "pycharm": {
     "name": "#%%\n"
    }
   },
   "outputs": [],
   "source": [
    "textloc = \"books/a-study-in-scarlet.txt\"\n",
    "stopwordloc = 'project1\\stopwords.txt'\n",
    "text = GetTextFromFile(textloc)\n",
    "stopwords = GetStopWords(stopwordloc)\n",
    "clean_text = GetCleanText(text, stopwords)\n",
    "wordlist = GetUniqueWordList(clean_text)\n",
    "chapters = GetChapterTextList(text, stopwords)\n",
    "chapters_wordlist = GetChapterWordList(chapters)"
   ]
  },
  {
   "cell_type": "code",
   "execution_count": null,
   "metadata": {
    "collapsed": false,
    "pycharm": {
     "name": "#%%\n"
    }
   },
   "outputs": [],
   "source": [
    "textloc = \"books/a-study-in-scarlet.txt\"\n",
    "stopwordloc = 'project1\\stopwords.txt'\n",
    "text = GetTextFromFile(textloc)\n",
    "stopwords = GetStopWords(stopwordloc)\n",
    "clean_text = GetCleanText(text, stopwords)\n",
    "wordlist = GetUniqueWordList(clean_text)\n",
    "chapters = GetChapterTextList(text, stopwords)\n",
    "chapters_wordlist = GetChapterWordList(chapters)"
   ]
  },
  {
   "cell_type": "code",
   "execution_count": null,
   "metadata": {
    "collapsed": false,
    "pycharm": {
     "name": "#%%\n"
    }
   },
   "outputs": [],
   "source": [
    "import spacy\n",
    "nlp = spacy.load(\"en_core_web_sm\")"
   ]
  },
  {
   "cell_type": "code",
   "execution_count": null,
   "metadata": {
    "collapsed": false,
    "pycharm": {
     "name": "#%%\n"
    }
   },
   "outputs": [],
   "source": [
    "with open('stopwords.txt', 'w',encoding='utf-8') as f:\n",
    "    for w in nlp.Defaults.stop_words:\n",
    "        f.write(w + '\\n')\n"
   ]
  },
  {
   "cell_type": "code",
   "execution_count": null,
   "metadata": {
    "collapsed": false,
    "pycharm": {
     "name": "#%%\n"
    }
   },
   "outputs": [],
   "source": [
    "len(nlp.Defaults.stop_words)"
   ]
  },
  {
   "cell_type": "code",
   "execution_count": 8,
   "metadata": {
    "collapsed": false,
    "pycharm": {
     "name": "#%%\n"
    }
   },
   "outputs": [],
   "source": []
  },
  {
   "cell_type": "code",
   "execution_count": 9,
   "metadata": {
    "pycharm": {
     "name": "#%%\n"
    }
   },
   "outputs": [
    {
     "data": {
      "image/png": "[encoded data removed]",
      "text/plain": [
       "<Figure size 640x480 with 1 Axes>"
      ]
     },
     "metadata": {},
     "output_type": "display_data"
    }
   ],
   "source": [
    "\n"
   ]
  }
 ],
 "metadata": {
  "kernelspec": {
   "display_name": "Python 3.10.7 64-bit (microsoft store)",
   "language": "python",
   "name": "python3"
  },
  "language_info": {
   "codemirror_mode": {
    "name": "ipython",
    "version": 3
   },
   "file_extension": ".py",
   "mimetype": "text/x-python",
   "name": "python",
   "nbconvert_exporter": "python",
   "pygments_lexer": "ipython3",
   "version": "3.10.7"
  },
  "vscode": {
   "interpreter": {
    "hash": "d6ee315cee4c7ea33837fad28cb74c1019330b7ecb83deb883c903e2f99639fe"
   }
  }
 },
 "nbformat": 4,
 "nbformat_minor": 0
}