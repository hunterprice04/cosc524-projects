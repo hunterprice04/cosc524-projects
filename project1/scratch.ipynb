{
 "cells": [
  {
   "cell_type": "code",
   "execution_count": 1,
   "metadata": {
    "collapsed": false,
    "pycharm": {
     "name": "#%%\n"
    }
   },
   "outputs": [],
   "source": [
    "%load_ext autoreload\n",
    "%autoreload 2"
   ]
  },
  {
   "cell_type": "code",
   "execution_count": 2,
   "metadata": {
    "collapsed": false,
    "pycharm": {
     "name": "#%%\n"
    }
   },
   "outputs": [],
   "source": [
    "import re\n",
    "import os\n",
    "from lib import get_stop_words, get_text, get_lem_words\n",
    "from multiprocessing import Pool\n",
    "from itertools import repeat, chain\n",
    "import pickle"
   ]
  },
  {
   "cell_type": "code",
   "execution_count": 3,
   "metadata": {
    "collapsed": false,
    "pycharm": {
     "name": "#%%\n"
    }
   },
   "outputs": [],
   "source": [
    "NUM_PROCESSES = 20"
   ]
  },
  {
   "cell_type": "code",
   "execution_count": 4,
   "metadata": {
    "collapsed": false,
    "pycharm": {
     "name": "#%%\n"
    }
   },
   "outputs": [],
   "source": [
    "# project gutenberg text has a lot of extra stuff at the beginning and end\n",
    "def get_text_no_gutenberg(raw_text):\n",
    "    return re.split('^\\*\\*\\*(.*)\\*\\*\\*$', raw_text, flags=re.MULTILINE)[2]\n",
    "    \n",
    "def remove_single_letter(text):\n",
    "    text = re.sub(r'\\b\\w\\b', ' ', text)\n",
    "    return text\n",
    "\n",
    "# split the raw text into chapters\n",
    "def split_chapters(text, roman_numeral=True):\n",
    "    if roman_numeral:\n",
    "        return re.split(r'(^\\s?CHAPTER [IVXLCDM]+.*$)', text, flags=re.IGNORECASE | re.MULTILINE | re.ASCII)\n",
    "    else:\n",
    "        return re.split(r'(^\\s?CHAPTER \\d+.*$)', text, flags=re.IGNORECASE | re.MULTILINE | re.ASCII)\n",
    "\n",
    "# sometimes the contents lists chapters that are in table of contents. here we just remove chapters that are too short.\n",
    "# here we also delete the first chapter, which is just the table of contents and preface\n",
    "def chapter_longer_than(raw_chapters, n=150):\n",
    "    return list(filter(lambda c: len(c) > n, raw_chapters))\n",
    "\n",
    "# split remove stopwords\n",
    "def remove_stopwords(text, stopwords):\n",
    "    return re.sub(r'\\b(' + '|'.join(stopwords) + r')\\b', '', text)\n",
    "\n",
    "def expand_contractions(text):\n",
    "    flags = re.MULTILINE | re.IGNORECASE | re.ASCII\n",
    "    text = re.sub(r'’', \"'\", text, flags=flags)\n",
    "    text = re.sub(r\"won\\'t\", r\"will not\", text, flags=flags)\n",
    "    text = re.sub(r\"can\\'t\", r\"cannot\", text, flags=flags)\n",
    "    text = re.sub(r\"i\\'m\", r\"i am\", text, flags=flags)\n",
    "    text = re.sub(r\"ain\\'t\", r\"is not\", text, flags=flags)\n",
    "    text = re.sub(r\"(\\w+)'ll\", r\"\\g<1> will\", text, flags=flags)\n",
    "    text = re.sub(r\"(\\w+)n't\", '\\g<1> not', text, flags=flags)\n",
    "    text = re.sub(r\"(\\w+)\\'ve\", r\"\\g<1> have\", text, flags=flags)\n",
    "    text = re.sub(r\"(\\w+)\\'s\", r\"\\g<1> is\", text, flags=flags)\n",
    "    text = re.sub(r\"(\\w+)\\'re\", r\"\\g<1> are\", text, flags=flags)\n",
    "    text = re.sub(r\"(\\w+)\\'d\", r\"\\g<1> would\", text, flags=flags)\n",
    "    return text\n",
    "\n",
    "# theres a ton of whitespace that we dont want\n",
    "def remove_extra_spaces(text):\n",
    "    text = re.sub(r'\\t', ' ', text)\n",
    "    text = re.sub(r'\\s+', ' ', text)\n",
    "    return text\n",
    "\n",
    "def replace_common_dots(text):\n",
    "    text =  re.sub(r'dr\\.', 'dr ', text)\n",
    "    text =  re.sub(r'mr\\. ', 'mr ', text)\n",
    "    return text\n",
    "\n",
    "def compress_abbr(text):\n",
    "    pattern = r'\\b(?:[a-zA-Z]\\.){2,}\\b.*?'\n",
    "    matches = re.finditer(pattern, text, re.MULTILINE | re.IGNORECASE)\n",
    "    abbr = set(map(lambda m: m.group(), matches))\n",
    "    for a in abbr:\n",
    "        text = text.replace(a, a.replace('.', ''))\n",
    "    return text\n",
    "\n",
    "def get_lem(fn):\n",
    "    lem = {}\n",
    "    lem_regex = []\n",
    "    with open(fn, 'r', encoding='utf-8-sig') as f:\n",
    "        for i in f:\n",
    "            text = [j for j in i.lower().split()]\n",
    "            if text[0] not in lem:\n",
    "                lem[text[0]] = [text[1]]\n",
    "            else:\n",
    "                lem[text[0]].append(text[1])\n",
    "    for word, lemmas in lem.items():\n",
    "        lem_regex.append([word, fr'\\b({\"|\".join(lemmas)})\\b'])\n",
    "    return lem_regex\n",
    "def remove_punctuation(text):\n",
    "    text = re.sub(r'[^\\w\\s]', lambda m: \".\" if m.group(0) == \".\" else \" \", text)\n",
    "    return text\n",
    "\n",
    "def split_sentences(text):\n",
    "    return re.split(r\"[.]\", text)\n",
    "\n",
    "def lemmatization(text, lem):\n",
    "    for lemma, lem_regex in lem:\n",
    "        text = re.sub(lem_regex, lemma, text)\n",
    "    return text\n",
    "\n",
    "def trim(text):\n",
    "    for i in range(len(text)):\n",
    "        text[i] = text[i].strip()\n",
    "    return text"
   ]
  },
  {
   "cell_type": "code",
   "execution_count": 5,
   "metadata": {
    "pycharm": {
     "name": "#%%\n"
    }
   },
   "outputs": [],
   "source": [
    "books = [\n",
    "    {\n",
    "        'fn': 'a-study-in-scarlet.txt',\n",
    "        'roman_numeral': True,\n",
    "        'remove_first_chapter': True,\n",
    "    },\n",
    "    {\n",
    "        'fn': 'the-valley-of-fear.txt',\n",
    "        'roman_numeral': False,\n",
    "        'remove_first_chapter': True\n",
    "    },\n",
    "    {\n",
    "        'fn': 'the-hound-of-the-baskervilles.txt',\n",
    "        'roman_numeral': False,\n",
    "        'remove_first_chapter': True,\n",
    "    },\n",
    "    {\n",
    "        'fn':  'the-mystery-of-cloomber.txt',\n",
    "        'roman_numeral': True,\n",
    "        'remove_first_chapter': True,\n",
    "    },\n",
    "    {\n",
    "        'fn': 'the-sign-of-four.txt',\n",
    "        'roman_numeral': True,\n",
    "        'remove_first_chapter': True,\n",
    "    },\n",
    "]"
   ]
  },
  {
   "cell_type": "code",
   "execution_count": 6,
   "metadata": {
    "collapsed": false,
    "pycharm": {
     "name": "#%%\n"
    }
   },
   "outputs": [],
   "source": [
    "basedir = '../books/'\n",
    "stop_words = get_stop_words('stopwords.txt')\n",
    "lem = get_lem('lemmatization-en.txt')\n",
    "book_i = 2\n",
    "book_fn = books[book_i]['fn']\n",
    "book_rom_num = books[book_i]['roman_numeral']\n",
    "remove_first_chapter = books[book_i]['remove_first_chapter']\n",
    "\n",
    "\n",
    "def clean_by_chapter(raw_chapter, stop_words, lem):\n",
    "    raw_chapter = remove_extra_spaces(raw_chapter)\n",
    "\n",
    "    raw_chapter = expand_contractions(raw_chapter)\n",
    "    raw_chapter = remove_extra_spaces(raw_chapter)\n",
    "\n",
    "    raw_chapter = replace_common_dots(raw_chapter)\n",
    "    raw_chapter = remove_extra_spaces(raw_chapter)\n",
    "\n",
    "    raw_chapter = compress_abbr(raw_chapter)\n",
    "    raw_chapter = remove_extra_spaces(raw_chapter)\n",
    "\n",
    "    raw_chapter = remove_punctuation(raw_chapter)\n",
    "    raw_chapter = remove_extra_spaces(raw_chapter)\n",
    "\n",
    "    raw_chapter = remove_stopwords(raw_chapter, stop_words)\n",
    "    raw_chapter = remove_extra_spaces(raw_chapter)\n",
    "\n",
    "    raw_chapter = lemmatization(raw_chapter, lem)\n",
    "    raw_chapter = remove_extra_spaces(raw_chapter)\n",
    "    return raw_chapter\n",
    "\n",
    "\n",
    "def clean_all_text(book_fn, base_dir, stop_words, lem, book_rom_num, remove_first_chapter):\n",
    "\n",
    "    # get the raw text and make it all lower case\n",
    "    raw_text = get_text(book_fn, base_dir)\n",
    "    raw_text = raw_text.lower()\n",
    "    raw_text = get_text_no_gutenberg(raw_text)\n",
    "\n",
    "    # split into chapters so we can parallelize all of the text operations\n",
    "    raw_chapters = split_chapters(raw_text, book_rom_num)\n",
    "\n",
    "    # keep only the chapter's texts and none of the preface and content info\n",
    "    longer_than_n = list(map(lambda c: len(c) > 100, raw_chapters))\n",
    "    longer_than_n[0] = longer_than_n[0] if not remove_first_chapter else False\n",
    "    chapt_start = next(i for i,v in enumerate(longer_than_n) if v)\n",
    "    raw_chapters = raw_chapters[chapt_start::2]\n",
    "\n",
    "    # map the cleaning operations onto each chapter\n",
    "    with Pool(NUM_PROCESSES) as pool:\n",
    "        raw_chapters = pool.starmap(clean_by_chapter, zip(raw_chapters, repeat(stop_words), repeat(lem)))\n",
    "\n",
    "    # split each chapter into sentences\n",
    "    def sentence_helper(text):\n",
    "        s = split_sentences(text)\n",
    "        s = trim(s)\n",
    "        s = list(filter(lambda x: x != '', s))\n",
    "        return s\n",
    "    raw_chapter_sentences = list(map(sentence_helper, raw_chapters))\n",
    "\n",
    "    # rejoin the sentences from the cleaned chapter sentences so we can remove empty sentences\n",
    "    raw_chapters = list(map(lambda x: '. '.join(x), raw_chapter_sentences))\n",
    "    raw_chapters = list(map(remove_extra_spaces, raw_chapters))\n",
    "\n",
    "    # rejoin the clean text by joining all of the chapters sentences\n",
    "    raw_text = '. '.join(chain(*raw_chapter_sentences))\n",
    "    raw_text = remove_extra_spaces(raw_text)\n",
    "\n",
    "    # here we are seperating each sentence by new line and appending the chapter and sentence number to the beginning of each sentence\n",
    "    marked_text = ''\n",
    "    for i in range(len(raw_chapter_sentences)):\n",
    "        for j in range(len(raw_chapter_sentences[i])):\n",
    "            marked_text += f'((({i};;;{j}))) {raw_chapter_sentences[i][j]}\\n'\n",
    "    return raw_text, raw_chapters, raw_chapter_sentences, marked_text\n",
    "\n"
   ]
  },
  {
   "cell_type": "code",
   "execution_count": 125,
   "metadata": {
    "collapsed": false,
    "pycharm": {
     "name": "#%%\n"
    }
   },
   "outputs": [],
   "source": [
    "book_i = 0\n",
    "book_fn = books[book_i]['fn']\n",
    "book_rom_num = books[book_i]['roman_numeral']\n",
    "remove_first_chapter = books[book_i]['remove_first_chapter']\n",
    "raw_text, raw_chapters, raw_chapter_sentences, marked_text = clean_all_text(book_fn, basedir, stop_words, lem, book_rom_num, remove_first_chapter)\n"
   ]
  },
  {
   "cell_type": "code",
   "execution_count": 7,
   "metadata": {
    "collapsed": false,
    "pycharm": {
     "name": "#%%\n"
    }
   },
   "outputs": [],
   "source": [
    "# save the cleaned text\n",
    "def save_cleaned_text(book_fn, base_dir, raw_text, raw_chapters, raw_chapter_sentences, marked_text):\n",
    "    with open(os.path.join(base_dir, book_fn + '_cleaned.txt'), 'w', encoding='utf-8') as f:\n",
    "        f.write(raw_text)\n",
    "    with open(os.path.join(base_dir, book_fn + '_cleaned_chapters.pkl'), 'wb') as f:\n",
    "        pickle.dump(raw_chapters, f)\n",
    "    with open(os.path.join(base_dir, book_fn + '_cleaned_chapter_sentences.pkl'), 'wb') as f:\n",
    "        pickle.dump(raw_chapter_sentences, f)\n",
    "    with open(os.path.join(base_dir, book_fn + '_cleaned_marked.txt'), 'w', encoding='utf-8') as f:\n",
    "        f.write(marked_text)\n",
    "\n",
    "# read in the cleaned text\n",
    "def read_cleaned_text(book_fn, base_dir):\n",
    "    with open(os.path.join(base_dir, book_fn + '_cleaned.txt'), 'r', encoding='utf-8') as f:\n",
    "        raw_text = f.read()\n",
    "    with open(os.path.join(base_dir, book_fn + '_cleaned_chapters.pkl'), 'rb') as f:\n",
    "        raw_chapters = pickle.load(f)\n",
    "    with open(os.path.join(base_dir, book_fn + '_cleaned_chapter_sentences.pkl'), 'rb') as f:\n",
    "        raw_chapter_sentences = pickle.load(f)\n",
    "    with open(os.path.join(base_dir, book_fn + '_cleaned_marked.txt'), 'r', encoding='utf-8') as f:\n",
    "        marked_text = f.read()\n",
    "\n",
    "    return raw_text, raw_chapters, raw_chapter_sentences, marked_text"
   ]
  },
  {
   "cell_type": "code",
   "execution_count": 127,
   "metadata": {
    "collapsed": false,
    "pycharm": {
     "name": "#%%\n"
    }
   },
   "outputs": [
    {
     "name": "stdout",
     "output_type": "stream",
     "text": [
      "Cleaning a-study-in-scarlet.txt\n",
      "Saving a-study-in-scarlet.txt\n",
      "Cleaning the-valley-of-fear.txt\n",
      "Saving the-valley-of-fear.txt\n",
      "Cleaning the-hound-of-the-baskervilles.txt\n",
      "Saving the-hound-of-the-baskervilles.txt\n",
      "Cleaning the-mystery-of-cloomber.txt\n",
      "Saving the-mystery-of-cloomber.txt\n",
      "Cleaning the-sign-of-four.txt\n",
      "Saving the-sign-of-four.txt\n"
     ]
    }
   ],
   "source": [
    "# go through the process of cleaning the text then write out the cleaned text to files\n",
    "basedir = '../books/'\n",
    "stop_words = get_stop_words('stopwords.txt')\n",
    "lem = get_lem('lemmatization-en.txt')\n",
    "\n",
    "for book_i in range(len(books)):\n",
    "    book_fn = books[book_i]['fn']\n",
    "    book_rom_num = books[book_i]['roman_numeral']\n",
    "    remove_first_chapter = books[book_i]['remove_first_chapter']\n",
    "\n",
    "    print(f'Cleaning {book_fn}')\n",
    "    raw_text, raw_chapters, raw_chapter_sentences, marked_text = clean_all_text(book_fn, basedir, stop_words, lem, book_rom_num,remove_first_chapter)\n",
    "    print(f'Saving {book_fn}')\n",
    "    save_cleaned_text(book_fn, 'clean-data', raw_text, raw_chapters, raw_chapter_sentences, marked_text)\n"
   ]
  },
  {
   "cell_type": "code",
   "execution_count": 128,
   "metadata": {
    "collapsed": false,
    "pycharm": {
     "name": "#%%\n"
    }
   },
   "outputs": [],
   "source": [
    "# example of reading in cleaned text\n",
    "book_i = 1\n",
    "book_fn = books[book_i]['fn']\n",
    "raw_text, raw_chapters, raw_chapter_sentences, marked_text = read_cleaned_text(book_fn, 'clean-data')"
   ]
  },
  {
   "cell_type": "code",
   "execution_count": 129,
   "metadata": {
    "collapsed": false,
    "pycharm": {
     "name": "#%%\n"
    }
   },
   "outputs": [
    {
     "data": {
      "text/plain": [
       "'incline think say. sherlock holmes remark impatiently. believe long suffer mortal admit annoy sardonic interruption. holmes say severely little try time. absorb thought immediate answer remonstrance. lean hand untasted breakfast stare slip paper draw envelope. take envelope hold light carefully study exterior flap. porlock write say thoughtfully. hardly doubt porlock write see twice. greek e peculiar flourish distinctive. porlock importance. speak vexation disappear interest word awaken. porlock ask. porlock watson nom de plume mere identification mark lie shifty evasive personality. letter frankly inform defy trace teem million great city. porlock important great man touch. picture pilot fish shark jackal lion insignificant companionship formidable formidable watson sinister high degree sinister. come purview. hear speak professor moriarty famous scientific criminal famous crook blush watson holmes murmur deprecate voice. unknown public. touch distinct touch cry holmes. develop certai'"
      ]
     },
     "execution_count": 129,
     "metadata": {},
     "output_type": "execute_result"
    }
   ],
   "source": [
    "raw_text[:1000]"
   ]
  },
  {
   "cell_type": "code",
   "execution_count": 130,
   "metadata": {
    "collapsed": false,
    "pycharm": {
     "name": "#%%\n"
    }
   },
   "outputs": [
    {
     "data": {
      "text/plain": [
       "'incline think say. sherlock holmes remark impatiently. believe long suffer mortal admit annoy sardonic interruption. holmes say severely little try time. absorb thought immediate answer remonstrance. lean hand untasted breakfast stare slip paper draw envelope. take envelope hold light carefully study exterior flap. porlock write say thoughtfully. hardly doubt porlock write see twice. greek e peculiar flourish distinctive. porlock importance. speak vexation disappear interest word awaken. porlock ask. porlock watson nom de plume mere identification mark lie shifty evasive personality. letter frankly inform defy trace teem million great city. porlock important great man touch. picture pilot fish shark jackal lion insignificant companionship formidable formidable watson sinister high degree sinister. come purview. hear speak professor moriarty famous scientific criminal famous crook blush watson holmes murmur deprecate voice. unknown public. touch distinct touch cry holmes. develop certai'"
      ]
     },
     "execution_count": 130,
     "metadata": {},
     "output_type": "execute_result"
    }
   ],
   "source": [
    "raw_chapters[0][:1000]"
   ]
  },
  {
   "cell_type": "code",
   "execution_count": 131,
   "metadata": {
    "collapsed": false,
    "pycharm": {
     "name": "#%%\n"
    }
   },
   "outputs": [
    {
     "data": {
      "text/plain": [
       "['incline think say',\n",
       " 'sherlock holmes remark impatiently',\n",
       " 'believe long suffer mortal admit annoy sardonic interruption',\n",
       " 'holmes say severely little try time',\n",
       " 'absorb thought immediate answer remonstrance',\n",
       " 'lean hand untasted breakfast stare slip paper draw envelope',\n",
       " 'take envelope hold light carefully study exterior flap',\n",
       " 'porlock write say thoughtfully',\n",
       " 'hardly doubt porlock write see twice',\n",
       " 'greek e peculiar flourish distinctive']"
      ]
     },
     "execution_count": 131,
     "metadata": {},
     "output_type": "execute_result"
    }
   ],
   "source": [
    "raw_chapter_sentences[0][:10]"
   ]
  },
  {
   "cell_type": "code",
   "execution_count": 132,
   "metadata": {
    "collapsed": false,
    "pycharm": {
     "name": "#%%\n"
    }
   },
   "outputs": [
    {
     "data": {
      "text/plain": [
       "'(((0;;;0))) incline think say\\n(((0;;;1))) sherlock holmes remark impatiently\\n(((0;;;2))) believe long suffer mortal admit annoy sardonic interruption\\n(((0;;;3))) holmes say severely little try time\\n(((0;;;4))) absorb thought immediate answer remonstrance\\n(((0;;;5))) lean hand untasted breakfast stare slip paper draw envelope\\n(((0;;;6))) take envelope hold light carefully study exterior flap\\n(((0;;;7))) porlock write say thoughtfully\\n(((0;;;8))) hardly doubt porlock write see twice\\n(((0;;;9))) greek e peculiar flourish distinctive\\n(((0;;;10))) porlock importance\\n(((0;;;11))) speak vexation disappear interest word awaken\\n(((0;;;12))) porlock ask\\n(((0;;;13))) porlock watson nom de plume mere identification mark lie shifty evasive personality\\n(((0;;;14))) letter frankly inform defy trace teem million great city\\n(((0;;;15))) porlock important great man touch\\n(((0;;;16))) picture pilot fish shark jackal lion insignificant companionship formidable formidable watson sinister high degree sinist'"
      ]
     },
     "execution_count": 132,
     "metadata": {},
     "output_type": "execute_result"
    }
   ],
   "source": [
    "marked_text[:1000]"
   ]
  },
  {
   "cell_type": "code",
   "execution_count": 241,
   "metadata": {
    "collapsed": false,
    "pycharm": {
     "name": "#%%\n"
    }
   },
   "outputs": [],
   "source": [
    "def get_matches(marked_text, word):\n",
    "    pattern = rf'^\\(\\(\\((\\d+;;;\\d+)\\)\\)\\).*?\\b({word})\\b.*?$'\n",
    "    matches = re.finditer(pattern, marked_text, re.MULTILINE | re.IGNORECASE)\n",
    "    return list(matches)\n",
    "def get_chapter_sentence(match):\n",
    "    chap,sent = match.group(1).split(';;;')\n",
    "    return int(chap), int(sent)\n",
    "def get_chapter_from_marked(marked_text, chapter_num):\n",
    "    pattern = rf'^\\(\\(\\({chapter_num};;;\\d+\\)\\)\\).*?$'\n",
    "    matches = re.finditer(pattern, marked_text, re.MULTILINE | re.IGNORECASE)\n",
    "    return '\\n'.join([match.group(0) for match in matches])\n",
    "def print_all_matches(matches):\n",
    "    for match in matches:\n",
    "        chap, sent = get_chapter_sentence(match)\n",
    "        print(f'Chapter {chap+1}, Sentence {sent+1}: {match.group(0).split(\"))) \")[1]}')"
   ]
  },
  {
   "cell_type": "markdown",
   "metadata": {
    "collapsed": false,
    "pycharm": {
     "name": "#%% md\n"
    }
   },
   "source": [
    "---\n",
    "# A Study in Scarlet"
   ]
  },
  {
   "cell_type": "code",
   "execution_count": 179,
   "metadata": {
    "collapsed": false,
    "pycharm": {
     "name": "#%%\n"
    }
   },
   "outputs": [],
   "source": [
    "book_i = 0\n",
    "book_fn = books[book_i]['fn']\n",
    "raw_text, raw_chapters, raw_chapter_sentences, marked_text = read_cleaned_text(book_fn, 'clean-data')\n"
   ]
  },
  {
   "cell_type": "markdown",
   "metadata": {
    "collapsed": false,
    "pycharm": {
     "name": "#%% md\n"
    }
   },
   "source": [
    "## 1. When does the detective (or a pair) occur for the first time - chapter #, the sentence(s) # in a chapter"
   ]
  },
  {
   "cell_type": "code",
   "execution_count": 180,
   "metadata": {
    "collapsed": false,
    "pycharm": {
     "name": "#%%\n"
    }
   },
   "outputs": [
    {
     "name": "stdout",
     "output_type": "stream",
     "text": [
      "first occurrence of sherlock in chapter 1 sentence 37\n",
      "\"know sherlock holmes say care constant companion\"\n",
      "---\n",
      "first occurrence of watson in chapter 1 sentence 23\n",
      "\"watson ask undisguised wonder rattle crowd london street\"\n"
     ]
    }
   ],
   "source": [
    "m = get_matches(marked_text, 'sherlock')[0]\n",
    "chap, sent = get_chapter_sentence(m)\n",
    "print(f'first occurrence of sherlock in chapter {chap+1} sentence {sent+1}')\n",
    "print(f'\"{m.group(0).split(\"))) \")[1]}\"')\n",
    "print('---')\n",
    "m = get_matches(marked_text, 'watson')[0]\n",
    "chap, sent = get_chapter_sentence(m)\n",
    "print(f'first occurrence of watson in chapter {chap+1} sentence {sent+1}')\n",
    "print(f'\"{m.group(0).split(\"))) \")[1]}\"')"
   ]
  },
  {
   "cell_type": "markdown",
   "metadata": {
    "collapsed": false,
    "pycharm": {
     "name": "#%% md\n"
    }
   },
   "source": [
    "## 2. When is the crime first mentioned - the type of the crime and the details - chapter #, the sentence(s) # in a chapter\n"
   ]
  },
  {
   "cell_type": "code",
   "execution_count": 184,
   "metadata": {
    "collapsed": false,
    "pycharm": {
     "name": "#%%\n"
    }
   },
   "outputs": [
    {
     "name": "stdout",
     "output_type": "stream",
     "text": [
      "crime detail rache chapter 3 sentence 183\n",
      "\"bare space scrawl blood red letter single word rache\"\n",
      "---\n",
      "crime detail victim poisoned around chapter 3 sentence 231\n",
      "\"poison say sherlock holmes curtly stride\"\n"
     ]
    }
   ],
   "source": [
    "m = get_matches(marked_text, 'rache')[0]\n",
    "chap, sent = get_chapter_sentence(m)\n",
    "print(f'crime detail rache chapter {chap+1} sentence {sent+1}')\n",
    "print(f'\"{m.group(0).split(\"))) \")[1]}\"')\n",
    "print('---')\n",
    "m = get_matches(marked_text, 'poison')[2]\n",
    "chap, sent = get_chapter_sentence(m)\n",
    "print(f'crime detail victim poisoned around chapter {chap+1} sentence {sent+1}')\n",
    "print(f'\"{m.group(0).split(\"))) \")[1]}\"')"
   ]
  },
  {
   "cell_type": "markdown",
   "metadata": {
    "collapsed": false,
    "pycharm": {
     "name": "#%% md\n"
    }
   },
   "source": [
    "## 3. When is the perpetrator first mentioned - chapter #, the sentence(s) # in a chapter"
   ]
  },
  {
   "cell_type": "code",
   "execution_count": 170,
   "metadata": {
    "collapsed": false,
    "pycharm": {
     "name": "#%%\n"
    }
   },
   "outputs": [
    {
     "name": "stdout",
     "output_type": "stream",
     "text": [
      "first occurrence of the name jefferson hope in chapter 7 sentence 170\n",
      "\"gentleman cry flash eye let introduce mr jefferson hope murderer enoch drebber joseph stangerson\"\n",
      "---\n",
      "first occurrence of foreshadowing jefferson hope in terms of cabman in chapter 4 sentence 39\n",
      "\"come man man house cabman drive man compel poison blood come object murderer robbery come woman ring 2 man write german word rache decamp confess possible way reconcile fact\"\n",
      "---\n",
      "first occurrence of the name jefferson hope in chapter 3 sentence 226\n",
      "\"come victim wheel cab draw horse old shoe new fore leg\"\n"
     ]
    }
   ],
   "source": [
    "\n",
    "m = get_matches(marked_text, 'jefferson hope')[0]\n",
    "chap, sent = get_chapter_sentence(m)\n",
    "print(f'first occurrence of the name jefferson hope in chapter {chap+1} sentence {sent+1}')\n",
    "print(f'\"{m.group(0).split(\"))) \")[1]}\"')\n",
    "print('---')\n",
    "m = get_matches(marked_text, 'cabman')[0]\n",
    "chap, sent = get_chapter_sentence(m)\n",
    "print(f'first occurrence of foreshadowing jefferson hope in terms of cabman in chapter {chap+1} sentence {sent+1}')\n",
    "print(f'\"{m.group(0).split(\"))) \")[1]}\"')\n",
    "print('---')\n",
    "m = get_matches(marked_text, 'cab')[2]\n",
    "chap, sent = get_chapter_sentence(m)\n",
    "print(f'first reference to jefferson hope as a cab driver (unknown to them) in chapter {chap+1} sentence {sent+1}')\n",
    "print(f'\"{m.group(0).split(\"))) \")[1]}\"')\n"
   ]
  },
  {
   "cell_type": "markdown",
   "metadata": {
    "collapsed": false,
    "pycharm": {
     "name": "#%% md\n"
    }
   },
   "source": [
    "---\n",
    "# The Valley Of Fear"
   ]
  },
  {
   "cell_type": "code",
   "execution_count": 187,
   "metadata": {
    "collapsed": false,
    "pycharm": {
     "name": "#%%\n"
    }
   },
   "outputs": [],
   "source": [
    "book_i = 1\n",
    "book_fn = books[book_i]['fn']\n",
    "raw_text, raw_chapters, raw_chapter_sentences, marked_text = read_cleaned_text(book_fn, 'clean-data')\n"
   ]
  },
  {
   "cell_type": "markdown",
   "metadata": {
    "collapsed": false,
    "pycharm": {
     "name": "#%% md\n"
    }
   },
   "source": [
    "## 1. When does the detective (or a pair) occur for the first time - chapter #, the sentence(s) # in a chapter\n"
   ]
  },
  {
   "cell_type": "code",
   "execution_count": 188,
   "metadata": {
    "collapsed": false,
    "pycharm": {
     "name": "#%%\n"
    }
   },
   "outputs": [
    {
     "name": "stdout",
     "output_type": "stream",
     "text": [
      "first occurrence of sherlock in chapter 1 sentence 2\n",
      "\"sherlock holmes remark impatiently\"\n",
      "---\n",
      "first occurrence of watson in chapter 1 sentence 14\n",
      "\"porlock watson nom de plume mere identification mark lie shifty evasive personality\"\n"
     ]
    }
   ],
   "source": [
    "m = get_matches(marked_text, 'sherlock')[0]\n",
    "chap, sent = get_chapter_sentence(m)\n",
    "print(f'first occurrence of sherlock in chapter {chap+1} sentence {sent+1}')\n",
    "print(f'\"{m.group(0).split(\"))) \")[1]}\"')\n",
    "print('---')\n",
    "m = get_matches(marked_text, 'watson')[0]\n",
    "chap, sent = get_chapter_sentence(m)\n",
    "print(f'first occurrence of watson in chapter {chap+1} sentence {sent+1}')\n",
    "print(f'\"{m.group(0).split(\"))) \")[1]}\"')"
   ]
  },
  {
   "cell_type": "markdown",
   "metadata": {
    "collapsed": false,
    "pycharm": {
     "name": "#%% md\n"
    }
   },
   "source": [
    "## 2. When is the crime first mentioned - the type of the crime and the details - chapter #, the sentence(s) # in a chapter"
   ]
  },
  {
   "cell_type": "code",
   "execution_count": 199,
   "metadata": {
    "collapsed": false,
    "pycharm": {
     "name": "#%%\n"
    }
   },
   "outputs": [
    {
     "name": "stdout",
     "output_type": "stream",
     "text": [
      "crime first mention of weapon chapter 2 sentence 179\n",
      "\"mention injury head discharge shotgun\"\n",
      "---\n",
      "crime first mention of murder chapter 1 sentence 184\n",
      "\"say mr douglas birlstone manor house horribly murder night\"\n",
      "---\n",
      "crime first mention of murder victim chapter 1 sentence 184\n",
      "\"say mr douglas birlstone manor house horribly murder night\"\n"
     ]
    }
   ],
   "source": [
    "m = get_matches(marked_text, 'shotgun')[0]\n",
    "chap, sent = get_chapter_sentence(m)\n",
    "print(f'crime first mention of weapon chapter {chap+1} sentence {sent+1}')\n",
    "print(f'\"{m.group(0).split(\"))) \")[1]}\"')\n",
    "print('---')\n",
    "m = get_matches(marked_text, 'murder')[0]\n",
    "chap, sent = get_chapter_sentence(m)\n",
    "print(f'crime first mention of murder chapter {chap+1} sentence {sent+1}')\n",
    "print(f'\"{m.group(0).split(\"))) \")[1]}\"')\n",
    "print('---')\n",
    "m = get_matches(marked_text, 'douglas')[5]\n",
    "chap, sent = get_chapter_sentence(m)\n",
    "print(f'crime first mention of murder victim chapter {chap+1} sentence {sent+1}')\n",
    "print(f'\"{m.group(0).split(\"))) \")[1]}\"')\n"
   ]
  },
  {
   "cell_type": "markdown",
   "metadata": {
    "collapsed": false,
    "pycharm": {
     "name": "#%% md\n"
    }
   },
   "source": [
    "## 3. When is the perpetrator first mentioned - chapter #, the sentence(s) # in a chapter"
   ]
  },
  {
   "cell_type": "code",
   "execution_count": 205,
   "metadata": {
    "collapsed": false,
    "pycharm": {
     "name": "#%%\n"
    }
   },
   "outputs": [
    {
     "name": "stdout",
     "output_type": "stream",
     "text": [
      "first mention of boss bodymaster mcginty chapter 5 sentence 235\n",
      "\"mcginty bodymaster mcginty\"\n",
      "---\n",
      "first mention of moriarty chapter 1 sentence 19\n",
      "\"hear speak professor moriarty famous scientific criminal famous crook blush watson holmes murmur deprecate voice\"\n"
     ]
    }
   ],
   "source": [
    "m = get_matches(marked_text, 'mcginty')[0]\n",
    "chap, sent = get_chapter_sentence(m)\n",
    "print(f'first mention of boss bodymaster mcginty chapter {chap+1} sentence {sent+1}')\n",
    "print(f'\"{m.group(0).split(\"))) \")[1]}\"')\n",
    "print('---')\n",
    "m = get_matches(marked_text, 'moriarty')[0]\n",
    "chap, sent = get_chapter_sentence(m)\n",
    "print(f'first mention of moriarty chapter {chap+1} sentence {sent+1}')\n",
    "print(f'\"{m.group(0).split(\"))) \")[1]}\"')"
   ]
  },
  {
   "cell_type": "markdown",
   "metadata": {
    "collapsed": false,
    "pycharm": {
     "name": "#%% md\n"
    }
   },
   "source": [
    "---\n",
    "# The Hound of Baskersville"
   ]
  },
  {
   "cell_type": "code",
   "execution_count": 206,
   "metadata": {
    "collapsed": false,
    "pycharm": {
     "name": "#%%\n"
    }
   },
   "outputs": [],
   "source": [
    "book_i = 2\n",
    "book_fn = books[book_i]['fn']\n",
    "raw_text, raw_chapters, raw_chapter_sentences, marked_text = read_cleaned_text(book_fn, 'clean-data')\n"
   ]
  },
  {
   "cell_type": "markdown",
   "metadata": {
    "collapsed": false,
    "pycharm": {
     "name": "#%% md\n"
    }
   },
   "source": [
    "## 1. When does the detective (or a pair) occur for the first time - chapter #, the sentence(s) # in a chapter\n"
   ]
  },
  {
   "cell_type": "code",
   "execution_count": 207,
   "metadata": {
    "collapsed": false,
    "pycharm": {
     "name": "#%%\n"
    }
   },
   "outputs": [
    {
     "name": "stdout",
     "output_type": "stream",
     "text": [
      "first occurrence of sherlock in chapter 1 sentence 1\n",
      "\"mr sherlock holmes mr sherlock holmes usually late morning save infrequent occasion night seat breakfast table\"\n",
      "---\n",
      "first occurrence of watson in chapter 1 sentence 9\n",
      "\"watson holmes sit give sign occupation\"\n"
     ]
    }
   ],
   "source": [
    "m = get_matches(marked_text, 'sherlock')[0]\n",
    "chap, sent = get_chapter_sentence(m)\n",
    "print(f'first occurrence of sherlock in chapter {chap+1} sentence {sent+1}')\n",
    "print(f'\"{m.group(0).split(\"))) \")[1]}\"')\n",
    "print('---')\n",
    "m = get_matches(marked_text, 'watson')[0]\n",
    "chap, sent = get_chapter_sentence(m)\n",
    "print(f'first occurrence of watson in chapter {chap+1} sentence {sent+1}')\n",
    "print(f'\"{m.group(0).split(\"))) \")[1]}\"')"
   ]
  },
  {
   "cell_type": "markdown",
   "metadata": {
    "collapsed": false,
    "pycharm": {
     "name": "#%% md\n"
    }
   },
   "source": [
    "## 2. When is the crime first mentioned - the type of the crime and the details - chapter #, the sentence(s) # in a chapter\n"
   ]
  },
  {
   "cell_type": "code",
   "execution_count": 221,
   "metadata": {
    "collapsed": false,
    "pycharm": {
     "name": "#%%\n"
    }
   },
   "outputs": [
    {
     "name": "stdout",
     "output_type": "stream",
     "text": [
      "first crime scene riping out hugo's throat chapter 2 sentence 60\n",
      "\"look thing tear throat hugo baskerville turn blaze eye drip jaw shriek fear ride dear life scream moor\"\n",
      "---\n",
      "first crime scene description of hound chapter 2 sentence 59\n",
      "\"sight body body hugo baskerville lie near raise hair head dare devil roysterers stand hugo pluck throat stand foul thing great black beast shape like hound large hound mortal eye rest\"\n"
     ]
    }
   ],
   "source": [
    "m = get_matches(marked_text, 'throat')[1]\n",
    "chap, sent = get_chapter_sentence(m)\n",
    "print(f'first crime scene riping out hugo\\'s throat chapter {chap+1} sentence {sent+1}')\n",
    "print(f'\"{m.group(0).split(\"))) \")[1]}\"')\n",
    "print('---')\n",
    "m = get_matches(marked_text, 'beast')[0]\n",
    "chap, sent = get_chapter_sentence(m)\n",
    "print(f'first crime scene description of hound chapter {chap+1} sentence {sent+1}')\n",
    "print(f'\"{m.group(0).split(\"))) \")[1]}\"')\n"
   ]
  },
  {
   "cell_type": "markdown",
   "metadata": {
    "collapsed": false,
    "pycharm": {
     "name": "#%% md\n"
    }
   },
   "source": [
    "## 3. When is the perpetrator first mentioned - chapter #, the sentence(s) # in a chapter\n"
   ]
  },
  {
   "cell_type": "code",
   "execution_count": 222,
   "metadata": {
    "collapsed": false,
    "pycharm": {
     "name": "#%%\n"
    }
   },
   "outputs": [
    {
     "name": "stdout",
     "output_type": "stream",
     "text": [
      "first mention of jack stapleton chapter 2 sentence 124\n",
      "\"exception mr frankland lafter hall mr stapleton naturalist man education mile\"\n",
      "---\n",
      "first mention of rodger baskerville (stapleton's real name) chapter 2 sentence 67\n",
      "\"hugo baskerville son rodger john instruction thereof sister elizabeth\"\n"
     ]
    }
   ],
   "source": [
    "m = get_matches(marked_text, 'stapleton')[0]\n",
    "chap, sent = get_chapter_sentence(m)\n",
    "print(f'first mention of jack stapleton chapter {chap+1} sentence {sent+1}')\n",
    "print(f'\"{m.group(0).split(\"))) \")[1]}\"')\n",
    "print('---')\n",
    "\n",
    "m = get_matches(marked_text, 'rodger')[0]\n",
    "chap, sent = get_chapter_sentence(m)\n",
    "print(f'first mention of rodger baskerville (stapleton\\'s real name) chapter {chap+1} sentence {sent+1}')\n",
    "print(f'\"{m.group(0).split(\"))) \")[1]}\"')\n"
   ]
  },
  {
   "cell_type": "markdown",
   "metadata": {
    "collapsed": false,
    "pycharm": {
     "name": "#%% md\n"
    }
   },
   "source": [
    "---\n",
    "# The Mystery of Cloomber\n",
    "Could not find good summary of this novel online"
   ]
  },
  {
   "cell_type": "code",
   "execution_count": 251,
   "metadata": {
    "collapsed": false,
    "pycharm": {
     "name": "#%%\n"
    }
   },
   "outputs": [],
   "source": [
    "book_i = 3\n",
    "book_fn = books[book_i]['fn']\n",
    "raw_text, raw_chapters, raw_chapter_sentences, marked_text = read_cleaned_text(book_fn, 'clean-data')\n"
   ]
  },
  {
   "cell_type": "markdown",
   "metadata": {
    "collapsed": false,
    "pycharm": {
     "name": "#%% md\n"
    }
   },
   "source": [
    "## 1. When does the detective (or a pair) occur for the first time - chapter #, the sentence(s) # in a chapter"
   ]
  },
  {
   "cell_type": "code",
   "execution_count": 252,
   "metadata": {
    "collapsed": false,
    "pycharm": {
     "name": "#%%\n"
    }
   },
   "outputs": [
    {
     "name": "stdout",
     "output_type": "stream",
     "text": [
      "first occurrence of john fothergill west in chapter 1 sentence 1\n",
      "\"hegira wests edinburgh john fothergill west student law university st\"\n"
     ]
    }
   ],
   "source": [
    "m = get_matches(marked_text, 'fothergill')[0]\n",
    "chap, sent = get_chapter_sentence(m)\n",
    "print(f'first occurrence of john fothergill west in chapter {chap+1} sentence {sent+1}')\n",
    "print(f'\"{m.group(0).split(\"))) \")[1]}\"')\n"
   ]
  },
  {
   "cell_type": "markdown",
   "metadata": {
    "collapsed": false,
    "pycharm": {
     "name": "#%% md\n"
    }
   },
   "source": [
    "## 2. When is the crime first mentioned - the type of the crime and the details - chapter #, the sentence(s) # in a chapter\n"
   ]
  },
  {
   "cell_type": "code",
   "execution_count": 257,
   "metadata": {
    "collapsed": false,
    "pycharm": {
     "name": "#%%\n"
    }
   },
   "outputs": [
    {
     "name": "stdout",
     "output_type": "stream",
     "text": [
      "Chapter 15, Sentence 154: man blood cry voice thunder speak excellent english place prayer meditation murder\n",
      "---\n",
      "Chapter 9, Sentence 43: hard kill wander jew\n",
      "Chapter 13, Sentence 20: shock idea kill sheep fish benefit say die hand take life animal\n",
      "Chapter 13, Sentence 81: uncertainty kill\n",
      "Chapter 15, Sentence 165: hannibal caesar loss affair insignificant kill wound\n",
      "---\n",
      "Chapter 15, Sentence 101: _io triumphe _ crown laurel elliott compare vermin killer get tire weary stain blood dust sit wash change satisfaction see deed set forth black white private log eye\n",
      "---\n",
      "Chapter 15, Sentence 126: gun unlimbered grape pour little infantry force advance double shoot stab overtake\n",
      "Chapter 15, Sentence 191: think fellow ghazi afghan fanatic steal intention stab idea mind spring couch defend power unaccountably lack\n",
      "---\n",
      "Chapter 2, Sentence 8: lonely bleak sight branksome sign work man save high white tower cloomber hall shoot like headstone giant grave amid fir larch gird round\n",
      "Chapter 7, Sentence 4: countryside square white tower shoot tree beneath tower ill fate family watch wait wait watch question stand like impassable barrier end train think\n",
      "Chapter 7, Sentence 27: instead reply question eye time silence sullen yellow shoot eye close knife loud snick\n",
      "Chapter 7, Sentence 85: old soldier spring round word pistol shoot\n",
      "Chapter 9, Sentence 101: attack moment fall pillow shoot look horror come face observe enter room\n",
      "Chapter 10, Sentence 15: think bend form shake hand man short year ago shoot tiger foot jungle terai laugh timid sportsman seek protection elephant howdah know victoria cross win street delhi shiver terror start noise peaceful corner world\n",
      "Chapter 11, Sentence 6: sister walk afternoon saunter slowly margin great sandy spit shoot irish sea flank magnificent bay luce obscure inlet kirkmaiden shore branksome property situate\n",
      "Chapter 12, Sentence 11: cable length shore mainmast barque float wave disappear time trough sea shoot heaven like giant javelin shine drip roller toss\n",
      "Chapter 15, Sentence 59: propose shoot informant prevent play double traitor report proceeding\n",
      "Chapter 15, Sentence 121: cranny slit waggon come blaze fire shoot tell close pack mob\n",
      "Chapter 15, Sentence 126: gun unlimbered grape pour little infantry force advance double shoot stab overtake\n"
     ]
    }
   ],
   "source": [
    "# TODO: I cannot find any explicitly mentioned crimes in this dang book\n",
    "m = get_matches(marked_text, 'murder')\n",
    "print_all_matches(m)\n",
    "print('---')\n",
    "m = get_matches(marked_text, 'kill')\n",
    "print_all_matches(m)\n",
    "print('---')\n",
    "m = get_matches(marked_text, 'killer')\n",
    "print_all_matches(m)\n",
    "print('---')\n",
    "m = get_matches(marked_text, 'stab')\n",
    "print_all_matches(m)\n",
    "print('---')\n",
    "m = get_matches(marked_text, 'shoot')\n",
    "print_all_matches(m)\n",
    "# print(f'first occurrence of john fothergill west in chapter {chap+1} sentence {sent+1}')\n",
    "# print(f'\"{m.group(0).split(\"))) \")[1]}\"')"
   ]
  },
  {
   "cell_type": "markdown",
   "metadata": {
    "collapsed": false,
    "pycharm": {
     "name": "#%% md\n"
    }
   },
   "source": [
    "## 3. When is the perpetrator first mentioned - chapter #, the sentence(s) # in a chapter\n"
   ]
  },
  {
   "cell_type": "code",
   "execution_count": 228,
   "metadata": {
    "collapsed": false,
    "pycharm": {
     "name": "#%%\n"
    }
   },
   "outputs": [
    {
     "name": "stdout",
     "output_type": "stream",
     "text": [
      "first occurrence of john fothergill west in chapter 1 sentence 10\n",
      "\"heatherstone\"\n"
     ]
    }
   ],
   "source": [
    "m = get_matches(marked_text, 'heatherstone')[0]\n",
    "chap, sent = get_chapter_sentence(m)\n",
    "print(f'first occurrence of john fothergill west in chapter {chap+1} sentence {sent+1}')\n",
    "print(f'\"{m.group(0).split(\"))) \")[1]}\"')\n"
   ]
  },
  {
   "cell_type": "markdown",
   "metadata": {
    "collapsed": false,
    "pycharm": {
     "name": "#%% md\n"
    }
   },
   "source": [
    "---\n",
    "# The Sign of Four"
   ]
  },
  {
   "cell_type": "code",
   "execution_count": 230,
   "metadata": {
    "collapsed": false,
    "pycharm": {
     "name": "#%%\n"
    }
   },
   "outputs": [],
   "source": [
    "book_i = 4\n",
    "book_fn = books[book_i]['fn']\n",
    "raw_text, raw_chapters, raw_chapter_sentences, marked_text = read_cleaned_text(book_fn, 'clean-data')\n"
   ]
  },
  {
   "cell_type": "markdown",
   "metadata": {
    "collapsed": false,
    "pycharm": {
     "name": "#%% md\n"
    }
   },
   "source": [
    "## 1. When does the detective (or a pair) occur for the first time - chapter #, the sentence(s) # in a chapter"
   ]
  },
  {
   "cell_type": "code",
   "execution_count": 231,
   "metadata": {
    "collapsed": false,
    "pycharm": {
     "name": "#%%\n"
    }
   },
   "outputs": [
    {
     "name": "stdout",
     "output_type": "stream",
     "text": [
      "first occurrence of sherlock in chapter 1 sentence 1\n",
      "\"science deduction sherlock holmes take bottle corner mantel piece hypodermic syringe neat morocco case\"\n",
      "---\n",
      "first occurrence of watson in chapter 1 sentence 17\n",
      "\"right watson say\"\n"
     ]
    }
   ],
   "source": [
    "m = get_matches(marked_text, 'sherlock')[0]\n",
    "chap, sent = get_chapter_sentence(m)\n",
    "print(f'first occurrence of sherlock in chapter {chap+1} sentence {sent+1}')\n",
    "print(f'\"{m.group(0).split(\"))) \")[1]}\"')\n",
    "print('---')\n",
    "m = get_matches(marked_text, 'watson')[0]\n",
    "chap, sent = get_chapter_sentence(m)\n",
    "print(f'first occurrence of watson in chapter {chap+1} sentence {sent+1}')\n",
    "print(f'\"{m.group(0).split(\"))) \")[1]}\"')"
   ]
  },
  {
   "cell_type": "markdown",
   "metadata": {
    "collapsed": false,
    "pycharm": {
     "name": "#%% md\n"
    }
   },
   "source": [
    "## 2. When is the crime first mentioned - the type of the crime and the details - chapter #, the sentence(s) # in a chapter"
   ]
  },
  {
   "cell_type": "code",
   "execution_count": 249,
   "metadata": {
    "collapsed": false,
    "pycharm": {
     "name": "#%%\n"
    }
   },
   "outputs": [
    {
     "name": "stdout",
     "output_type": "stream",
     "text": [
      "reference to murder in chapter 5 sentence 136\n",
      "\"mean murder say stoop dead man\"\n",
      "---\n",
      "reference to murder weapon in chapter 5 sentence 136\n",
      "\"look point look like long dark thorn stick skin ear\"\n",
      "---\n",
      "reference to treasure that was then stolen in chapter 5 sentence 136\n",
      "\"rob treasure hole lower\"\n",
      "---\n",
      "reference to note left at murder scene in chapter 5 sentence 136\n",
      "\"tear sheet note paper word scrawl\"\n",
      "---\n"
     ]
    }
   ],
   "source": [
    "chapter_5 = get_chapter_from_marked(marked_text, 4)\n",
    "\n",
    "m = get_matches(marked_text, 'murder')[2]\n",
    "chap, sent = get_chapter_sentence(m)\n",
    "print(f'reference to murder in chapter {chap+1} sentence {sent+1}')\n",
    "print(f'\"{m.group(0).split(\"))) \")[1]}\"')\n",
    "print('---')\n",
    "m = get_matches(chapter_5, 'thorn')[0]\n",
    "print(f'reference to murder weapon in chapter {chap+1} sentence {sent+1}')\n",
    "print(f'\"{m.group(0).split(\"))) \")[1]}\"')\n",
    "print('---')\n",
    "m = get_matches(chapter_5, 'treasure')[2]\n",
    "print(f'reference to treasure that was then stolen in chapter {chap+1} sentence {sent+1}')\n",
    "print(f'\"{m.group(0).split(\"))) \")[1]}\"')\n",
    "print('---')\n",
    "m = get_matches(chapter_5, 'note')[0]\n",
    "print(f'reference to note left at murder scene in chapter {chap+1} sentence {sent+1}')\n",
    "print(f'\"{m.group(0).split(\"))) \")[1]}\"')\n"
   ]
  },
  {
   "cell_type": "markdown",
   "metadata": {
    "collapsed": false,
    "pycharm": {
     "name": "#%% md\n"
    }
   },
   "source": [
    "## 3. When is the perpetrator first mentioned - chapter #, the sentence(s) # in a chapter\n"
   ]
  },
  {
   "cell_type": "code",
   "execution_count": 233,
   "metadata": {
    "collapsed": false,
    "pycharm": {
     "name": "#%%\n"
    }
   },
   "outputs": [
    {
     "name": "stdout",
     "output_type": "stream",
     "text": [
      "first occurrence of jonathan small in chapter 3 sentence 42\n",
      "\"write rough coarse character sign jonathan small mahomet singh abdullah khan dost akbar\"\n",
      "---\n",
      "first occurrence of tonga in chapter 11 sentence 13\n",
      "\"little hell hound tonga shoot curse dart\"\n"
     ]
    }
   ],
   "source": [
    "m = get_matches(marked_text, 'jonathan')[0]\n",
    "chap, sent = get_chapter_sentence(m)\n",
    "print(f'first occurrence of jonathan small in chapter {chap+1} sentence {sent+1}')\n",
    "print(f'\"{m.group(0).split(\"))) \")[1]}\"')\n",
    "print('---')\n",
    "m = get_matches(marked_text, 'tonga')[0]\n",
    "chap, sent = get_chapter_sentence(m)\n",
    "print(f'first occurrence of tonga in chapter {chap+1} sentence {sent+1}')\n",
    "print(f'\"{m.group(0).split(\"))) \")[1]}\"')"
   ]
  },
  {
   "cell_type": "markdown",
   "metadata": {
    "collapsed": false,
    "pycharm": {
     "name": "#%% md\n"
    }
   },
   "source": [
    "---\n",
    "# Analysis"
   ]
  },
  {
   "cell_type": "code",
   "execution_count": 9,
   "metadata": {
    "collapsed": false,
    "pycharm": {
     "name": "#%%\n"
    }
   },
   "outputs": [
    {
     "data": {
      "image/png": "[encoded data removed]",
      "text/plain": [
       "<Figure size 640x480 with 1 Axes>"
      ]
     },
     "metadata": {},
     "output_type": "display_data"
    }
   ],
   "source": [
    "from groupings import *\n",
    "raw_text = read_cleaned_text(books[0]['fn'], 'clean-data')[0]\n",
    "dict = count_occurences(find_groupings(raw_text, 'hope')) #a study in scarlet\n",
    "\n",
    "raw_text = read_cleaned_text(books[1]['fn'], 'clean-data')[0]\n",
    "dict = count_occurences(find_groupings(raw_text, 'moriarty')) #the valley of fear\n",
    "\n",
    "raw_text = read_cleaned_text(books[2]['fn'], 'clean-data')[0]\n",
    "dict = count_occurences(find_groupings(raw_text, 'stapleton')) #the hound of the baskervilles\n",
    "\n",
    "raw_text = read_cleaned_text(books[3]['fn'], 'clean-data')[0]\n",
    "dict = count_occurences(find_groupings(raw_text, 'priest')) #mystery of cloomber\n",
    "\n",
    "raw_text = read_cleaned_text(books[4]['fn'], 'clean-data')[0]\n",
    "dict = count_occurences(find_groupings(raw_text, 'small')) #the sign of four\n",
    "\n",
    "# print(dict)\n",
    "\n",
    "graph_occurences(dict)\n"
   ]
  },
  {
   "cell_type": "code",
   "execution_count": 10,
   "metadata": {},
   "outputs": [
    {
     "data": {
      "text/plain": [
       "{'.': 35,\n",
       " 'jefferson': 35,\n",
       " 'say': 28,\n",
       " 'man': 21,\n",
       " 'jonathan': 18,\n",
       " 'know': 16,\n",
       " 'miss': 14,\n",
       " 'look': 13,\n",
       " 'find': 11,\n",
       " 'mr': 11,\n",
       " 'come': 11,\n",
       " 'tell': 10,\n",
       " 'henry': 10,\n",
       " 'see': 9,\n",
       " 'sir': 9,\n",
       " 'good': 8,\n",
       " 'friend': 8,\n",
       " 'hear': 8,\n",
       " 'mat': 8,\n",
       " 'mrs.': 8,\n",
       " 'watch': 7,\n",
       " 'work': 7,\n",
       " 'speak': 7,\n",
       " 'time': 7,\n",
       " 'think': 7,\n",
       " 'say.': 7,\n",
       " 'place': 7,\n",
       " 'lady': 7,\n",
       " 'buddhist': 7,\n",
       " 'eye': 6,\n",
       " 'way': 6,\n",
       " 'ask': 6,\n",
       " 'young': 6,\n",
       " 'give': 6,\n",
       " 'leave': 6,\n",
       " 'day': 6,\n",
       " 'professor': 6,\n",
       " 'turn': 6,\n",
       " 'remember': 5,\n",
       " 'hand': 5,\n",
       " 'take': 5,\n",
       " 'call': 5,\n",
       " 'let': 5,\n",
       " 'room': 5,\n",
       " 'case': 5,\n",
       " 'story': 5,\n",
       " 'answer': 4,\n",
       " 'companion': 4,\n",
       " 'thing': 4,\n",
       " 'able': 4,\n",
       " 'pass': 4,\n",
       " 'spring': 4,\n",
       " 'foot': 4,\n",
       " 'great': 4,\n",
       " 'feel': 4,\n",
       " 'head': 4,\n",
       " 'round': 4,\n",
       " 'mind': 4,\n",
       " 'yes': 4,\n",
       " 'face': 4,\n",
       " 'holmes': 4,\n",
       " 'right': 4,\n",
       " 'point': 4,\n",
       " 'course': 4,\n",
       " 'neighbour': 4,\n",
       " 'doubt': 4,\n",
       " 'sit': 4,\n",
       " 'mean': 4,\n",
       " 'house': 4,\n",
       " 'reason': 4,\n",
       " 'strange': 4,\n",
       " 'answer.': 4,\n",
       " 'treasure': 4,\n",
       " 'strong': 3,\n",
       " 'set': 3,\n",
       " 'catch': 3,\n",
       " 'go': 3,\n",
       " 'even': 3,\n",
       " 'expect': 3,\n",
       " 'little': 3,\n",
       " 'sign': 3,\n",
       " 'water': 3,\n",
       " 'expression': 3,\n",
       " 'guess': 3,\n",
       " 'help': 3,\n",
       " 'lead': 3,\n",
       " 'mountain': 3,\n",
       " 'begin': 3,\n",
       " 'fairly': 3,\n",
       " 'fall': 3,\n",
       " 'lip': 3,\n",
       " 'warn': 3,\n",
       " 'word': 3,\n",
       " 'love': 3,\n",
       " 'death': 3,\n",
       " 'eye.': 3,\n",
       " 'talk': 3,\n",
       " 'lie': 3,\n",
       " 'meet': 3,\n",
       " 'interest': 3,\n",
       " 'business': 3,\n",
       " 'naturalist': 3,\n",
       " 'sister': 3,\n",
       " 'path': 3,\n",
       " 'light': 3,\n",
       " 'question': 3,\n",
       " 'night': 3,\n",
       " 'far': 3,\n",
       " 'send': 3,\n",
       " 'throw': 3,\n",
       " 'change': 3,\n",
       " 'remain': 3,\n",
       " 'drive': 3,\n",
       " 'strike': 3,\n",
       " 'observe': 3,\n",
       " 'box': 3,\n",
       " 'major': 3,\n",
       " 'fierce': 3,\n",
       " 'smell': 2,\n",
       " 'strain': 2,\n",
       " 'vain': 2,\n",
       " 'extraordinary': 2,\n",
       " 'cry': 2,\n",
       " 'article': 2,\n",
       " 'shortly.': 2,\n",
       " 'north': 2,\n",
       " 'bring': 2,\n",
       " 'hurt': 2,\n",
       " 'ferrier': 2,\n",
       " 'salt': 2,\n",
       " 'raise': 2,\n",
       " 'message': 2,\n",
       " 'hunt': 2,\n",
       " 'life': 2,\n",
       " 'arrival': 2,\n",
       " 'lose': 2,\n",
       " 'abandon': 2,\n",
       " 'single': 2,\n",
       " 'resolute': 2,\n",
       " 'gasp': 2,\n",
       " 'o': 2,\n",
       " 'low': 2,\n",
       " 'note': 2,\n",
       " 'provision': 2,\n",
       " 'train': 2,\n",
       " 'return': 2,\n",
       " 'intimate': 2,\n",
       " 'knowledge': 2,\n",
       " 'rest': 2,\n",
       " 'track': 2,\n",
       " 'blow': 2,\n",
       " 'carry': 2,\n",
       " 'possess': 2,\n",
       " 'power': 2,\n",
       " 'fear': 2,\n",
       " 'rise': 2,\n",
       " 'repeat': 2,\n",
       " 'moment.': 2,\n",
       " 'wish': 2,\n",
       " 'chair': 2,\n",
       " 'suspicion': 2,\n",
       " 'name': 2,\n",
       " 'line': 2,\n",
       " 'degree': 2,\n",
       " 'criminal': 2,\n",
       " 'learn': 2,\n",
       " 'presume': 2,\n",
       " 'somewhat': 2,\n",
       " 'try.': 2,\n",
       " 'ah': 2,\n",
       " 'hide': 2,\n",
       " 'come.': 2,\n",
       " 'interest.': 2,\n",
       " 'idea': 2,\n",
       " 'inspector': 2,\n",
       " 'grow': 2,\n",
       " 'holmes.': 2,\n",
       " 'engineer': 2,\n",
       " 'crime': 2,\n",
       " 'mutual': 2,\n",
       " 'concern': 2,\n",
       " 'indicate': 2,\n",
       " 'know.': 2,\n",
       " 'net': 2,\n",
       " 'wary': 2,\n",
       " 'moor.': 2,\n",
       " 'grimpen': 2,\n",
       " 'word.': 2,\n",
       " 'country.': 2,\n",
       " 'rock': 2,\n",
       " 'frank': 2,\n",
       " 'conscious': 2,\n",
       " 'shadow': 2,\n",
       " 'moment': 2,\n",
       " 'hear.': 2,\n",
       " 'fact': 2,\n",
       " 'believe': 2,\n",
       " 'possibility': 2,\n",
       " 'evident': 2,\n",
       " 'guard': 2,\n",
       " 'imagine': 2,\n",
       " 'escape': 2,\n",
       " 'convict': 2,\n",
       " 'beautiful': 2,\n",
       " 'true': 2,\n",
       " 'clear': 2,\n",
       " 'understand': 2,\n",
       " 'close': 2,\n",
       " 'suddenly': 2,\n",
       " 'draw': 2,\n",
       " 'cause': 2,\n",
       " 'run': 2,\n",
       " 'visit': 2,\n",
       " 'offer': 2,\n",
       " 'example': 2,\n",
       " 'baskerville': 2,\n",
       " 'hut': 2,\n",
       " 'wife.': 2,\n",
       " 'lurk': 2,\n",
       " 'shall': 2,\n",
       " 'lively': 2,\n",
       " 'baronet': 2,\n",
       " 'implicate': 2,\n",
       " 'letter': 2,\n",
       " 'reach': 2,\n",
       " 'island': 2,\n",
       " 'continue': 2,\n",
       " 'possible': 2,\n",
       " 'existence': 2,\n",
       " 'danger.': 2,\n",
       " 'morning': 2,\n",
       " 'like': 2,\n",
       " 'husband': 2,\n",
       " 'doubt.': 2,\n",
       " 'bad': 2,\n",
       " 'father': 2,\n",
       " 'arrive': 2,\n",
       " 'character': 2,\n",
       " 'claim': 2,\n",
       " 'high': 2,\n",
       " 'stand': 2,\n",
       " 'consider': 2,\n",
       " 'large': 2,\n",
       " 'board': 2,\n",
       " 'dark': 2,\n",
       " 'step': 2,\n",
       " 'edge': 2,\n",
       " 'belong': 2,\n",
       " 'associate': 2,\n",
       " 'poison': 2,\n",
       " 'wooden': 2,\n",
       " 'land': 2,\n",
       " 'indian': 2,\n",
       " 'mark': 2,\n",
       " 'intractable': 2,\n",
       " 'misshapen': 2,\n",
       " 'hour': 2,\n",
       " 'certain': 2,\n",
       " 'pretty': 2,\n",
       " 'black': 2,\n",
       " 'athelney': 2,\n",
       " 'jones': 2,\n",
       " 'morstan': 2,\n",
       " 'tobacco': 1,\n",
       " 'smoke': 1,\n",
       " 'ship': 1,\n",
       " 'instrument.': 1,\n",
       " 'reader': 1,\n",
       " 'glimpse': 1,\n",
       " 'proceeding': 1,\n",
       " 'unable': 1,\n",
       " 'learn.': 1,\n",
       " 'evidence': 1,\n",
       " 'suggestive': 1,\n",
       " 'encouragement': 1,\n",
       " 'irresistibly': 1,\n",
       " 'remind': 1,\n",
       " 'paper': 1,\n",
       " 'manage': 1,\n",
       " 'arrangement': 1,\n",
       " 'introduce': 1,\n",
       " 'murderer': 1,\n",
       " 'enoch': 1,\n",
       " 'drebber': 1,\n",
       " 'elevation': 1,\n",
       " 'broad': 1,\n",
       " 'landscape': 1,\n",
       " 'gleam': 1,\n",
       " 'east': 1,\n",
       " 'west': 1,\n",
       " 'opportunity': 1,\n",
       " 'urge': 1,\n",
       " 'horse': 1,\n",
       " 'push': 1,\n",
       " 'cavalcade': 1,\n",
       " 'outskirts.': 1,\n",
       " 'preserver': 1,\n",
       " 'st.': 1,\n",
       " 'louis.': 1,\n",
       " 'dust.': 1,\n",
       " 'ride': 1,\n",
       " 'gloomy': 1,\n",
       " 'lake': 1,\n",
       " 'city': 1,\n",
       " 'capital': 1,\n",
       " 'world': 1,\n",
       " 'year.': 1,\n",
       " 'style': 1,\n",
       " 'stir': 1,\n",
       " 'adventure': 1,\n",
       " 'search.': 1,\n",
       " 'soon': 1,\n",
       " 'favourite': 1,\n",
       " 'week': 1,\n",
       " 'comrade': 1,\n",
       " 'depart': 1,\n",
       " 'entrust': 1,\n",
       " 'creature.': 1,\n",
       " 'heart': 1,\n",
       " 'escape.': 1,\n",
       " 'god': 1,\n",
       " 'family': 1,\n",
       " 'utah.': 1,\n",
       " 'morrow': 1,\n",
       " 'approach': 1,\n",
       " 'journey': 1,\n",
       " 'pack': 1,\n",
       " 'eatables': 1,\n",
       " 'start': 1,\n",
       " 'stop': 1,\n",
       " 'ferrier.': 1,\n",
       " 'slap': 1,\n",
       " 'revolver': 1,\n",
       " 'butt': 1,\n",
       " 'gold': 1,\n",
       " 'scanty': 1,\n",
       " 'ear': 1,\n",
       " 'lynx.': 1,\n",
       " 'away': 1,\n",
       " 'distance': 1,\n",
       " 'unerring': 1,\n",
       " 'instinct': 1,\n",
       " 'pick': 1,\n",
       " 'money': 1,\n",
       " 'bag': 1,\n",
       " 'precipitous': 1,\n",
       " 'dangerous': 1,\n",
       " 'nevada': 1,\n",
       " 'rifle': 1,\n",
       " 'hang': 1,\n",
       " 'seven': 1,\n",
       " 'promptly': 1,\n",
       " 'countersign': 1,\n",
       " 'path.': 1,\n",
       " 'long': 1,\n",
       " 'inexorable.': 1,\n",
       " 'pursuer': 1,\n",
       " 'stun': 1,\n",
       " 'spin': 1,\n",
       " 'persuade': 1,\n",
       " 'epitaph.': 1,\n",
       " 'wildly': 1,\n",
       " 'patience': 1,\n",
       " 'perseverance': 1,\n",
       " 'sustain': 1,\n",
       " 'fate.': 1,\n",
       " 'remember.': 1,\n",
       " 'mormon': 1,\n",
       " 'away.': 1,\n",
       " 'warrant': 1,\n",
       " 'earnestly.': 1,\n",
       " 'leave.': 1,\n",
       " 'faintly.': 1,\n",
       " 'white': 1,\n",
       " 'seat.': 1,\n",
       " 'disappear.': 1,\n",
       " 'month': 1,\n",
       " 'linger': 1,\n",
       " 'expedition': 1,\n",
       " 'capture': 1,\n",
       " 'kill': 1,\n",
       " 'enemy': 1,\n",
       " 'opponent': 1,\n",
       " 'cool': 1,\n",
       " 'vindictiveness': 1,\n",
       " 'difficulty': 1,\n",
       " 'falter': 1,\n",
       " 'small': 1,\n",
       " 'rival.': 1,\n",
       " 'custody': 1,\n",
       " 'affable': 1,\n",
       " 'manner': 1,\n",
       " 'express': 1,\n",
       " 'scuffle.': 1,\n",
       " 'consequence.': 1,\n",
       " 'lean': 1,\n",
       " 'perish': 1,\n",
       " 'hand.': 1,\n",
       " 'desire.': 1,\n",
       " 'rich': 1,\n",
       " 'poor': 1,\n",
       " 'vengeance': 1,\n",
       " 'sweet': 1,\n",
       " 'contentment': 1,\n",
       " 'soul': 1,\n",
       " 'disarm': 1,\n",
       " 'pretend': 1,\n",
       " 'cabby': 1,\n",
       " 'cab': 1,\n",
       " 'want': 1,\n",
       " 'bell': 1,\n",
       " 'couple': 1,\n",
       " 'warder': 1,\n",
       " 'summon': 1,\n",
       " 'tribunal': 1,\n",
       " 'strict': 1,\n",
       " 'present': 1,\n",
       " 'europe': 1,\n",
       " 'irresistible': 1,\n",
       " 'conclusion': 1,\n",
       " 'jarveys': 1,\n",
       " 'metropolis': 1,\n",
       " 'sudden': 1,\n",
       " 'suspect': 1,\n",
       " 'murder': 1,\n",
       " 'saint': 1,\n",
       " 'decease': 1,\n",
       " 'prisoner': 1,\n",
       " 'hail': 1,\n",
       " 'detective': 1,\n",
       " 'instructor': 1,\n",
       " 'attain': 1,\n",
       " 'famous': 1,\n",
       " 'scientific': 1,\n",
       " 'guard.': 1,\n",
       " 'utter': 1,\n",
       " 'libel': 1,\n",
       " 'party': 1,\n",
       " 'likely': 1,\n",
       " 'elbow': 1,\n",
       " 'associate.': 1,\n",
       " 'edition': 1,\n",
       " 'holy': 1,\n",
       " 'irrelevant': 1,\n",
       " 'mahratta': 1,\n",
       " 'circle': 1,\n",
       " 'wild': 1,\n",
       " 'get.': 1,\n",
       " 'gain': 1,\n",
       " 'scale': 1,\n",
       " 'check': 1,\n",
       " 'lately': 1,\n",
       " 'common': 1,\n",
       " 'commend': 1,\n",
       " 'study': 1,\n",
       " 'macdonald': 1,\n",
       " 'motive.': 1,\n",
       " 'rule': 1,\n",
       " 'rod': 1,\n",
       " 'iron': 1,\n",
       " 'ordinary': 1,\n",
       " 'hypothesis': 1,\n",
       " 'favour': 1,\n",
       " '2.': 1,\n",
       " 'engage': 1,\n",
       " 'promise': 1,\n",
       " 'sweep': 1,\n",
       " 'brush.': 1,\n",
       " 'london': 1,\n",
       " 'america': 1,\n",
       " 'lafter': 1,\n",
       " 'hall': 1,\n",
       " 'education': 1,\n",
       " 'new': 1,\n",
       " 'man.': 1,\n",
       " 'residence': 1,\n",
       " 'right.': 1,\n",
       " 'moorland': 1,\n",
       " 'wife': 1,\n",
       " 'rustle': 1,\n",
       " 'ivy': 1,\n",
       " 'wall.': 1,\n",
       " 'mortimer.': 1,\n",
       " 'merripit': 1,\n",
       " 'house.': 1,\n",
       " 'naturalist.': 1,\n",
       " 'kind.': 1,\n",
       " 'excellent': 1,\n",
       " 'perfectly': 1,\n",
       " 'accept': 1,\n",
       " 'invitation': 1,\n",
       " 'fertile': 1,\n",
       " 'rest.': 1,\n",
       " 'laugh.': 1,\n",
       " 'melancholy': 1,\n",
       " 'throb': 1,\n",
       " 'murmur.': 1,\n",
       " 'curious': 1,\n",
       " 'flutter': 1,\n",
       " 'instant': 1,\n",
       " 'rush': 1,\n",
       " 'energy': 1,\n",
       " 'close.': 1,\n",
       " 'sort': 1,\n",
       " 'contrast': 1,\n",
       " 'brother': 1,\n",
       " 'neutral': 1,\n",
       " 'tint': 1,\n",
       " 'late': 1,\n",
       " 'beauty': 1,\n",
       " 'place.': 1,\n",
       " 'chase': 1,\n",
       " 'school': 1,\n",
       " 'distinct': 1,\n",
       " 'deliver': 1,\n",
       " 'intense': 1,\n",
       " 'earnestness': 1,\n",
       " 'road': 1,\n",
       " 'astound': 1,\n",
       " 'application.': 1,\n",
       " 'forget': 1,\n",
       " 'uneasy': 1,\n",
       " 'perkins': 1,\n",
       " 'groom': 1,\n",
       " 'sleep': 1,\n",
       " 'interference': 1,\n",
       " 'lightly': 1,\n",
       " 'earnest.': 1,\n",
       " 'reply': 1,\n",
       " 'easy': 1,\n",
       " 'acquaintance': 1,\n",
       " 'appear': 1,\n",
       " 'match': 1,\n",
       " 'welcome': 1,\n",
       " 'enthusiast': 1,\n",
       " 'date': 1,\n",
       " 'mile': 1,\n",
       " 'move': 1,\n",
       " 'break': 1,\n",
       " 'grind.': 1,\n",
       " 'butterfly': 1,\n",
       " 'net.': 1,\n",
       " 'arm': 1,\n",
       " 'hurriedly': 1,\n",
       " 'round.': 1,\n",
       " 'interruption.': 1,\n",
       " 'scene': 1,\n",
       " 'abuse': 1,\n",
       " 'haughty': 1,\n",
       " 'silence.': 1,\n",
       " 'finally': 1,\n",
       " 'heel': 1,\n",
       " 'beckon': 1,\n",
       " 'afternoon.': 1,\n",
       " 'bog': 1,\n",
       " 'flounder.': 1,\n",
       " 'disfavour': 1,\n",
       " 'truth.': 1,\n",
       " 'howl': 1,\n",
       " 'surely': 1,\n",
       " 'think.': 1,\n",
       " 'superstition': 1,\n",
       " 'mortimer': 1,\n",
       " 'figure': 1,\n",
       " 'tall': 1,\n",
       " 'thin': 1,\n",
       " 'frankland': 1,\n",
       " 'face.': 1,\n",
       " 'defend': 1,\n",
       " 'earn': 1,\n",
       " 'honest': 1,\n",
       " 'live.': 1,\n",
       " 'charles.': 1,\n",
       " 'unite': 1,\n",
       " 'help.': 1,\n",
       " 'charles': 1,\n",
       " 'almoner': 1,\n",
       " 'occasion': 1,\n",
       " 'walk': 1,\n",
       " 'warily': 1,\n",
       " 'poise': 1,\n",
       " 'grimpen.': 1,\n",
       " 'hill': 1,\n",
       " 'exist': 1,\n",
       " 'intimacy': 1,\n",
       " 'reality': 1,\n",
       " 'divorce': 1,\n",
       " 'husband.': 1,\n",
       " 'unmarried': 1,\n",
       " 'count': 1,\n",
       " 'instant.': 1,\n",
       " 'deed': 1,\n",
       " 'lonely': 1,\n",
       " 'abide': 1,\n",
       " 'loose': 1,\n",
       " 'princetown.': 1,\n",
       " 'ghastly': 1,\n",
       " 'reasonable': 1,\n",
       " 'theory': 1,\n",
       " 'sigh': 1,\n",
       " 'unconcerned': 1,\n",
       " 'manner.': 1,\n",
       " 'hard.': 1,\n",
       " 'morning.': 1,\n",
       " 'arrange.': 1,\n",
       " 'resist': 1,\n",
       " 'hospitality': 1,\n",
       " 'selden': 1,\n",
       " 'believe.': 1,\n",
       " 'nerve': 1,\n",
       " 'ask.': 1,\n",
       " 'amazement.': 1,\n",
       " 'canvas.': 1,\n",
       " 'ha': 1,\n",
       " 'dine': 1,\n",
       " 'watson': 1,\n",
       " 'regret': 1,\n",
       " 'terminate': 1,\n",
       " 'order': 1,\n",
       " 'convince': 1,\n",
       " 'mention': 1,\n",
       " 'suggest': 1,\n",
       " 'dictate.': 1,\n",
       " 'profile': 1,\n",
       " 'cigar': 1,\n",
       " 'coffee': 1,\n",
       " 'wine.': 1,\n",
       " 'animation': 1,\n",
       " 'heavily': 1,\n",
       " 'mind.': 1,\n",
       " 'unswathed': 1,\n",
       " 'bond': 1,\n",
       " 'sink': 1,\n",
       " 'floor.': 1,\n",
       " 'hall.': 1,\n",
       " 'lift': 1,\n",
       " 'guide': 1,\n",
       " 'pathway': 1,\n",
       " 'boot.': 1,\n",
       " 'flight.': 1,\n",
       " 'exactly.': 1,\n",
       " 'retain': 1,\n",
       " 'refuge': 1,\n",
       " 'view': 1,\n",
       " 'simple': 1,\n",
       " 'direct': 1,\n",
       " 'advantage': 1,\n",
       " 'conversation': 1,\n",
       " 'entirely': 1,\n",
       " 'convenient': 1,\n",
       " 'fortune': 1,\n",
       " 'prepare': 1,\n",
       " 'death.': 1,\n",
       " 'old': 1,\n",
       " 'ground': 1,\n",
       " 'night.': 1,\n",
       " 'hound': 1,\n",
       " 'avail': 1,\n",
       " 'refuse.': 1,\n",
       " 'deadlock.': 1,\n",
       " 'laura': 1,\n",
       " 'lyons': 1,\n",
       " 'difficult': 1,\n",
       " 'remain.': 1,\n",
       " 'heir': 1,\n",
       " 'baskerville.': 1,\n",
       " 'safe': 1,\n",
       " 'essential': 1,\n",
       " 'cab.': 1,\n",
       " 'conduct': 1,\n",
       " 'incline': 1,\n",
       " 'career': 1,\n",
       " 'solitary': 1,\n",
       " 'burglar.': 1,\n",
       " 'recruit': 1,\n",
       " 'wane': 1,\n",
       " 'resource': 1,\n",
       " 'undoubtedly': 1,\n",
       " 'importance.': 1,\n",
       " 'confidant': 1,\n",
       " 'unlikely': 1,\n",
       " 'anthony.': 1,\n",
       " 'connection': 1,\n",
       " 'english': 1,\n",
       " 'mire': 1,\n",
       " 'mark.': 1,\n",
       " 'probable': 1,\n",
       " 'absence': 1,\n",
       " 'purpose': 1,\n",
       " 'beast.': 1,\n",
       " 'thought': 1,\n",
       " 'game': 1,\n",
       " 'keenly': 1,\n",
       " 'clean': 1,\n",
       " 'linen.': 1,\n",
       " 'cartwright': 1,\n",
       " 'frequently': 1,\n",
       " 'truthful': 1,\n",
       " 'piece': 1,\n",
       " 'biography': 1,\n",
       " 'establish': 1,\n",
       " 'identity': 1,\n",
       " 'jury.': 1,\n",
       " 'attempt': 1,\n",
       " 'complete': 1,\n",
       " 'destruction.': 1,\n",
       " 'play.': 1,\n",
       " 'exercise': 1,\n",
       " 'influence': 1,\n",
       " 'capable': 1,\n",
       " 'jealousy': 1,\n",
       " 'difficulty.': 1,\n",
       " 'succession': 1,\n",
       " 'explain': 1,\n",
       " 'discuss': 1,\n",
       " 'cat': 1,\n",
       " 'cargo': 1,\n",
       " 'christian': 1,\n",
       " 'idolatrous': 1,\n",
       " 'bay': 1,\n",
       " 'kirkmaiden': 1,\n",
       " 'gale': 1,\n",
       " 'clear.': 1,\n",
       " 'superior': 1,\n",
       " 'inferior': 1,\n",
       " 'episode': 1,\n",
       " 'whisper': 1,\n",
       " 'india': 1,\n",
       " 'decide': 1,\n",
       " 'presence.': 1,\n",
       " 'greet': 1,\n",
       " 'silvery': 1,\n",
       " 'uniformity.': 1,\n",
       " 'absolutely': 1,\n",
       " 'nature.': 1,\n",
       " 'unknown': 1,\n",
       " 'dogmatic': 1,\n",
       " 'allow': 1,\n",
       " 'secondary': 1,\n",
       " 'action': 1,\n",
       " 'life.': 1,\n",
       " 'embody': 1,\n",
       " 'brochure': 1,\n",
       " 'fantastic': 1,\n",
       " 'baker': 1,\n",
       " 'street': 1,\n",
       " 'vanity': 1,\n",
       " 'underlie': 1,\n",
       " 'time.': 1,\n",
       " 'translate': 1,\n",
       " 'french.': 1,\n",
       " 'inference': 1,\n",
       " 'blonde': 1,\n",
       " 'dainty': 1,\n",
       " 'glove': 1,\n",
       " 'dress': 1,\n",
       " 'untrimmed': 1,\n",
       " 'unbraided': 1,\n",
       " 'wear': 1,\n",
       " 'turban': 1,\n",
       " 'dull': 1,\n",
       " 'hue': 1,\n",
       " 'post': 1,\n",
       " 'card': 1,\n",
       " 'corridor': 1,\n",
       " 'passage.': 1,\n",
       " 'cross': 1,\n",
       " 'red': 1,\n",
       " 'ink': 1,\n",
       " 'mahomet': 1,\n",
       " 'singh': 1,\n",
       " 'abdullah': 1,\n",
       " 'pillar': 1,\n",
       " 'rendezvous': 1,\n",
       " 'brisk': 1,\n",
       " 'centre': 1,\n",
       " 'glare': 1,\n",
       " 'sanctum.': 1,\n",
       " 'furnish': 1,\n",
       " 'inaccessible.': 1,\n",
       " 'chimney': 1,\n",
       " 'grate': 1,\n",
       " 'creosote.': 1,\n",
       " 'outline': 1,\n",
       " 'evil': 1,\n",
       " 'burly': 1,\n",
       " 'plethoric': 1,\n",
       " 'pair': 1,\n",
       " 'twinkle': 1,\n",
       " 'poorly': 1,\n",
       " 'educate': 1,\n",
       " 'active': 1,\n",
       " 'leg': 1,\n",
       " 'child': 1,\n",
       " 'woman.': 1,\n",
       " 'apart': 1,\n",
       " 'size': 1,\n",
       " 'express.': 1,\n",
       " 'object': 1,\n",
       " 'hold': 1,\n",
       " 'pocket': 1,\n",
       " 'pouch': 1,\n",
       " 'weave': 1,\n",
       " 'englishman': 1,\n",
       " 'chart': 1,\n",
       " 'receive': 1,\n",
       " 'unfulfilled.': 1,\n",
       " 'obvious': 1,\n",
       " 'association': 1,\n",
       " 'convict.': 1,\n",
       " 'identical': 1,\n",
       " 'faulty': 1,\n",
       " 'character.': 1,\n",
       " 'servant': 1,\n",
       " 'die.': 1,\n",
       " 'follow': 1,\n",
       " 'clearly.': 1,\n",
       " 'secret': 1,\n",
       " 'record': 1,\n",
       " 'lower': 1,\n",
       " 'bet': 1,\n",
       " 'errand.': 1,\n",
       " 'petty': 1,\n",
       " 'ambition': 1,\n",
       " 'greatness': 1,\n",
       " 'perception': 1,\n",
       " 'wharf.': 1,\n",
       " 'toby': 1,\n",
       " 'boat.': 1,\n",
       " 'punt': 1,\n",
       " 'skiff': 1,\n",
       " 'rude': 1,\n",
       " 'stage': 1,\n",
       " 'brick': 1,\n",
       " 'mace': 1,\n",
       " 'agility': 1,\n",
       " 'dart.': 1,\n",
       " 'savage': 1,\n",
       " 'hardly': 1,\n",
       " 'inhabitant': 1,\n",
       " 'peninsula': 1,\n",
       " 'distinction': 1,\n",
       " 'race': 1,\n",
       " 'earth': 1,\n",
       " 'anthropologist': 1,\n",
       " 'adult': 1,\n",
       " 'morose': 1,\n",
       " 'distort': 1,\n",
       " 'remarkably': 1,\n",
       " 'effort': 1,\n",
       " 'turn.': 1,\n",
       " 'fancy': 1,\n",
       " 'deal': 1,\n",
       " 'employ': 1,\n",
       " 'tell.': 1,\n",
       " 'determine': 1,\n",
       " 'andamans': 1,\n",
       " 'wonderful': 1,\n",
       " 'thaddeus': 1,\n",
       " 'like.': 1,\n",
       " 'make': 1,\n",
       " 'apartment.': 1,\n",
       " 'proof': 1,\n",
       " 'refuse': 1,\n",
       " 'interview': 1,\n",
       " 'green': 1,\n",
       " 'lamp.': 1,\n",
       " 'recollect': 1,\n",
       " 'annoy': 1,\n",
       " 'balk': 1,\n",
       " 'yes.': 1,\n",
       " 'fail.': 1,\n",
       " 'consideration': 1,\n",
       " 'strike.': 1,\n",
       " 'peculiar': 1,\n",
       " 'appearance': 1,\n",
       " 'spite': 1,\n",
       " 'invisibility.': 1,\n",
       " 'capacity': 1,\n",
       " 'arrest': 1,\n",
       " 'shrewd': 1,\n",
       " 'fellow': 1,\n",
       " 'yard': 1,\n",
       " 'entrance': 1,\n",
       " 'craft': 1,\n",
       " 'get': 1,\n",
       " 'bestiality': 1,\n",
       " 'cruelty.': 1,\n",
       " 'glow': 1,\n",
       " 'burn': 1,\n",
       " 'humour': 1,\n",
       " 'flask': 1,\n",
       " 'wet.': 1,\n",
       " 'weak': 1,\n",
       " 'river': 1,\n",
       " 'hum': 1,\n",
       " 'use': 1,\n",
       " 'value.': 1,\n",
       " 'key': 1,\n",
       " 'thames': 1,\n",
       " 'patient': 1,\n",
       " 'usual': 1,\n",
       " 'listless': 1,\n",
       " 'stolidly': 1,\n",
       " 'opposite': 1,\n",
       " 'laugh': 1,\n",
       " 'aloud.': 1,\n",
       " 'rupee': 1,\n",
       " 'journey.': 1,\n",
       " 'deceive': 1,\n",
       " 'spill': 1,\n",
       " 'milk.': 1,\n",
       " 'detective.': 1,\n",
       " 'ease': 1,\n",
       " 'palace': 1,\n",
       " 'money.': 1,\n",
       " 'drop': 1,\n",
       " 'mask': 1,\n",
       " 'stoicism': 1,\n",
       " 'dare': 1,\n",
       " 'heap': 1,\n",
       " 'live': 1,\n",
       " 'look.': 1,\n",
       " 'chapel': 1,\n",
       " 'folk': 1,\n",
       " 'farmer': 1,\n",
       " 'respect': 1,\n",
       " 'bungalow': 1,\n",
       " 'company': 1,\n",
       " 'european': 1,\n",
       " 'isolate': 1,\n",
       " 'door': 1,\n",
       " 'southwest': 1,\n",
       " 'proud': 1,\n",
       " 'have': 1,\n",
       " 'command': 1,\n",
       " 'raw': 1,\n",
       " 'dirty': 1,\n",
       " 'rain.': 1,\n",
       " 'dreary': 1,\n",
       " 'province': 1,\n",
       " 'wealth': 1,\n",
       " 'emerald': 1,\n",
       " 'seventy': 1,\n",
       " 'ruby': 1,\n",
       " 'carbuncle': 1,\n",
       " 'sapphire': 1,\n",
       " 'agate': 1,\n",
       " 'hope': 1,\n",
       " 'town': 1,\n",
       " 'slope': 1,\n",
       " 'mount': 1,\n",
       " 'drug': 1,\n",
       " 'window.': 1,\n",
       " 'lonesome': 1,\n",
       " 'advice': 1,\n",
       " 'cheroot': 1,\n",
       " 'shorten.': 1,\n",
       " 'half': 1,\n",
       " 'million': 1,\n",
       " 'hard': 1,\n",
       " 'comer.': 1,\n",
       " 'government': 1,\n",
       " 'stammer': 1,\n",
       " 'government.': 1,\n",
       " 'repent.': 1,\n",
       " 'fact.': 1,\n",
       " 'identify': 1,\n",
       " 'go.': 1,\n",
       " 'important': 1,\n",
       " 'nod.': 1,\n",
       " 'major.': 1,\n",
       " 'act.': 1,\n",
       " 'flinch': 1,\n",
       " 'save': 1,\n",
       " 'commission': 1,\n",
       " 'handsomely.': 1,\n",
       " 'suppose': 1,\n",
       " 'yacht': 1,\n",
       " 'voyage': 1,\n",
       " 'agra': 1,\n",
       " 'slay': 1,\n",
       " 'gentleman': 1,\n",
       " 'remark': 1}"
      ]
     },
     "execution_count": 10,
     "metadata": {},
     "output_type": "execute_result"
    }
   ],
   "source": [
    "dict"
   ]
  },
  {
   "cell_type": "markdown",
   "metadata": {
    "collapsed": false,
    "pycharm": {
     "name": "#%% md\n"
    }
   },
   "source": [
    "---\n",
    "# Archive"
   ]
  },
  {
   "cell_type": "code",
   "execution_count": null,
   "metadata": {
    "collapsed": false,
    "pycharm": {
     "name": "#%%\n"
    }
   },
   "outputs": [],
   "source": [
    "def porters_alg(text):\n",
    "    # https://vijinimallawaarachchi.com/2017/05/09/porter-stemming-algorithm/#:~:text=The%20Porter%20Stemming%20algorithm%20(or,of%20Information%20Retrieval%20(IR).\n",
    "    # https://tartarus.org/martin/PorterStemmer/\n",
    "    m = re.match(r'(\\w+?)(?=ly|es|(?<!s)s|y)', text)\n",
    "    print(m.groups())\n",
    "porters_alg('caresses days cates')"
   ]
  },
  {
   "cell_type": "code",
   "execution_count": null,
   "metadata": {
    "collapsed": false,
    "pycharm": {
     "name": "#%%\n"
    }
   },
   "outputs": [],
   "source": [
    "\n",
    "\n",
    "\n"
   ]
  },
  {
   "cell_type": "code",
   "execution_count": null,
   "metadata": {
    "collapsed": false,
    "pycharm": {
     "name": "#%%\n"
    }
   },
   "outputs": [],
   "source": [
    "raw_chapters[0]"
   ]
  },
  {
   "cell_type": "code",
   "execution_count": null,
   "metadata": {
    "collapsed": false,
    "pycharm": {
     "name": "#%%\n"
    }
   },
   "outputs": [],
   "source": [
    "raw_chapters[1]"
   ]
  },
  {
   "cell_type": "code",
   "execution_count": null,
   "metadata": {
    "collapsed": false,
    "pycharm": {
     "name": "#%%\n"
    }
   },
   "outputs": [],
   "source": [
    "list(filter(lambda c: len(c) > 50, raw_chapters))"
   ]
  },
  {
   "cell_type": "code",
   "execution_count": null,
   "metadata": {
    "collapsed": false,
    "pycharm": {
     "name": "#%%\n"
    }
   },
   "outputs": [],
   "source": [
    "from utils.regex_utils import *"
   ]
  },
  {
   "cell_type": "code",
   "execution_count": null,
   "metadata": {
    "collapsed": false,
    "pycharm": {
     "name": "#%%\n"
    }
   },
   "outputs": [],
   "source": [
    "textloc = \"books/a-study-in-scarlet.txt\"\n",
    "stopwordloc = 'project1\\stopwords.txt'\n",
    "text = GetTextFromFile(textloc)\n",
    "stopwords = GetStopWords(stopwordloc)\n",
    "clean_text = GetCleanText(text, stopwords)\n",
    "wordlist = GetUniqueWordList(clean_text)\n",
    "chapters = GetChapterTextList(text, stopwords)\n",
    "chapters_wordlist = GetChapterWordList(chapters)"
   ]
  },
  {
   "cell_type": "code",
   "execution_count": null,
   "metadata": {
    "collapsed": false,
    "pycharm": {
     "name": "#%%\n"
    }
   },
   "outputs": [],
   "source": [
    "textloc = \"books/a-study-in-scarlet.txt\"\n",
    "stopwordloc = 'project1\\stopwords.txt'\n",
    "text = GetTextFromFile(textloc)\n",
    "stopwords = GetStopWords(stopwordloc)\n",
    "clean_text = GetCleanText(text, stopwords)\n",
    "wordlist = GetUniqueWordList(clean_text)\n",
    "chapters = GetChapterTextList(text, stopwords)\n",
    "chapters_wordlist = GetChapterWordList(chapters)"
   ]
  },
  {
   "cell_type": "code",
   "execution_count": null,
   "metadata": {
    "collapsed": false,
    "pycharm": {
     "name": "#%%\n"
    }
   },
   "outputs": [],
   "source": [
    "import spacy\n",
    "nlp = spacy.load(\"en_core_web_sm\")"
   ]
  },
  {
   "cell_type": "code",
   "execution_count": null,
   "metadata": {
    "collapsed": false,
    "pycharm": {
     "name": "#%%\n"
    }
   },
   "outputs": [],
   "source": [
    "with open('stopwords.txt', 'w',encoding='utf-8') as f:\n",
    "    for w in nlp.Defaults.stop_words:\n",
    "        f.write(w + '\\n')\n"
   ]
  },
  {
   "cell_type": "code",
   "execution_count": null,
   "metadata": {
    "collapsed": false,
    "pycharm": {
     "name": "#%%\n"
    }
   },
   "outputs": [],
   "source": [
    "len(nlp.Defaults.stop_words)"
   ]
  },
  {
   "cell_type": "code",
   "execution_count": 8,
   "metadata": {
    "collapsed": false,
    "pycharm": {
     "name": "#%%\n"
    }
   },
   "outputs": [],
   "source": []
  },
  {
   "cell_type": "code",
   "execution_count": 9,
   "metadata": {
    "pycharm": {
     "name": "#%%\n"
    }
   },
   "outputs": [
    {
     "data": {
      "image/png": "[encoded data removed]",
      "text/plain": [
       "<Figure size 640x480 with 1 Axes>"
      ]
     },
     "metadata": {},
     "output_type": "display_data"
    }
   ],
   "source": [
    "\n"
   ]
  }
 ],
 "metadata": {
  "kernelspec": {
   "display_name": "Python 3.10.7 64-bit (microsoft store)",
   "language": "python",
   "name": "python3"
  },
  "language_info": {
   "codemirror_mode": {
    "name": "ipython",
    "version": 3
   },
   "file_extension": ".py",
   "mimetype": "text/x-python",
   "name": "python",
   "nbconvert_exporter": "python",
   "pygments_lexer": "ipython3",
   "version": "3.10.7"
  },
  "vscode": {
   "interpreter": {
    "hash": "d6ee315cee4c7ea33837fad28cb74c1019330b7ecb83deb883c903e2f99639fe"
   }
  }
 },
 "nbformat": 4,
 "nbformat_minor": 0
}
