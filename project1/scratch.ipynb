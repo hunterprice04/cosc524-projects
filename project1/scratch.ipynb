{
 "cells": [
  {
   "cell_type": "code",
   "execution_count": 1,
   "metadata": {
    "collapsed": false,
    "pycharm": {
     "name": "#%%\n"
    }
   },
   "outputs": [],
   "source": [
    "%load_ext autoreload\n",
    "%autoreload 2"
   ]
  },
  {
   "cell_type": "code",
   "execution_count": 2,
   "metadata": {
    "collapsed": false,
    "pycharm": {
     "name": "#%%\n"
    }
   },
   "outputs": [],
   "source": [
    "import re\n",
    "import os\n",
    "from lib import get_stop_words, get_text, get_lem_words\n",
    "from multiprocessing import Pool\n",
    "from itertools import repeat, chain\n",
    "import pickle"
   ]
  },
  {
   "cell_type": "code",
   "execution_count": 3,
   "metadata": {
    "collapsed": false,
    "pycharm": {
     "name": "#%%\n"
    }
   },
   "outputs": [],
   "source": [
    "NUM_PROCESSES = 20"
   ]
  },
  {
   "cell_type": "code",
   "execution_count": 4,
   "metadata": {
    "collapsed": false,
    "pycharm": {
     "name": "#%%\n"
    }
   },
   "outputs": [],
   "source": [
    "# project gutenberg text has a lot of extra stuff at the beginning and end\n",
    "def get_text_no_gutenberg(raw_text):\n",
    "    return re.split('^\\*\\*\\*(.*)\\*\\*\\*$', raw_text, flags=re.MULTILINE)[2]\n",
    "    \n",
    "def remove_single_letter(text):\n",
    "    text = re.sub(r'\\b\\w\\b', ' ', text)\n",
    "    return text\n",
    "\n",
    "# split the raw text into chapters\n",
    "def split_chapters(text, roman_numeral=True):\n",
    "    if roman_numeral:\n",
    "        return re.split(r'(^\\s?CHAPTER [IVXLCDM]+.*$)', text, flags=re.IGNORECASE | re.MULTILINE | re.ASCII)\n",
    "    else:\n",
    "        return re.split(r'(^\\s?CHAPTER \\d+.*$)', text, flags=re.IGNORECASE | re.MULTILINE | re.ASCII)\n",
    "\n",
    "# sometimes the contents lists chapters that are in table of contents. here we just remove chapters that are too short.\n",
    "# here we also delete the first chapter, which is just the table of contents and preface\n",
    "def chapter_longer_than(raw_chapters, n=150):\n",
    "    return list(filter(lambda c: len(c) > n, raw_chapters))\n",
    "\n",
    "# split remove stopwords\n",
    "def remove_stopwords(text, stopwords):\n",
    "    return re.sub(r'\\b(' + '|'.join(stopwords) + r')\\b', '', text)\n",
    "\n",
    "def expand_apostrophe_s(text):\n",
    "    return re.sub(r\"(\\w)'s\", r\"\\1 is\", text)\n",
    "\n",
    "# theres a ton of whitespace that we dont want\n",
    "def remove_extra_spaces(text):\n",
    "    text = re.sub(r'\\t', ' ', text)\n",
    "    text = re.sub(r'\\s+', ' ', text)\n",
    "    return text\n",
    "\n",
    "def replace_common_dots(text):\n",
    "    text =  re.sub(r'dr\\.', 'dr ', text)\n",
    "    text =  re.sub(r'mr\\. ', 'mr ', text)\n",
    "    return text\n",
    "\n",
    "def compress_abbr(text):\n",
    "    pattern = r'\\b(?:[a-zA-Z]\\.){2,}\\b.*?'\n",
    "    matches = re.finditer(pattern, text, re.MULTILINE | re.IGNORECASE)\n",
    "    abbr = set(map(lambda m: m.group(), matches))\n",
    "    for a in abbr:\n",
    "        text = text.replace(a, a.replace('.', ''))\n",
    "    return text\n",
    "\n",
    "def get_lem(fn):\n",
    "    lem = {}\n",
    "    lem_regex = []\n",
    "    with open(fn, 'r', encoding='utf-8-sig') as f:\n",
    "        for i in f:\n",
    "            text = [j for j in i.lower().split()]\n",
    "            if text[0] not in lem:\n",
    "                lem[text[0]] = [text[1]]\n",
    "            else:\n",
    "                lem[text[0]].append(text[1])\n",
    "    for word, lemmas in lem.items():\n",
    "        lem_regex.append([word, fr'\\b({\"|\".join(lemmas)})\\b'])\n",
    "    return lem_regex\n",
    "def remove_punctuation(text):\n",
    "    text = re.sub(r'[^\\w\\s]', lambda m: \".\" if m.group(0) == \".\" else \" \", text)\n",
    "    return text\n",
    "\n",
    "def split_sentences(text):\n",
    "    return re.split(r\"[.]\", text)\n",
    "\n",
    "def lemmatization(text, lem):\n",
    "    for lemma, lem_regex in lem:\n",
    "        text = re.sub(lem_regex, lemma, text)\n",
    "    return text\n",
    "\n",
    "def trim(text):\n",
    "    for i in range(len(text)):\n",
    "        text[i] = text[i].strip()\n",
    "    return text"
   ]
  },
  {
   "cell_type": "code",
   "execution_count": 5,
   "metadata": {
    "pycharm": {
     "name": "#%%\n"
    }
   },
   "outputs": [],
   "source": [
    "books = [\n",
    "    {\n",
    "        'fn': 'a-study-in-scarlet.txt',\n",
    "        'roman_numeral': True,\n",
    "        'remove_first_chapter': True,\n",
    "    },\n",
    "    {\n",
    "        'fn': 'the-valley-of-fear.txt',\n",
    "        'roman_numeral': False,\n",
    "        'remove_first_chapter': True\n",
    "    },\n",
    "    {\n",
    "        'fn': 'the-hound-of-the-baskervilles.txt',\n",
    "        'roman_numeral': False,\n",
    "        'remove_first_chapter': True,\n",
    "    },\n",
    "    {\n",
    "        'fn':  'the-mystery-of-cloomber.txt',\n",
    "        'roman_numeral': True,\n",
    "        'remove_first_chapter': True,\n",
    "    },\n",
    "    {\n",
    "        'fn': 'the-sign-of-four.txt',\n",
    "        'roman_numeral': True,\n",
    "        'remove_first_chapter': True,\n",
    "    },\n",
    "]"
   ]
  },
  {
   "cell_type": "code",
   "execution_count": 6,
   "metadata": {
    "collapsed": false,
    "pycharm": {
     "name": "#%%\n"
    }
   },
   "outputs": [],
   "source": [
    "basedir = '../books/'\n",
    "stop_words = get_stop_words('stopwords.txt')\n",
    "lem = get_lem('lemmatization-en.txt')\n",
    "book_i = 2\n",
    "book_fn = books[book_i]['fn']\n",
    "book_rom_num = books[book_i]['roman_numeral']\n",
    "remove_first_chapter = books[book_i]['remove_first_chapter']\n",
    "\n",
    "\n",
    "def clean_by_chapter(raw_chapter, stop_words, lem):\n",
    "    raw_chapter = remove_extra_spaces(raw_chapter)\n",
    "    raw_chapter = replace_common_dots(raw_chapter)\n",
    "    raw_chapter = compress_abbr(raw_chapter)\n",
    "    raw_chapter = remove_extra_spaces(raw_chapter)\n",
    "    raw_chapter = expand_apostrophe_s(raw_chapter)\n",
    "    raw_chapter = remove_extra_spaces(raw_chapter)\n",
    "    raw_chapter = remove_punctuation(raw_chapter)\n",
    "    raw_chapter = remove_extra_spaces(raw_chapter)\n",
    "    raw_chapter = remove_stopwords(raw_chapter, stop_words)\n",
    "    raw_chapter = lemmatization(raw_chapter, lem)\n",
    "    raw_chapter = remove_extra_spaces(raw_chapter)\n",
    "    return raw_chapter\n",
    "\n",
    "\n",
    "def clean_all_text(book_fn, base_dir, stop_words, lem, book_rom_num, remove_first_chapter):\n",
    "\n",
    "    # get the raw text and make it all lower case\n",
    "    raw_text = get_text(book_fn, base_dir)\n",
    "    raw_text = raw_text.lower()\n",
    "    raw_text = get_text_no_gutenberg(raw_text)\n",
    "\n",
    "    # split into chapters so we can parallelize all of the text operations\n",
    "    raw_chapters = split_chapters(raw_text, book_rom_num)\n",
    "\n",
    "    # keep only the chapter's texts and none of the preface and content info\n",
    "    longer_than_n = list(map(lambda c: len(c) > 100, raw_chapters))\n",
    "    longer_than_n[0] = longer_than_n[0] if not remove_first_chapter else False\n",
    "    chapt_start = next(i for i,v in enumerate(longer_than_n) if v)\n",
    "    raw_chapters = raw_chapters[chapt_start::2]\n",
    "\n",
    "    # map the cleaning operations onto each chapter\n",
    "    with Pool(NUM_PROCESSES) as pool:\n",
    "        raw_chapters = pool.starmap(clean_by_chapter, zip(raw_chapters, repeat(stop_words), repeat(lem)))\n",
    "\n",
    "    # split each chapter into sentences\n",
    "    def sentence_helper(text):\n",
    "        s = split_sentences(text)\n",
    "        s = trim(s)\n",
    "        s = list(filter(lambda x: x != '', s))\n",
    "        return s\n",
    "    raw_chapter_sentences = list(map(sentence_helper, raw_chapters))\n",
    "\n",
    "    # rejoin the sentences from the cleaned chapter sentences so we can remove empty sentences\n",
    "    raw_chapters = list(map(lambda x: '. '.join(x), raw_chapter_sentences))\n",
    "    raw_chapters = list(map(remove_extra_spaces, raw_chapters))\n",
    "\n",
    "    # rejoin the clean text by joining all of the chapters sentences\n",
    "    raw_text = '. '.join(chain(*raw_chapter_sentences))\n",
    "    raw_text = remove_extra_spaces(raw_text)\n",
    "\n",
    "    # here we are seperating each sentence by new line and appending the chapter and sentence number to the beginning of each sentence\n",
    "    marked_text = ''\n",
    "    for i in range(len(raw_chapter_sentences)):\n",
    "        for j in range(len(raw_chapter_sentences[i])):\n",
    "            marked_text += f'((({i};;;{j}))) {raw_chapter_sentences[i][j]}\\n'\n",
    "    return raw_text, raw_chapters, raw_chapter_sentences, marked_text\n",
    "\n"
   ]
  },
  {
   "cell_type": "code",
   "execution_count": 7,
   "outputs": [],
   "source": [
    "book_i = 1\n",
    "book_fn = books[book_i]['fn']\n",
    "book_rom_num = books[book_i]['roman_numeral']\n",
    "remove_first_chapter = books[book_i]['remove_first_chapter']\n",
    "raw_text, raw_chapters, raw_chapter_sentences, marked_text = clean_all_text(book_fn, basedir, stop_words, lem, book_rom_num, remove_first_chapter)\n"
   ],
   "metadata": {
    "collapsed": false,
    "pycharm": {
     "name": "#%%\n"
    }
   }
  },
  {
   "cell_type": "code",
   "execution_count": 8,
   "metadata": {
    "collapsed": false,
    "pycharm": {
     "name": "#%%\n"
    }
   },
   "outputs": [],
   "source": [
    "# save the cleaned text\n",
    "def save_cleaned_text(book_fn, base_dir, raw_text, raw_chapters, raw_chapter_sentences, marked_text):\n",
    "    with open(os.path.join(base_dir, book_fn + '_cleaned.txt'), 'w', encoding='utf-8') as f:\n",
    "        f.write(raw_text)\n",
    "    with open(os.path.join(base_dir, book_fn + '_cleaned_chapters.pkl'), 'wb') as f:\n",
    "        pickle.dump(raw_chapters, f)\n",
    "    with open(os.path.join(base_dir, book_fn + '_cleaned_chapter_sentences.pkl'), 'wb') as f:\n",
    "        pickle.dump(raw_chapter_sentences, f)\n",
    "    with open(os.path.join(base_dir, book_fn + '_cleaned_marked.txt'), 'w', encoding='utf-8') as f:\n",
    "        f.write(marked_text)\n",
    "\n",
    "# read in the cleaned text\n",
    "def read_cleaned_text(book_fn, base_dir):\n",
    "    with open(os.path.join(base_dir, book_fn + '_cleaned.txt'), 'r', encoding='utf-8') as f:\n",
    "        raw_text = f.read()\n",
    "    with open(os.path.join(base_dir, book_fn + '_cleaned_chapters.pkl'), 'rb') as f:\n",
    "        raw_chapters = pickle.load(f)\n",
    "    with open(os.path.join(base_dir, book_fn + '_cleaned_chapter_sentences.pkl'), 'rb') as f:\n",
    "        raw_chapter_sentences = pickle.load(f)\n",
    "    with open(os.path.join(base_dir, book_fn + '_cleaned_marked.txt'), 'r', encoding='utf-8') as f:\n",
    "        marked_text = f.read()\n",
    "\n",
    "    return raw_text, raw_chapters, raw_chapter_sentences, marked_text"
   ]
  },
  {
   "cell_type": "code",
   "execution_count": 9,
   "metadata": {
    "collapsed": false,
    "pycharm": {
     "name": "#%%\n"
    }
   },
   "outputs": [
    {
     "name": "stdout",
     "output_type": "stream",
     "text": [
      "Cleaning a-study-in-scarlet.txt\n",
      "Saving a-study-in-scarlet.txt\n",
      "Cleaning the-valley-of-fear.txt\n",
      "Saving the-valley-of-fear.txt\n",
      "Cleaning the-hound-of-the-baskervilles.txt\n",
      "Saving the-hound-of-the-baskervilles.txt\n",
      "Cleaning the-mystery-of-cloomber.txt\n",
      "Saving the-mystery-of-cloomber.txt\n",
      "Cleaning the-sign-of-four.txt\n",
      "Saving the-sign-of-four.txt\n"
     ]
    }
   ],
   "source": [
    "# go through the process of cleaning the text then write out the cleaned text to files\n",
    "basedir = '../books/'\n",
    "stop_words = get_stop_words('stopwords.txt')\n",
    "lem = get_lem('lemmatization-en.txt')\n",
    "\n",
    "for book_i in range(len(books)):\n",
    "    book_fn = books[book_i]['fn']\n",
    "    book_rom_num = books[book_i]['roman_numeral']\n",
    "    remove_first_chapter = books[book_i]['remove_first_chapter']\n",
    "\n",
    "    print(f'Cleaning {book_fn}')\n",
    "    raw_text, raw_chapters, raw_chapter_sentences, marked_text = clean_all_text(book_fn, basedir, stop_words, lem, book_rom_num,remove_first_chapter)\n",
    "    print(f'Saving {book_fn}')\n",
    "    save_cleaned_text(book_fn, 'clean-data', raw_text, raw_chapters, raw_chapter_sentences, marked_text)\n"
   ]
  },
  {
   "cell_type": "code",
   "execution_count": 10,
   "metadata": {
    "collapsed": false,
    "pycharm": {
     "name": "#%%\n"
    }
   },
   "outputs": [],
   "source": [
    "# example of reading in cleaned text\n",
    "book_i = 1\n",
    "book_fn = books[book_i]['fn']\n",
    "raw_text, raw_chapters, raw_chapter_sentences, marked_text = read_cleaned_text(book_fn, 'clean-data')"
   ]
  },
  {
   "cell_type": "code",
   "execution_count": 11,
   "metadata": {
    "collapsed": false,
    "pycharm": {
     "name": "#%%\n"
    }
   },
   "outputs": [
    {
     "data": {
      "text/plain": "'incline think say. sherlock holmes remark impatiently. believe long suffer mortal will admit annoy sardonic interruption. holmes say severely little try time. absorb thought immediate answer remonstrance. lean hand untasted breakfast stare slip paper draw envelope. take envelope hold light carefully study exterior flap. porlock write say thoughtfully. hardly doubt porlock write see twice. greek e peculiar flourish distinctive. porlock importance. speak vexation disappear interest word awaken. porlock ask. porlock watson nom de plume mere identification mark lie shifty evasive personality. letter frankly inform defy trace teem million great city. porlock important great man touch. picture pilot fish shark jackal lion insignificant companionship formidable formidable watson sinister high degree sinister. come purview. hear speak professor moriarty famous scientific criminal famous crook blush watson holmes murmur deprecate voice. unknown public. touch distinct touch cry holmes. develop c'"
     },
     "execution_count": 11,
     "metadata": {},
     "output_type": "execute_result"
    }
   ],
   "source": [
    "raw_text[:1000]"
   ]
  },
  {
   "cell_type": "code",
   "execution_count": 12,
   "metadata": {
    "collapsed": false,
    "pycharm": {
     "name": "#%%\n"
    }
   },
   "outputs": [
    {
     "data": {
      "text/plain": "'incline think say. sherlock holmes remark impatiently. believe long suffer mortal will admit annoy sardonic interruption. holmes say severely little try time. absorb thought immediate answer remonstrance. lean hand untasted breakfast stare slip paper draw envelope. take envelope hold light carefully study exterior flap. porlock write say thoughtfully. hardly doubt porlock write see twice. greek e peculiar flourish distinctive. porlock importance. speak vexation disappear interest word awaken. porlock ask. porlock watson nom de plume mere identification mark lie shifty evasive personality. letter frankly inform defy trace teem million great city. porlock important great man touch. picture pilot fish shark jackal lion insignificant companionship formidable formidable watson sinister high degree sinister. come purview. hear speak professor moriarty famous scientific criminal famous crook blush watson holmes murmur deprecate voice. unknown public. touch distinct touch cry holmes. develop c'"
     },
     "execution_count": 12,
     "metadata": {},
     "output_type": "execute_result"
    }
   ],
   "source": [
    "raw_chapters[0][:1000]"
   ]
  },
  {
   "cell_type": "code",
   "execution_count": 13,
   "metadata": {
    "collapsed": false,
    "pycharm": {
     "name": "#%%\n"
    }
   },
   "outputs": [
    {
     "data": {
      "text/plain": "['incline think say',\n 'sherlock holmes remark impatiently',\n 'believe long suffer mortal will admit annoy sardonic interruption',\n 'holmes say severely little try time',\n 'absorb thought immediate answer remonstrance',\n 'lean hand untasted breakfast stare slip paper draw envelope',\n 'take envelope hold light carefully study exterior flap',\n 'porlock write say thoughtfully',\n 'hardly doubt porlock write see twice',\n 'greek e peculiar flourish distinctive']"
     },
     "execution_count": 13,
     "metadata": {},
     "output_type": "execute_result"
    }
   ],
   "source": [
    "raw_chapter_sentences[0][:10]"
   ]
  },
  {
   "cell_type": "code",
   "execution_count": 14,
   "outputs": [],
   "source": [
    "def get_chapter_sentence(marked_text, word):\n",
    "    pattern = rf'^\\(\\(\\((\\d+;;;\\d+)\\)\\)\\).*?\\b({word})\\b.*?$'\n",
    "    matches = re.finditer(pattern, marked_text, re.MULTILINE | re.IGNORECASE)\n",
    "    return list(matches)\n"
   ],
   "metadata": {
    "collapsed": false,
    "pycharm": {
     "name": "#%%\n"
    }
   }
  },
  {
   "cell_type": "markdown",
   "source": [
    "---\n",
    "# A Study in Scarlet"
   ],
   "metadata": {
    "collapsed": false,
    "pycharm": {
     "name": "#%% md\n"
    }
   }
  },
  {
   "cell_type": "code",
   "execution_count": 15,
   "outputs": [
    {
     "name": "stdout",
     "output_type": "stream",
     "text": [
      "(((0;;;0))) year 1878 take degree doctor medicine university london proceed netley course prescribe surgeon army\n",
      "(((0;;;1))) have complete study duly attach 5 northumberland fusilier assistant surgeon\n",
      "(((0;;;2))) regiment station india time join 2 afghan war break\n",
      "(((0;;;3))) land bombay learn corp advance pass deep enemy s country\n",
      "(((0;;;4))) follow officer situation succeed reach candahar safety find regiment enter new duty\n",
      "(((0;;;5))) campaign bring honour promotion misfortune disaster\n",
      "(((0;;;6))) remove brigade attach berkshires serve fatal battle maiwand\n",
      "(((0;;;7))) strike shoulder jezail bullet shatter bone graze subclavian artery\n",
      "(((0;;;8))) fall hand murderous ghazis devotion courage show murray orderly throw pack horse succeed bring safely british line\n",
      "(((0;;;9))) wear pain weak prolong hardship undergo remove great train wound sufferer base hospital peshawar\n",
      "(((0;;;10))) rally improve far able walk ward bask little verandah strike enteric fever curse indian possession\n",
      "(((0;;;\n"
     ]
    }
   ],
   "source": [
    "book_i = 0\n",
    "book_fn = books[book_i]['fn']\n",
    "raw_text, raw_chapters, raw_chapter_sentences, marked_text = read_cleaned_text(book_fn, 'clean-data')\n",
    "print(marked_text[:1000])"
   ],
   "metadata": {
    "collapsed": false,
    "pycharm": {
     "name": "#%%\n"
    }
   }
  },
  {
   "cell_type": "markdown",
   "source": [
    "## 1. When does the detective (or a pair) occur for the first time - chapter #, the sentence(s) # in a chapter"
   ],
   "metadata": {
    "collapsed": false,
    "pycharm": {
     "name": "#%% md\n"
    }
   }
  },
  {
   "cell_type": "code",
   "execution_count": 16,
   "outputs": [
    {
     "name": "stdout",
     "output_type": "stream",
     "text": [
      "<re.Match object; span=(2835, 2902), match='(((0;;;36))) don t know sherlock holmes say care >\n",
      "<re.Match object; span=(2835, 2902), match='(((0;;;36))) don t know sherlock holmes say care >\n",
      "<re.Match object; span=(2835, 2902), match='(((0;;;36))) don t know sherlock holmes say care >\n"
     ]
    }
   ],
   "source": [
    "print(get_chapter_sentence(marked_text, 'sherlock holmes')[0])\n",
    "print(get_chapter_sentence(marked_text, 'sherlock')[0])\n",
    "print(get_chapter_sentence(marked_text, 'holmes')[0])\n"
   ],
   "metadata": {
    "collapsed": false,
    "pycharm": {
     "name": "#%%\n"
    }
   }
  },
  {
   "cell_type": "markdown",
   "source": [
    "# A Sign of Four"
   ],
   "metadata": {
    "collapsed": false,
    "pycharm": {
     "name": "#%% md\n"
    }
   }
  },
  {
   "cell_type": "markdown",
   "source": [
    "## When does the detective (or a pair) occur for the first time - chapter #, the sentence(s) # in a chapter"
   ],
   "metadata": {
    "collapsed": false,
    "pycharm": {
     "name": "#%% md\n"
    }
   }
  },
  {
   "cell_type": "code",
   "execution_count": null,
   "outputs": [],
   "source": [],
   "metadata": {
    "collapsed": false,
    "pycharm": {
     "name": "#%%\n"
    }
   }
  },
  {
   "cell_type": "code",
   "execution_count": 26,
   "metadata": {
    "collapsed": false,
    "pycharm": {
     "name": "#%%\n"
    }
   },
   "outputs": [
    {
     "data": {
      "text/plain": "'(((0;;;0))) sherlock holmes discourse dramatic moment friend exist\\n(((0;;;1))) overstatement shock excite amaze announcement\\n(((0;;;2))) have tinge cruelty singular composition undoubtedly callous long overstimulation\\n(((0;;;3))) emotion dull intellectual perception exceedingly active\\n(((0;;;4))) trace horror feel curt declaration face show quiet interest composure chemist see crystal fall position oversaturated solution\\n(((0;;;5))) remarkable say\\n(((0;;;6))) remarkable don t surprise\\n(((0;;;7))) interest mr mac hardly surprise\\n(((0;;;8))) surprise receive anonymous communication quarter know important warn danger threaten certain person\\n(((0;;;9))) hour learn danger actually materialize person dead\\n(((0;;;10))) interest observe surprise\\n(((0;;;11))) short sentence explain inspector fact letter cipher\\n(((0;;;12))) macdonald sit chin hand great sandy eyebrow bunch yellow tangle\\n(((0;;;13))) go birlstone morning say\\n(((0;;;14))) come ask care come friend\\n(((0;;;15))) good work london\\n((('"
     },
     "execution_count": 26,
     "metadata": {},
     "output_type": "execute_result"
    }
   ],
   "source": [
    "marked_text[:1000]"
   ]
  },
  {
   "cell_type": "code",
   "execution_count": 165,
   "metadata": {
    "collapsed": false,
    "pycharm": {
     "name": "#%%\n"
    }
   },
   "outputs": [],
   "source": []
  },
  {
   "cell_type": "code",
   "execution_count": 166,
   "metadata": {
    "collapsed": false,
    "pycharm": {
     "name": "#%%\n"
    }
   },
   "outputs": [
    {
     "data": {
      "text/plain": [
       "[<re.Match object; span=(0, 122), match='(((0;;;0))) mr sherlock holmes mr sherlock holmes>,\n",
       " <re.Match object; span=(3652, 3746), match='(((0;;;59))) laugh incredulously sherlock holmes >,\n",
       " <re.Match object; span=(5358, 5506), match='(((0;;;86))) dr james mortimer man science ask sh>,\n",
       " <re.Match object; span=(6549, 6614), match='(((0;;;107))) presume mr sherlock holmes address >,\n",
       " <re.Match object; span=(6972, 7028), match='(((0;;;114))) sherlock holmes wave strange visito>,\n",
       " <re.Match object; span=(13262, 13366), match='(((1;;;67))) dr mortimer finish read singular nar>,\n",
       " <re.Match object; span=(17163, 17257), match='(((1;;;112))) thank say sherlock holmes call atte>,\n",
       " <re.Match object; span=(21976, 22039), match='(((2;;;33))) sherlock holmes strike hand knee imp>,\n",
       " <re.Match object; span=(30584, 30683), match='(((3;;;5))) yes say strange thing mr sherlock hol>,\n",
       " <re.Match object; span=(31966, 32006), match='(((3;;;29))) promise say sherlock holmes'>,\n",
       " <re.Match object; span=(36858, 36922), match='(((3;;;106))) singularly useless thing steal say >,\n",
       " <re.Match object; span=(43137, 43213), match='(((4;;;0))) break thread sherlock holmes remarkab>,\n",
       " <re.Match object; span=(50088, 50146), match='(((4;;;133))) difficulty vanish easily say sherlo>,\n",
       " <re.Match object; span=(51923, 51957), match='(((4;;;168))) sherlock holmes note'>,\n",
       " <re.Match object; span=(52418, 52469), match='(((4;;;179))) mention say cabman mr sherlock holm>,\n",
       " <re.Match object; span=(52728, 52775), match='(((4;;;186))) sherlock holmes yes sir gentleman'>,\n",
       " <re.Match object; span=(53460, 53533), match='(((4;;;201))) leave turn round say interest know >,\n",
       " <re.Match object; span=(53587, 53648), match='(((4;;;204))) describe mr sherlock holmes cabman >,\n",
       " <re.Match object; span=(54697, 54769), match='(((5;;;1))) mr sherlock holmes drive station give>,\n",
       " <re.Match object; span=(68493, 68535), match='(((6;;;27))) answer report sherlock holmes'>,\n",
       " <re.Match object; span=(71576, 71701), match='(((6;;;71))) mr sherlock holmes word take away br>,\n",
       " <re.Match object; span=(71842, 71921), match='(((6;;;75))) follow mr sherlock holmes interest m>,\n",
       " <re.Match object; span=(82731, 82839), match='(((7;;;0))) report dr watson point onward follow >,\n",
       " <re.Match object; span=(110428, 110519), match='(((9;;;0))) extract diary dr watson far able quot>,\n",
       " <re.Match object; span=(119123, 119162), match='(((9;;;169))) live year sherlock holmes'>,\n",
       " <re.Match object; span=(148597, 148658), match='(((11;;;214))) think mr sherlock holmes friend bo>,\n",
       " <re.Match object; span=(151476, 151575), match='(((12;;;0))) fix net sir henry please surprise sh>,\n",
       " <re.Match object; span=(159165, 159269), match='(((12;;;147))) laura lyons office sherlock holmes>,\n",
       " <re.Match object; span=(160175, 160220), match='(((12;;;169))) sherlock holmes shrug shoulder'>,\n",
       " <re.Match object; span=(161073, 161130), match='(((12;;;187))) entirely believe madam say sherloc>,\n",
       " <re.Match object; span=(161824, 161881), match='(((12;;;200))) think fortunate escape say sherloc>,\n",
       " <re.Match object; span=(162989, 163111), match='(((13;;;0))) hound baskervilles sherlock holmes d>]"
      ]
     },
     "execution_count": 166,
     "metadata": {},
     "output_type": "execute_result"
    }
   ],
   "source": [
    "matches"
   ]
  },
  {
   "cell_type": "code",
   "execution_count": null,
   "metadata": {
    "collapsed": false,
    "pycharm": {
     "name": "#%%\n"
    }
   },
   "outputs": [],
   "source": [
    "def porters_alg(text):\n",
    "    # https://vijinimallawaarachchi.com/2017/05/09/porter-stemming-algorithm/#:~:text=The%20Porter%20Stemming%20algorithm%20(or,of%20Information%20Retrieval%20(IR).\n",
    "    # https://tartarus.org/martin/PorterStemmer/\n",
    "    m = re.match(r'(\\w+?)(?=ly|es|(?<!s)s|y)', text)\n",
    "    print(m.groups())\n",
    "porters_alg('caresses days cates')"
   ]
  },
  {
   "cell_type": "code",
   "execution_count": null,
   "metadata": {
    "collapsed": false,
    "pycharm": {
     "name": "#%%\n"
    }
   },
   "outputs": [],
   "source": [
    "\n",
    "\n",
    "\n"
   ]
  },
  {
   "cell_type": "code",
   "execution_count": null,
   "metadata": {
    "collapsed": false,
    "pycharm": {
     "name": "#%%\n"
    }
   },
   "outputs": [],
   "source": [
    "raw_chapters[0]"
   ]
  },
  {
   "cell_type": "code",
   "execution_count": null,
   "metadata": {
    "collapsed": false,
    "pycharm": {
     "name": "#%%\n"
    }
   },
   "outputs": [],
   "source": [
    "raw_chapters[1]"
   ]
  },
  {
   "cell_type": "code",
   "execution_count": null,
   "metadata": {
    "collapsed": false,
    "pycharm": {
     "name": "#%%\n"
    }
   },
   "outputs": [],
   "source": [
    "list(filter(lambda c: len(c) > 50, raw_chapters))"
   ]
  },
  {
   "cell_type": "code",
   "execution_count": null,
   "metadata": {
    "collapsed": false,
    "pycharm": {
     "name": "#%%\n"
    }
   },
   "outputs": [],
   "source": [
    "from utils.regex_utils import *"
   ]
  },
  {
   "cell_type": "code",
   "execution_count": null,
   "metadata": {
    "collapsed": false,
    "pycharm": {
     "name": "#%%\n"
    }
   },
   "outputs": [],
   "source": [
    "textloc = \"books/a-study-in-scarlet.txt\"\n",
    "stopwordloc = 'project1\\stopwords.txt'\n",
    "text = GetTextFromFile(textloc)\n",
    "stopwords = GetStopWords(stopwordloc)\n",
    "clean_text = GetCleanText(text, stopwords)\n",
    "wordlist = GetUniqueWordList(clean_text)\n",
    "chapters = GetChapterTextList(text, stopwords)\n",
    "chapters_wordlist = GetChapterWordList(chapters)"
   ]
  },
  {
   "cell_type": "code",
   "execution_count": null,
   "metadata": {
    "collapsed": false,
    "pycharm": {
     "name": "#%%\n"
    }
   },
   "outputs": [],
   "source": [
    "textloc = \"books/a-study-in-scarlet.txt\"\n",
    "stopwordloc = 'project1\\stopwords.txt'\n",
    "text = GetTextFromFile(textloc)\n",
    "stopwords = GetStopWords(stopwordloc)\n",
    "clean_text = GetCleanText(text, stopwords)\n",
    "wordlist = GetUniqueWordList(clean_text)\n",
    "chapters = GetChapterTextList(text, stopwords)\n",
    "chapters_wordlist = GetChapterWordList(chapters)"
   ]
  },
  {
   "cell_type": "code",
   "execution_count": null,
   "metadata": {
    "collapsed": false,
    "pycharm": {
     "name": "#%%\n"
    }
   },
   "outputs": [],
   "source": [
    "import spacy\n",
    "nlp = spacy.load(\"en_core_web_sm\")"
   ]
  },
  {
   "cell_type": "code",
   "execution_count": null,
   "metadata": {
    "collapsed": false,
    "pycharm": {
     "name": "#%%\n"
    }
   },
   "outputs": [],
   "source": [
    "with open('stopwords.txt', 'w',encoding='utf-8') as f:\n",
    "    for w in nlp.Defaults.stop_words:\n",
    "        f.write(w + '\\n')\n"
   ]
  },
  {
   "cell_type": "code",
   "execution_count": null,
   "metadata": {
    "collapsed": false,
    "pycharm": {
     "name": "#%%\n"
    }
   },
   "outputs": [],
   "source": [
    "len(nlp.Defaults.stop_words)"
   ]
  },
  {
   "cell_type": "code",
   "execution_count": 8,
   "metadata": {
    "collapsed": false,
    "pycharm": {
     "name": "#%%\n"
    }
   },
   "outputs": [],
   "source": [
    "from groupings import *"
   ]
  },
  {
   "cell_type": "code",
   "execution_count": 9,
   "metadata": {},
   "outputs": [
    {
     "data": {
      "image/png": "[encoded data removed]",
      "text/plain": [
       "<Figure size 640x480 with 1 Axes>"
      ]
     },
     "metadata": {},
     "output_type": "display_data"
    }
   ],
   "source": [
    "dict = count_occurences(find_groupings(raw_text, 'hope')) #a study in scarlet\n",
    "dict = count_occurences(find_groupings(raw_text, 'lupin')) #arsene lupin versus sherlock holmes\n",
    "dict = count_occurences(find_groupings(raw_text, 'stapleton')) #the hound of the baskervilles\n",
    "dict = count_occurences(find_groupings(raw_text, 'priest')) #mystery of cloomber\n",
    "dict = count_occurences(find_groupings(raw_text, 'small')) #the sign of four\n",
    "\n",
    "# print(dict)\n",
    "\n",
    "graph_occurences(dict)\n"
   ]
  }
 ],
 "metadata": {
  "kernelspec": {
   "display_name": "Python 3.10.7 64-bit (microsoft store)",
   "language": "python",
   "name": "python3"
  },
  "language_info": {
   "codemirror_mode": {
    "name": "ipython",
    "version": 3
   },
   "file_extension": ".py",
   "mimetype": "text/x-python",
   "name": "python",
   "nbconvert_exporter": "python",
   "pygments_lexer": "ipython3",
   "version": "3.10.7"
  },
  "vscode": {
   "interpreter": {
    "hash": "d6ee315cee4c7ea33837fad28cb74c1019330b7ecb83deb883c903e2f99639fe"
   }
  }
 },
 "nbformat": 4,
 "nbformat_minor": 0
}